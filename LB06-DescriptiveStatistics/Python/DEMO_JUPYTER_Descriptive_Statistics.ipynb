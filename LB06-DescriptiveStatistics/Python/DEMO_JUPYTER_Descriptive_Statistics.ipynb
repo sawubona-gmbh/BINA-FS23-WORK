{
  "cells": [
    {
      "cell_type": "markdown",
      "source": [
        "# **Jupyter Notebook to demonstrate the basics  of Descriptive Statistics**\n",
        "Welcome to the notebook on descriptive statistics. Statistics is a very large field. People even go to grad school for it. For our site here, we will focus on some of the big hitters in statistics that make you a good data scientist.\n",
        "\n",
        "Descriptive statistics are measurements that describe a population (or sample of that population) of values. They tell you where the center tends to be, how spread out the values are, the shape of the distribution, and a bunch of other things. \n",
        "But here we focus on some of the simpler values that you have to know to consider yourself a newbie in data science. \n",
        "\n",
        "\n",
        "The git repository for this notebook (and all notebooks) is found [here](https://github.com/eds-admin/eds-blog/blob/master/Statistics/Descriptive%20Statistics.ipynb). \n",
        "\n",
        "### Useful resources:\n",
        "* [Online Stat Book](http://onlinestatbook.com/)\n",
        "* [Free books to learn Statistics](https://www.kdnuggets.com/2020/12/5-free-books-learn-statistics-data-science.html)\n",
        "\n",
        "---\n",
        "Author: \n",
        "*   dr.daniel benninger  \n",
        "\n",
        "History: \n",
        "*  v1, January 2022, dbe --- initial version for CAS BIA12"
      ],
      "metadata": {
        "cell_id": "00001-713f0223-cbf2-42a0-b413-ab2f407d8e8a",
        "deepnote_cell_type": "markdown",
        "id": "NiDGHoeJHEpn"
      }
    },
    {
      "cell_type": "markdown",
      "source": [
        "<h1>Table of Contents<span class=\"tocSkip\"></span></h1>\n",
        "<div class=\"toc\"><ul class=\"toc-item\"><li><span><a href=\"#Descriptive-Statistics\" data-toc-modified-id=\"Descriptive-Statistics-1\">Descriptive Statistics</a></span><ul class=\"toc-item\"><li><span><a href=\"#Requirements\" data-toc-modified-id=\"Requirements-1.1\">Requirements</a></span></li><li><span><a href=\"#Useful-Python-functions\" data-toc-modified-id=\"Useful-Python-functions-1.2\">Useful Python functions</a></span><ul class=\"toc-item\"><li><span><a href=\"#Random\" data-toc-modified-id=\"Random-1.2.1\">Random</a></span></li><li><span><a href=\"#len()-&amp;-sum()\" data-toc-modified-id=\"len()-&amp;-sum()-1.2.2\"><code>len()</code> &amp; <code>sum()</code></a></span></li><li><span><a href=\"#max()-&amp;-min()\" data-toc-modified-id=\"max()-&amp;-min()-1.2.3\"><code>max()</code> &amp; <code>min()</code></a></span></li><li><span><a href=\"#sorted()\" data-toc-modified-id=\"sorted()-1.2.4\"><code>sorted()</code></a></span></li></ul></li><li><span><a href=\"#The-Mean\" data-toc-modified-id=\"The-Mean-1.3\">The Mean</a></span><ul class=\"toc-item\"><li><span><a href=\"#1.-Arithmetic-mean\" data-toc-modified-id=\"1.-Arithmetic-mean-1.3.1\">1. Arithmetic mean</a></span></li><li><span><a href=\"#2.-Geometric-mean\" data-toc-modified-id=\"2.-Geometric-mean-1.3.2\">2. Geometric mean</a></span></li><li><span><a href=\"#3.-Harmonic-mean\" data-toc-modified-id=\"3.-Harmonic-mean-1.3.3\">3. Harmonic mean</a></span></li></ul></li><li><span><a href=\"#The-Median\" data-toc-modified-id=\"The-Median-1.4\">The Median</a></span></li><li><span><a href=\"#The-Mode\" data-toc-modified-id=\"The-Mode-1.5\">The Mode</a></span></li><li><span><a href=\"#Percentiles\" data-toc-modified-id=\"Percentiles-1.6\">Percentiles</a></span></li><li><span><a href=\"#The-Boxplot\" data-toc-modified-id=\"The-Boxplot-1.7\">The Boxplot</a></span></li><li><span><a href=\"#Histogram\" data-toc-modified-id=\"Histogram-1.8\">Histogram</a></span></li><li><span><a href=\"#Variability\" data-toc-modified-id=\"Variability-1.9\">Variability</a></span><ul class=\"toc-item\"><li><span><a href=\"#1.-Range\" data-toc-modified-id=\"1.-Range-1.9.1\">1. Range</a></span></li><li><span><a href=\"#2.-Inter-Quartile-Range\" data-toc-modified-id=\"2.-Inter-Quartile-Range-1.9.2\">2. Inter-Quartile Range</a></span></li><li><span><a href=\"#3.-Variance\" data-toc-modified-id=\"3.-Variance-1.9.3\">3. Variance</a></span></li></ul></li><li><span><a href=\"#Next-time\" data-toc-modified-id=\"Next-time-1.10\">Next time</a></span></li></ul></div>"
      ],
      "metadata": {
        "toc": "true",
        "cell_id": "00000-33637b40-6271-493d-bed5-ec38ca20526e",
        "deepnote_cell_type": "markdown",
        "id": "WcK6J6cfHEpZ"
      }
    },
    {
      "cell_type": "markdown",
      "source": [
        "## Requirements\n",
        "We'll use two 3rd party Python libraries (*seaborn* and *pandas*) for displaying graphs. \n",
        "Run from terminal or shell:\n"
      ],
      "metadata": {
        "cell_id": "00002-29594a37-c395-46a0-9191-e6a354f5260d",
        "deepnote_cell_type": "markdown",
        "id": "F4JBDQhwHEpq"
      }
    },
    {
      "cell_type": "code",
      "source": [
        "!pip install seaborn;\n",
        "!pip install pandas"
      ],
      "metadata": {
        "colab": {
          "base_uri": "https://localhost:8080/"
        },
        "id": "EJCXnIvxgtzr",
        "outputId": "692bee24-3a79-4690-c3a3-0b7391eb304a"
      },
      "execution_count": 23,
      "outputs": [
        {
          "output_type": "stream",
          "name": "stdout",
          "text": [
            "Looking in indexes: https://pypi.org/simple, https://us-python.pkg.dev/colab-wheels/public/simple/\n",
            "Requirement already satisfied: seaborn in /usr/local/lib/python3.9/dist-packages (0.12.2)\n",
            "Requirement already satisfied: pandas>=0.25 in /usr/local/lib/python3.9/dist-packages (from seaborn) (1.4.4)\n",
            "Requirement already satisfied: matplotlib!=3.6.1,>=3.1 in /usr/local/lib/python3.9/dist-packages (from seaborn) (3.7.1)\n",
            "Requirement already satisfied: numpy!=1.24.0,>=1.17 in /usr/local/lib/python3.9/dist-packages (from seaborn) (1.22.4)\n",
            "Requirement already satisfied: cycler>=0.10 in /usr/local/lib/python3.9/dist-packages (from matplotlib!=3.6.1,>=3.1->seaborn) (0.11.0)\n",
            "Requirement already satisfied: python-dateutil>=2.7 in /usr/local/lib/python3.9/dist-packages (from matplotlib!=3.6.1,>=3.1->seaborn) (2.8.2)\n",
            "Requirement already satisfied: fonttools>=4.22.0 in /usr/local/lib/python3.9/dist-packages (from matplotlib!=3.6.1,>=3.1->seaborn) (4.39.2)\n",
            "Requirement already satisfied: pyparsing>=2.3.1 in /usr/local/lib/python3.9/dist-packages (from matplotlib!=3.6.1,>=3.1->seaborn) (3.0.9)\n",
            "Requirement already satisfied: packaging>=20.0 in /usr/local/lib/python3.9/dist-packages (from matplotlib!=3.6.1,>=3.1->seaborn) (23.0)\n",
            "Requirement already satisfied: contourpy>=1.0.1 in /usr/local/lib/python3.9/dist-packages (from matplotlib!=3.6.1,>=3.1->seaborn) (1.0.7)\n",
            "Requirement already satisfied: importlib-resources>=3.2.0 in /usr/local/lib/python3.9/dist-packages (from matplotlib!=3.6.1,>=3.1->seaborn) (5.12.0)\n",
            "Requirement already satisfied: pillow>=6.2.0 in /usr/local/lib/python3.9/dist-packages (from matplotlib!=3.6.1,>=3.1->seaborn) (8.4.0)\n",
            "Requirement already satisfied: kiwisolver>=1.0.1 in /usr/local/lib/python3.9/dist-packages (from matplotlib!=3.6.1,>=3.1->seaborn) (1.4.4)\n",
            "Requirement already satisfied: pytz>=2020.1 in /usr/local/lib/python3.9/dist-packages (from pandas>=0.25->seaborn) (2022.7.1)\n",
            "Requirement already satisfied: zipp>=3.1.0 in /usr/local/lib/python3.9/dist-packages (from importlib-resources>=3.2.0->matplotlib!=3.6.1,>=3.1->seaborn) (3.15.0)\n",
            "Requirement already satisfied: six>=1.5 in /usr/local/lib/python3.9/dist-packages (from python-dateutil>=2.7->matplotlib!=3.6.1,>=3.1->seaborn) (1.16.0)\n",
            "Looking in indexes: https://pypi.org/simple, https://us-python.pkg.dev/colab-wheels/public/simple/\n",
            "Requirement already satisfied: pandas in /usr/local/lib/python3.9/dist-packages (1.4.4)\n",
            "Requirement already satisfied: python-dateutil>=2.8.1 in /usr/local/lib/python3.9/dist-packages (from pandas) (2.8.2)\n",
            "Requirement already satisfied: numpy>=1.18.5 in /usr/local/lib/python3.9/dist-packages (from pandas) (1.22.4)\n",
            "Requirement already satisfied: pytz>=2020.1 in /usr/local/lib/python3.9/dist-packages (from pandas) (2022.7.1)\n",
            "Requirement already satisfied: six>=1.5 in /usr/local/lib/python3.9/dist-packages (from python-dateutil>=2.8.1->pandas) (1.16.0)\n"
          ]
        }
      ]
    },
    {
      "cell_type": "code",
      "metadata": {
        "cell_id": "00003-4c627075-1b96-45f2-b94d-2b4ed482e864",
        "deepnote_cell_type": "code",
        "id": "GXawyccFHEpr"
      },
      "source": [
        "import seaborn as sns\n",
        "import random as random\n",
        "%matplotlib inline"
      ],
      "execution_count": 24,
      "outputs": []
    },
    {
      "cell_type": "markdown",
      "source": [
        "## Useful Python functions\n",
        "Many statistics require knowing the length or sum of your data. Let's chug through some useful [built-in functions](https://docs.python.org/3/library/functions.html).\n",
        "\n",
        "### Random\n",
        "We'll use the [`random` module](https://docs.python.org/3/library/random.html) a lot to generate random numbers to make fake datasets. The plain vanilla random generator will pull from a uniform distribution. There are also options to pull from other datasets. As we add more tools to our data science toolbox, we'll find that [NumPy's](https://docs.scipy.org/doc/numpy-1.13.0/index.html) random number generators to be more full-featured and play really nicely with [Pandas](https://pandas.pydata.org/), another key data science library. For now, we're going to avoid the overhead of learning another library and just use Python's standard library."
      ],
      "metadata": {
        "cell_id": "00004-926ca71b-9870-4054-bdd6-e39ab324479e",
        "deepnote_cell_type": "markdown",
        "id": "tWHETm6RHEps"
      }
    },
    {
      "cell_type": "code",
      "metadata": {
        "cell_id": "00005-8c1ef40d-8978-4231-907b-96a9a6cc18db",
        "deepnote_cell_type": "code",
        "id": "KT8xIFS9HEpt",
        "outputId": "f0da87ad-f790-41b7-c027-483da688678f",
        "colab": {
          "base_uri": "https://localhost:8080/"
        }
      },
      "source": [
        "random.seed(42)\n",
        "values = [random.randrange(1,1001,1) for _ in range(10000)]\n",
        "values[0:15]"
      ],
      "execution_count": 25,
      "outputs": [
        {
          "output_type": "execute_result",
          "data": {
            "text/plain": [
              "[655, 115, 26, 760, 282, 251, 229, 143, 755, 105, 693, 759, 914, 559, 90]"
            ]
          },
          "metadata": {},
          "execution_count": 25
        }
      ]
    },
    {
      "cell_type": "markdown",
      "source": [
        "### `len()` & `sum()`\n",
        "The building blocks of average. Self explanatory here."
      ],
      "metadata": {
        "cell_id": "00006-30cabf91-0b4a-47ba-8320-5f0c94637f22",
        "deepnote_cell_type": "markdown",
        "id": "_z2I8x65HEpv"
      }
    },
    {
      "cell_type": "code",
      "metadata": {
        "cell_id": "00007-d7f271cb-595f-4fee-a651-8e3a1e087962",
        "deepnote_cell_type": "code",
        "id": "QECe0iGQHEpw",
        "outputId": "ea731f3e-cdd9-422e-b9cb-4d19f8b6a5f3",
        "colab": {
          "base_uri": "https://localhost:8080/"
        }
      },
      "source": [
        "len(values)"
      ],
      "execution_count": 26,
      "outputs": [
        {
          "output_type": "execute_result",
          "data": {
            "text/plain": [
              "10000"
            ]
          },
          "metadata": {},
          "execution_count": 26
        }
      ]
    },
    {
      "cell_type": "code",
      "metadata": {
        "cell_id": "00008-4c0f4a18-a328-4e6d-b6a2-e81ae8a62754",
        "deepnote_cell_type": "code",
        "id": "DISOnA7_HEpy",
        "outputId": "eea0347f-f3a0-4740-8c04-2bbaccd40582",
        "colab": {
          "base_uri": "https://localhost:8080/"
        }
      },
      "source": [
        "sum(values)"
      ],
      "execution_count": 27,
      "outputs": [
        {
          "output_type": "execute_result",
          "data": {
            "text/plain": [
              "5021696"
            ]
          },
          "metadata": {},
          "execution_count": 27
        }
      ]
    },
    {
      "cell_type": "markdown",
      "source": [
        "Below we'll use Seaborn to plot and visualize some of our data. Don't worry about this too much. Visualization, while important, is not the focus of this notebook.   \n",
        "See the *DEMO_SEABORN_Visualization_Examples.ipynb* notebook for a specific discussion of data visualization"
      ],
      "metadata": {
        "cell_id": "00009-b00beaaf-3139-4ed9-8893-0aa2c1163737",
        "deepnote_cell_type": "markdown",
        "id": "dekNyjsrHEpz"
      }
    },
    {
      "cell_type": "code",
      "metadata": {
        "cell_id": "00010-b2562f70-1d58-4012-8c25-9670c3b3a07f",
        "deepnote_cell_type": "code",
        "id": "4u3Yxv1yHEp1",
        "outputId": "1c0028db-7720-4cb9-893f-399189d9f91b",
        "colab": {
          "base_uri": "https://localhost:8080/",
          "height": 282
        }
      },
      "source": [
        "sns.stripplot(x=values, jitter=True, alpha=0.2)"
      ],
      "execution_count": 28,
      "outputs": [
        {
          "output_type": "execute_result",
          "data": {
            "text/plain": [
              "<Axes: >"
            ]
          },
          "metadata": {},
          "execution_count": 28
        },
        {
          "output_type": "display_data",
          "data": {
            "text/plain": [
              "<Figure size 432x288 with 1 Axes>"
            ],
            "image/png": "[encoded data removed]"
          },
          "metadata": {
            "needs_background": "light"
          }
        }
      ]
    },
    {
      "cell_type": "markdown",
      "source": [
        "This graph is pretty cluttered. That makes sense because it's 10,000 values between 1 and 1,000. That tells us there should be an average of 10 entries for each value.\n",
        "\n",
        "Let's make a sparse number line with just 200 values between 1 and 1000. There should be a lot more white space."
      ],
      "metadata": {
        "cell_id": "00011-d07f61fd-9816-4420-90c6-02387666d86f",
        "deepnote_cell_type": "markdown",
        "id": "RijUs3giHEp1"
      }
    },
    {
      "cell_type": "code",
      "metadata": {
        "cell_id": "00012-b04ad867-430d-4d95-845b-d186078fdff9",
        "deepnote_cell_type": "code",
        "id": "opgoDG2qHEp2",
        "outputId": "432119d1-beb2-43bc-860a-8151c2870ac0",
        "colab": {
          "base_uri": "https://localhost:8080/",
          "height": 282
        }
      },
      "source": [
        "sparse_values = [random.randrange(1,1001) for _ in range (1000)]\n",
        "sns.stripplot(x=sparse_values, jitter=True)"
      ],
      "execution_count": 29,
      "outputs": [
        {
          "output_type": "execute_result",
          "data": {
            "text/plain": [
              "<Axes: >"
            ]
          },
          "metadata": {},
          "execution_count": 29
        },
        {
          "output_type": "display_data",
          "data": {
            "text/plain": [
              "<Figure size 432x288 with 1 Axes>"
            ],
            "image/png": "[encoded data removed]"
          },
          "metadata": {
            "needs_background": "light"
          }
        }
      ]
    },
    {
      "cell_type": "markdown",
      "source": [
        "### `max()` & `min()`\n",
        "These built-in functions are useful for getting the range of our data, and just general inspection:"
      ],
      "metadata": {
        "cell_id": "00013-eaea6772-3210-469f-a824-d1d0de089345",
        "deepnote_cell_type": "markdown",
        "id": "6sxq5YyzHEp3"
      }
    },
    {
      "cell_type": "code",
      "metadata": {
        "cell_id": "00014-d6ad02ae-0425-4113-9175-7fc981bd54c3",
        "deepnote_cell_type": "code",
        "id": "AHH2RaJxHEp3",
        "outputId": "dcf098f0-390b-4264-d8ab-329a12fb63e9",
        "colab": {
          "base_uri": "https://localhost:8080/"
        }
      },
      "source": [
        "print(\"Max value: {}\\nMin value: {}\".format(\n",
        "    max(values), min(values)))"
      ],
      "execution_count": 30,
      "outputs": [
        {
          "output_type": "stream",
          "name": "stdout",
          "text": [
            "Max value: 1000\n",
            "Min value: 1\n"
          ]
        }
      ]
    },
    {
      "cell_type": "markdown",
      "source": [
        "### `sorted()`\n",
        "Another very important technique in wrangling data is sorting it. If we have a dataset of salaries, for example, and we want to see the 10 top earners, this is how we'd do it. Let's look now at the first 20 items in our sorted data set:"
      ],
      "metadata": {
        "cell_id": "00015-48dfc107-de60-4a0d-9b46-a3c0ee376a2a",
        "deepnote_cell_type": "markdown",
        "id": "NZRbGRI-HEp4"
      }
    },
    {
      "cell_type": "code",
      "metadata": {
        "cell_id": "00016-b3fdb4b6-5d99-4006-b07f-9e5732bb051d",
        "deepnote_cell_type": "code",
        "id": "2EtLKw3tHEp5",
        "outputId": "8b3dae84-0dc7-4043-cfeb-0d945129f9a4",
        "colab": {
          "base_uri": "https://localhost:8080/"
        }
      },
      "source": [
        "sorted_vals = sorted(values)\n",
        "sorted_vals[0:20]"
      ],
      "execution_count": 31,
      "outputs": [
        {
          "output_type": "execute_result",
          "data": {
            "text/plain": [
              "[1, 1, 1, 1, 1, 1, 1, 1, 1, 2, 2, 2, 2, 2, 2, 2, 2, 2, 3, 3]"
            ]
          },
          "metadata": {},
          "execution_count": 31
        }
      ]
    },
    {
      "cell_type": "markdown",
      "source": [
        "If we wanted to sort values in-place (as in, perform an action like `values = sorted(values)`), we would use the `list` class' own `sort()` method: \n",
        "```python\n",
        "values.sort()```"
      ],
      "metadata": {
        "cell_id": "00017-e05e23f9-9440-4364-8f38-0c59090411f1",
        "deepnote_cell_type": "markdown",
        "id": "QXVs_reBHEp5"
      }
    },
    {
      "cell_type": "markdown",
      "source": [
        "## The Mean\n",
        "The mean is a fancy statistical way to say \"average.\" You're all familiar with what average means. But mathemeticians like to be special and specific. There's not just one type of mean. In fact, we'll talk about 3 kinds of \"means\" that are all useful for different types of numbers.\n",
        "1. **Arithmetic mean** for common numbers\n",
        "2. **Geometric mean** for returns or growth\n",
        "3. **Harmonic mean** for ratios and rates\n",
        "\n",
        "\n",
        "### 1. Arithmetic mean\n",
        "This is your typical average. You've used it all your life. It's simply the sum of the elements divided by the length. Intuitively, think of it as if you made every element the exact same value so that the sum of all values remains the same as before. What would that value be?\n",
        "\n",
        "Mathematically the mean, denoted $\\mu$, looks like: \n",
        "\n",
        "$$\\mu = \\frac{x_1 + x_2 + \\cdots + x_n}{n}$$\n",
        "\n",
        "where $\\bar{x}$ is our mean, $x_i$ is a value at the $i$th index of our list, and $n$ is the length of that list.\n",
        "\n",
        "In Python, it's a simple operation combining two builtins we saw above: `sum()` and `len()`"
      ],
      "metadata": {
        "cell_id": "00018-d146d0b9-1580-4682-a54d-c9bf6b9a0422",
        "deepnote_cell_type": "markdown",
        "id": "wTOSfbLkHEp6"
      }
    },
    {
      "cell_type": "code",
      "metadata": {
        "cell_id": "00019-92a44a30-be5b-4f0a-b92f-24e83ba335d1",
        "deepnote_cell_type": "code",
        "id": "21ZIS0CGHEp6",
        "outputId": "c9e228e0-71fa-427f-c261-9fdb014fc5eb",
        "colab": {
          "base_uri": "https://localhost:8080/"
        }
      },
      "source": [
        "def arithmetic_mean(vals):\n",
        "    return sum(vals) / len(vals)\n",
        "\n",
        "arithmetic_mean(values)"
      ],
      "execution_count": 32,
      "outputs": [
        {
          "output_type": "execute_result",
          "data": {
            "text/plain": [
              "502.1696"
            ]
          },
          "metadata": {},
          "execution_count": 32
        }
      ]
    },
    {
      "cell_type": "markdown",
      "source": [
        "From this we see our average value is 502.1696. Let's double check that with our intuitive definition using the sum:"
      ],
      "metadata": {
        "cell_id": "00020-853aea7a-2218-488c-9051-fe83d867d994",
        "deepnote_cell_type": "markdown",
        "id": "-8qbKHAoHEp7"
      }
    },
    {
      "cell_type": "code",
      "metadata": {
        "cell_id": "00021-fd0844fc-5581-4e0b-ac88-670d2a3e73da",
        "deepnote_cell_type": "code",
        "id": "_njKbzpmHEp8",
        "outputId": "e2396367-93d9-4dfa-a5a9-55306f140556",
        "colab": {
          "base_uri": "https://localhost:8080/"
        }
      },
      "source": [
        "avg_sum = len(values) * arithmetic_mean(values) #10,000 * 502.1696\n",
        "print(\"{} =? {}\".format(sum(values), avg_sum))"
      ],
      "execution_count": 33,
      "outputs": [
        {
          "output_type": "stream",
          "name": "stdout",
          "text": [
            "5021696 =? 5021696.0\n"
          ]
        }
      ]
    },
    {
      "cell_type": "markdown",
      "source": [
        "### 2. Geometric mean\n",
        "The geometric mean is a similar idea but instead uses the product. It says if I multiply each value in our list together, what one value could I use instead to get the same result? \n",
        "\n",
        "The geometric mean is very useful in things like growth or returns (e.g. stocks) because adding returns doesn't give us the ability to get returns over a longer length of time. In other words, if I have a stock growing at 5% per year, what will be the total returns after 5 years?\n",
        "\n",
        "If you said 25%, you are wrong. It would be $1.05^5 - 1  \\approx 27.63\\%$\n",
        "\n",
        "Mathematically, our geometric is:\n",
        "$$ GM(x) = \\sqrt[n]{x_1 \\times x_2 \\times \\cdots \\times x_n }$$"
      ],
      "metadata": {
        "cell_id": "00022-6a64e22c-acbb-4ce2-adaa-364fd0f15408",
        "deepnote_cell_type": "markdown",
        "id": "2JaeF3WrHEp9"
      }
    },
    {
      "cell_type": "code",
      "metadata": {
        "cell_id": "00023-96114642-bd44-4c5c-86ec-3f8c111e4858",
        "deepnote_cell_type": "code",
        "id": "nw4UqLByHEp-",
        "outputId": "6b2a08a3-e29e-4825-9f8a-172c2d445258",
        "colab": {
          "base_uri": "https://localhost:8080/"
        }
      },
      "source": [
        "returns = [1.05, 1.06, .98, 1.08]\n",
        "\n",
        "def product(vals):\n",
        "    ''' \n",
        "    This is a function that will multiply every item in the list\n",
        "    together reducing it to a single number. The Pythonic way to\n",
        "    do this would be to use the 'reduce' function like so:\n",
        "    > reduce(lambda x, y: x * y, vals)\n",
        "    We are explicit here for clairty.\n",
        "    '''\n",
        "    prod = 1\n",
        "    for x in vals:\n",
        "        prod = prod * x\n",
        "    return prod\n",
        "\n",
        "def geometric_mean(vals):\n",
        "    # raising to 1/n is the same as nth root\n",
        "    geo_mean = product(vals) ** (1/len(vals)) \n",
        "    return geo_mean\n",
        "\n",
        "geom = geometric_mean(returns)\n",
        "geom"
      ],
      "execution_count": 34,
      "outputs": [
        {
          "output_type": "execute_result",
          "data": {
            "text/plain": [
              "1.041804547674296"
            ]
          },
          "metadata": {},
          "execution_count": 34
        }
      ]
    },
    {
      "cell_type": "markdown",
      "source": [
        "Using our `product` function above, we can easily multiply all the values together to get what your return after 4 years is:"
      ],
      "metadata": {
        "cell_id": "00024-22d24998-8480-447d-ab7c-3fcd1827df2c",
        "deepnote_cell_type": "markdown",
        "id": "HhLAYdV5HEp-"
      }
    },
    {
      "cell_type": "code",
      "metadata": {
        "cell_id": "00025-df78aea1-3f32-4e7d-b58d-aa0c2d3806c4",
        "deepnote_cell_type": "code",
        "id": "ipFD0mWKHEp_",
        "outputId": "373426ad-0e75-4552-db04-9e6c7c58759c",
        "colab": {
          "base_uri": "https://localhost:8080/"
        }
      },
      "source": [
        "product(returns)"
      ],
      "execution_count": 35,
      "outputs": [
        {
          "output_type": "execute_result",
          "data": {
            "text/plain": [
              "1.1779992000000004"
            ]
          },
          "metadata": {},
          "execution_count": 35
        }
      ]
    },
    {
      "cell_type": "markdown",
      "source": [
        "or roughly $17.8\\%$. Using our geometric mean should give us the same result:"
      ],
      "metadata": {
        "cell_id": "00026-07b5e49d-ef22-436e-815c-a342b7675f68",
        "deepnote_cell_type": "markdown",
        "id": "27GqQ8qCHEp_"
      }
    },
    {
      "cell_type": "code",
      "metadata": {
        "cell_id": "00027-08180035-381c-4efd-9763-dcb311f9c1a9",
        "deepnote_cell_type": "code",
        "id": "jyKkQvS1HEp_",
        "outputId": "761e8c39-db4c-43a0-e521-563d0aee672d",
        "colab": {
          "base_uri": "https://localhost:8080/"
        }
      },
      "source": [
        "geom**4"
      ],
      "execution_count": 36,
      "outputs": [
        {
          "output_type": "execute_result",
          "data": {
            "text/plain": [
              "1.1779992"
            ]
          },
          "metadata": {},
          "execution_count": 36
        }
      ]
    },
    {
      "cell_type": "markdown",
      "source": [
        "Now look at what happens with the arithmetic mean:"
      ],
      "metadata": {
        "cell_id": "00028-18c7c2d3-d757-4e25-821d-b20ece8e28a1",
        "deepnote_cell_type": "markdown",
        "id": "ugi6Eg3SHEqA"
      }
    },
    {
      "cell_type": "code",
      "metadata": {
        "cell_id": "00029-f0989683-9d6c-49a5-8fce-b2df3a041c94",
        "deepnote_cell_type": "code",
        "id": "XaJIeL4RHEqA",
        "outputId": "7ab835d7-cfbd-4f72-f73e-02ba12b6df22",
        "colab": {
          "base_uri": "https://localhost:8080/"
        }
      },
      "source": [
        "arm = arithmetic_mean(returns)\n",
        "arm"
      ],
      "execution_count": 37,
      "outputs": [
        {
          "output_type": "execute_result",
          "data": {
            "text/plain": [
              "1.0425"
            ]
          },
          "metadata": {},
          "execution_count": 37
        }
      ]
    },
    {
      "cell_type": "code",
      "metadata": {
        "cell_id": "00030-0c24679a-d770-4834-abf3-7c5659c34db6",
        "deepnote_cell_type": "code",
        "id": "0tPVDbWFHEqB",
        "outputId": "a0de8db5-6afe-4bcc-ab62-42bb64670f24",
        "colab": {
          "base_uri": "https://localhost:8080/"
        }
      },
      "source": [
        "arm**4"
      ],
      "execution_count": 38,
      "outputs": [
        {
          "output_type": "execute_result",
          "data": {
            "text/plain": [
              "1.1811478250390623"
            ]
          },
          "metadata": {},
          "execution_count": 38
        }
      ]
    },
    {
      "cell_type": "markdown",
      "source": [
        "The arithmetic mean would tell us that after 4 years, we should have an $18.1\\%$ return. But we know it should actually be a $17.8\\%$ return. It can be tricky to know when to use the arithmetic and geometric means. You also must remember to add the $1$ to your returns or it will not mathematically play nice."
      ],
      "metadata": {
        "cell_id": "00031-fc250f4a-87ad-452e-ac21-9864fc1b8dc4",
        "deepnote_cell_type": "markdown",
        "id": "U2tBFxMtHEqB"
      }
    },
    {
      "cell_type": "markdown",
      "source": [
        "### 3. Harmonic mean\n",
        "This one is also a bit tricky to get intuitively. Here we want an average of _rates_. Not to be confused with an average of _returns_. Recall a rate is simply a ratio between two quantities, like the price-to-earnings ratio of a stock or miles-per-hour of a car.\n",
        "\n",
        "Let's take a look at the mph example. If I have a car who goes 60mph for 50 miles, 50mph for another 50, and 40mph for yet another 50, then the car has traveled 150 miles in $\\frac{50mi}{60\\frac{mi}{h}} + \\frac{50mi}{50\\frac{mi}{h}} + \\frac{50mi}{40\\frac{mi}{h}} = 3.08\\bar{3}h$. This corresponds to a geometric mean of $150mi \\div 3.08\\bar{3}h \\approx 48.648mph$. Much different from our arithmetic mean of 50mph. \n",
        "\n",
        "(_Note: if in our example the car did not travel a clean 50 miles for every segment, we have to use a_ [weighted harmonic mean](https://en.wikipedia.org/wiki/Harmonic_mean#Weighted_harmonic_mean).)\n",
        "\n",
        "Mathematically, the harmonic mean looks like this:\n",
        "\n",
        "$$ \\frac{n}{\\frac{1}{x_1}+\\frac{1}{x_2}+\\cdots+\\frac{1}{x_n}} $$\n",
        "\n",
        "So let's code that up:"
      ],
      "metadata": {
        "cell_id": "00032-43e8a85b-8209-4027-9811-20875791aeb5",
        "deepnote_cell_type": "markdown",
        "id": "VKABr0mHHEqD"
      }
    },
    {
      "cell_type": "code",
      "metadata": {
        "cell_id": "00033-e48b91be-8624-4a58-9423-e9cae8c980ba",
        "deepnote_cell_type": "code",
        "colab": {
          "base_uri": "https://localhost:8080/"
        },
        "id": "RYCCd6CHHEqD",
        "outputId": "84c02d69-cb86-4dba-9054-c84ad13b0ac4"
      },
      "source": [
        "speeds = [60, 50, 40]\n",
        "\n",
        "def harmonic_mean(vals):\n",
        "    sum_recip = sum(1/x for x in vals)\n",
        "    return len(vals) / sum_recip\n",
        "\n",
        "harmonic_mean(speeds)"
      ],
      "execution_count": 39,
      "outputs": [
        {
          "output_type": "execute_result",
          "data": {
            "text/plain": [
              "48.648648648648646"
            ]
          },
          "metadata": {},
          "execution_count": 39
        }
      ]
    },
    {
      "cell_type": "markdown",
      "source": [
        "Now you know about the three [Pythagorean means](https://en.wikipedia.org/wiki/Pythagorean_means). Let's now move on to something very important in descriptive statistics:\n",
        "\n",
        "## The Median\n",
        "The median should be another familiar statistic, but often misquoted. When somebody is describing a set of numbers with just a mean, they might not be telling the whole story. For example, many sets of values are _skewed_ (a concept we will cover in the histogram section) in that most values are clustered around a certain area but have a long tail. Prices are usually good examples of this. Most wine is around \\\\$15-20, but we've all seen those super expensive bottles from a hermit's chateau in France. Salaries are also skewed (and politicians like to remind us how far skewed just 1\\% of these people are).\n",
        "\n",
        "A useful statistic in these cases is the \"median.\" The median gives us the middle value, as opposed to the average value. Here's a simple, but illustrative example:\n",
        "\n",
        "Suppose we take the salaries of 5 people at a bar\n",
        "\n",
        "[12000, 48000, 72000, 160000, 3360000]\n",
        "\n",
        "If I told you the average salary in this bar right now is \\\\$730,400, I'd be telling you the truth. But you can tell that our rich friend pulling in over 3 million is throwing off the curve. When he goes home early to do a business, the average drops to just \\\\$73,000. _A full 10 times less_.\n",
        "\n",
        "The median instead in this case is much more consistent, or in other words, not as prone to _outliers._ To find the median, we simply take the middle value. Or if there are an even number of entries, we take the average of the two middle values. Here it is in Python:"
      ],
      "metadata": {
        "cell_id": "00034-b158bccd-6c6b-4022-a099-c366be40d43d",
        "deepnote_cell_type": "markdown",
        "id": "NOvV0BI5HEqE"
      }
    },
    {
      "cell_type": "code",
      "metadata": {
        "cell_id": "00035-75eae8a7-8f0a-44f9-9dfb-84259f6e7c66",
        "deepnote_cell_type": "code",
        "id": "lFgxYoICHEqE",
        "outputId": "4cc23ff8-75d5-4b2a-9573-360872dd3022",
        "colab": {
          "base_uri": "https://localhost:8080/"
        }
      },
      "source": [
        "salaries = [12000, 48000, 72000, 160000, 3360000]\n",
        "\n",
        "def median(vals):\n",
        "    n = len(vals)\n",
        "    sorted_vals = sorted(vals)\n",
        "    midpoint = n // 2\n",
        "    \n",
        "    if n % 2 == 1:\n",
        "        return sorted_vals[midpoint]\n",
        "    else:\n",
        "        return arithmetic_mean([sorted_vals[midpoint-1], sorted_vals[midpoint]])\n",
        "    \n",
        "median(salaries)"
      ],
      "execution_count": 40,
      "outputs": [
        {
          "output_type": "execute_result",
          "data": {
            "text/plain": [
              "72000"
            ]
          },
          "metadata": {},
          "execution_count": 40
        }
      ]
    },
    {
      "cell_type": "markdown",
      "source": [
        "A much more reasonable \\$7200! Now let's see what happens when Moneybags goes home:"
      ],
      "metadata": {
        "cell_id": "00036-15f2c2aa-b105-44de-b84f-4a904cd914ec",
        "deepnote_cell_type": "markdown",
        "id": "eo0JCY04HEqF"
      }
    },
    {
      "cell_type": "code",
      "metadata": {
        "cell_id": "00037-e9cd2f73-ab68-45f8-a62f-ac61d41e036c",
        "deepnote_cell_type": "code",
        "id": "a-w_bhLtHEqG",
        "outputId": "5f22cf0a-62e7-4445-868a-e813dcfe7a69",
        "colab": {
          "base_uri": "https://localhost:8080/"
        }
      },
      "source": [
        "median(salaries[:-1])"
      ],
      "execution_count": 41,
      "outputs": [
        {
          "output_type": "execute_result",
          "data": {
            "text/plain": [
              "60000.0"
            ]
          },
          "metadata": {},
          "execution_count": 41
        }
      ]
    },
    {
      "cell_type": "markdown",
      "source": [
        "The median drops down to \\\\$60,000 (which is the average of \\\\$48,000 and \\\\$72,000).\n",
        "\n",
        "Let's take a look at our original `values` list of 10,000 numbers."
      ],
      "metadata": {
        "cell_id": "00038-4adaa2f3-df7f-4496-a76a-b462df3e2e71",
        "deepnote_cell_type": "markdown",
        "id": "4MNco8C5HEqG"
      }
    },
    {
      "cell_type": "code",
      "metadata": {
        "cell_id": "00039-a10b344d-c2dc-4d9c-9fa8-b1067d1b6221",
        "deepnote_cell_type": "code",
        "id": "rEbDaoQcHEqG",
        "outputId": "7d96b063-e6df-45a7-85b1-967ed1313632",
        "colab": {
          "base_uri": "https://localhost:8080/"
        }
      },
      "source": [
        "median(values)"
      ],
      "execution_count": 42,
      "outputs": [
        {
          "output_type": "execute_result",
          "data": {
            "text/plain": [
              "506.0"
            ]
          },
          "metadata": {},
          "execution_count": 42
        }
      ]
    },
    {
      "cell_type": "code",
      "metadata": {
        "cell_id": "00040-689269ab-b083-4708-8881-a9093ab48585",
        "deepnote_cell_type": "code",
        "id": "wPwdmwbwHEqH",
        "outputId": "ff75dd2f-fbe3-48e3-b04a-fc7db9c8b272",
        "colab": {
          "base_uri": "https://localhost:8080/"
        }
      },
      "source": [
        "# Recall our values list is even, meaning 506.0 was both item 5000 and 5001\n",
        "len(values)"
      ],
      "execution_count": 43,
      "outputs": [
        {
          "output_type": "execute_result",
          "data": {
            "text/plain": [
              "10000"
            ]
          },
          "metadata": {},
          "execution_count": 43
        }
      ]
    },
    {
      "cell_type": "code",
      "metadata": {
        "cell_id": "00041-58892dca-84b8-4997-995c-347db57c12be",
        "deepnote_cell_type": "code",
        "id": "USfo9lPQHEqH",
        "outputId": "2a5dcf3a-d711-4f98-dade-bf9e8e924174",
        "colab": {
          "base_uri": "https://localhost:8080/"
        }
      },
      "source": [
        "# Lopping off the end returns the same value\n",
        "median(values[:-1])"
      ],
      "execution_count": 44,
      "outputs": [
        {
          "output_type": "execute_result",
          "data": {
            "text/plain": [
              "506"
            ]
          },
          "metadata": {},
          "execution_count": 44
        }
      ]
    },
    {
      "cell_type": "code",
      "metadata": {
        "cell_id": "00042-b8cd30c1-b4f5-4d3c-981e-bf647b19301d",
        "deepnote_cell_type": "code",
        "id": "L30bWxoRHEqI",
        "outputId": "53f3526f-4acd-46c5-ba49-0c996f33a5d9",
        "colab": {
          "base_uri": "https://localhost:8080/"
        }
      },
      "source": [
        "# Why? There are 9 506s in the list\n",
        "from collections import Counter\n",
        "c = Counter(values)\n",
        "c[506]"
      ],
      "execution_count": 45,
      "outputs": [
        {
          "output_type": "execute_result",
          "data": {
            "text/plain": [
              "9"
            ]
          },
          "metadata": {},
          "execution_count": 45
        }
      ]
    },
    {
      "cell_type": "markdown",
      "source": [
        "Above we used the [`Counter`](https://docs.python.org/3.6/library/collections.html#collections.Counter) class in the standard library. This class is a subclass of the `dict` that holds a dictionary of keys to their counts. We can build our own version of it like so:"
      ],
      "metadata": {
        "cell_id": "00043-21f46683-0ac3-4ac8-ae6e-6e3da5c8c9a9",
        "deepnote_cell_type": "markdown",
        "id": "Ui_bqwFqHEqI"
      }
    },
    {
      "cell_type": "code",
      "metadata": {
        "cell_id": "00044-75c79122-430e-441c-afd5-d752af051ba5",
        "deepnote_cell_type": "code",
        "id": "NCBWOkzjHEqI",
        "outputId": "b7f4932a-799b-439a-f87b-5bc0d5e5bbe1",
        "colab": {
          "base_uri": "https://localhost:8080/"
        }
      },
      "source": [
        "# Here we use the defaultdict that will initialize our first value if it doesn't yet exist\n",
        "from collections import defaultdict\n",
        "def make_counter(values):\n",
        "    counts = defaultdict(int)\n",
        "    for v in values:\n",
        "        counts[v] += 1\n",
        "    return counts\n",
        "\n",
        "counts = make_counter([1, 2, 2, 3, 5, 6, 6, 6])\n",
        "counts"
      ],
      "execution_count": 46,
      "outputs": [
        {
          "output_type": "execute_result",
          "data": {
            "text/plain": [
              "defaultdict(int, {1: 1, 2: 2, 3: 1, 5: 1, 6: 3})"
            ]
          },
          "metadata": {},
          "execution_count": 46
        }
      ]
    },
    {
      "cell_type": "markdown",
      "source": [
        "Remember this part because it will show up very soon when we talk about histograms, *the chef's knife of a data scientist's data exploration kitchen*. But first, there's one more descriptive statistic that we should cover. \n",
        "\n",
        "## The Mode\n",
        "The mode is simply the most common element. If there are multiple elements with the same count, then there are two modes. If all elements have the same count, there are no modes. If the distribution is _continuous_ (meaning it can take uncountably infinite values, which we will discuss in the Distributions chapter), then we use ranges of values to determine the mode. Honestly, I don't really find the mode too useful. A good time to use it is if there's a lot of _categorical data_ (meaning values like \"blue\", \"red\", \"green\" instead of _numerical data_ like 1,2,3). You might want to know what color car your dealership has the most of.\n",
        "\n",
        "Let's take a look at that example now. I've built a set of cars with up to 20 cars of any of four colors."
      ],
      "metadata": {
        "cell_id": "00045-ee6bf5f5-774e-404c-ab5b-c6a1dc3e56cc",
        "deepnote_cell_type": "markdown",
        "id": "MtUatyF0HEqJ"
      }
    },
    {
      "cell_type": "code",
      "metadata": {
        "scrolled": true,
        "cell_id": "00046-d0f86ee8-3027-4e86-ab0e-a6e7bb09f12b",
        "deepnote_cell_type": "code",
        "id": "utD9ZZwJHEqK",
        "outputId": "4c92e2cf-1371-432b-b62c-30d0c415253c",
        "colab": {
          "base_uri": "https://localhost:8080/"
        }
      },
      "source": [
        "car_colors = [\"red\"] * random.randint(1,20) + \\\n",
        "    [\"green\"] * random.randint(1,20) + \\\n",
        "    [\"blue\"] * random.randint(1,20) + \\\n",
        "    [\"black\"] * random.randint(1,20)\n",
        "car_colors"
      ],
      "execution_count": 47,
      "outputs": [
        {
          "output_type": "execute_result",
          "data": {
            "text/plain": [
              "['red',\n",
              " 'red',\n",
              " 'red',\n",
              " 'red',\n",
              " 'red',\n",
              " 'red',\n",
              " 'red',\n",
              " 'red',\n",
              " 'red',\n",
              " 'red',\n",
              " 'red',\n",
              " 'red',\n",
              " 'red',\n",
              " 'red',\n",
              " 'red',\n",
              " 'red',\n",
              " 'red',\n",
              " 'red',\n",
              " 'green',\n",
              " 'green',\n",
              " 'green',\n",
              " 'green',\n",
              " 'green',\n",
              " 'green',\n",
              " 'green',\n",
              " 'green',\n",
              " 'green',\n",
              " 'green',\n",
              " 'green',\n",
              " 'green',\n",
              " 'green',\n",
              " 'green',\n",
              " 'green',\n",
              " 'green',\n",
              " 'green',\n",
              " 'blue',\n",
              " 'blue',\n",
              " 'blue',\n",
              " 'blue',\n",
              " 'blue',\n",
              " 'blue',\n",
              " 'blue',\n",
              " 'blue',\n",
              " 'black',\n",
              " 'black',\n",
              " 'black',\n",
              " 'black',\n",
              " 'black',\n",
              " 'black',\n",
              " 'black',\n",
              " 'black',\n",
              " 'black',\n",
              " 'black',\n",
              " 'black',\n",
              " 'black',\n",
              " 'black',\n",
              " 'black',\n",
              " 'black']"
            ]
          },
          "metadata": {},
          "execution_count": 47
        }
      ]
    },
    {
      "cell_type": "code",
      "metadata": {
        "cell_id": "00047-0583ee26-e434-4297-90e2-7253e4d493fd",
        "deepnote_cell_type": "code",
        "id": "pbuzlfo3HEqK",
        "outputId": "68c50c4e-d01a-493f-9385-551e195c8652",
        "colab": {
          "base_uri": "https://localhost:8080/"
        }
      },
      "source": [
        "#Using our familiar counter\n",
        "color_count = Counter(car_colors)\n",
        "color_count"
      ],
      "execution_count": 48,
      "outputs": [
        {
          "output_type": "execute_result",
          "data": {
            "text/plain": [
              "Counter({'red': 18, 'green': 17, 'blue': 8, 'black': 15})"
            ]
          },
          "metadata": {},
          "execution_count": 48
        }
      ]
    },
    {
      "cell_type": "code",
      "metadata": {
        "cell_id": "00048-596cba6f-20ce-445d-863f-e4fb05056533",
        "deepnote_cell_type": "code",
        "id": "KvXEthSeHEqL",
        "outputId": "793160c2-3536-426c-88b0-ffec65677d97",
        "colab": {
          "base_uri": "https://localhost:8080/"
        }
      },
      "source": [
        "# We can see the mode above is 'blue' because we have 18. Let's verify:\n",
        "def mode(counter):\n",
        "    # store a list of name:count tuples in case multiple modes\n",
        "    modes = [('',0)]\n",
        "    for k,v in counter.items():\n",
        "        highest_count = modes[0][1]\n",
        "        if v > highest_count:\n",
        "            modes = [(k,v)]\n",
        "        elif v == highest_count:\n",
        "            modes.append((k,v))\n",
        "        \n",
        "    return modes\n",
        "mode(color_count)"
      ],
      "execution_count": 49,
      "outputs": [
        {
          "output_type": "execute_result",
          "data": {
            "text/plain": [
              "[('red', 18)]"
            ]
          },
          "metadata": {},
          "execution_count": 49
        }
      ]
    },
    {
      "cell_type": "code",
      "metadata": {
        "cell_id": "00049-627f32df-0e51-476c-ac26-1fc85684997e",
        "deepnote_cell_type": "code",
        "id": "2NdOxLLuHEqL",
        "outputId": "5915cbbf-1b70-48d0-b73d-6ae2501685cc",
        "colab": {
          "base_uri": "https://localhost:8080/"
        }
      },
      "source": [
        "# If we have multiple modes?\n",
        "mode(Counter(['blue']*3 + ['green']*3 + ['black']*2))"
      ],
      "execution_count": 50,
      "outputs": [
        {
          "output_type": "execute_result",
          "data": {
            "text/plain": [
              "[('blue', 3), ('green', 3)]"
            ]
          },
          "metadata": {},
          "execution_count": 50
        }
      ]
    },
    {
      "cell_type": "markdown",
      "source": [
        "But that's enough about modes. Check out wikipedia if you want more because there's no point spending more time on them then they're worth.\n",
        "\n",
        "Hang in there, because we're getting close. Still to come is Percentiles, Boxplots, and Histograms. Three very import things.\n",
        "\n",
        "\n",
        "## Percentiles\n",
        "A percentile is familiar to anyone who has taken the SAT. It answers the question: what percentage of students are dumber than I am? Well the College Board would love to tell you: congratulations, you're in the 92nd percentile!\n",
        "\n",
        "Let's take a look at our old friend Mr. `values` with 10,000 numbers from 1-1000. Since this list is _uniformly distributed_, meaning every value is as likely to occur as any other, we expect that 25% of the numbers to be below 250, 50% to be below 500, and 75% to be below 750. Let's verify:"
      ],
      "metadata": {
        "cell_id": "00050-8b6837c2-f427-4757-9774-581b9cbdd1e1",
        "deepnote_cell_type": "markdown",
        "id": "LVDx72qyHEqM"
      }
    },
    {
      "cell_type": "code",
      "metadata": {
        "cell_id": "00051-eee664b1-0fed-4868-a132-d5990740eb87",
        "deepnote_cell_type": "code",
        "id": "d9J-EqboHEqM",
        "outputId": "b170114c-2eba-4562-8d37-450be8a66686",
        "colab": {
          "base_uri": "https://localhost:8080/"
        }
      },
      "source": [
        "def percentile(vals, elem):\n",
        "    '''Returns the percent of numbers\n",
        "    below the index.\n",
        "    '''\n",
        "    count = 0\n",
        "    sorted_val = sorted(values)\n",
        "    for val in sorted_val:\n",
        "        if val > elem:\n",
        "            return count/len(values)\n",
        "        count += 1\n",
        "\n",
        "for num in [250, 500, 750]:\n",
        "    print(\"Percentile for {}: {}%\".format(num, percentile(values, num)*100))"
      ],
      "execution_count": 51,
      "outputs": [
        {
          "output_type": "stream",
          "name": "stdout",
          "text": [
            "Percentile for 250: 24.37%\n",
            "Percentile for 500: 49.45%\n",
            "Percentile for 750: 75.48%\n"
          ]
        }
      ]
    },
    {
      "cell_type": "markdown",
      "source": [
        "Just like we'd expect. Now if the data set is not so nice and uniform, we expect these values to be quite different. Let's write a function to give us an element at a particular percentile:"
      ],
      "metadata": {
        "cell_id": "00052-76f45203-eff0-4605-9814-aa6a3b8b5880",
        "deepnote_cell_type": "markdown",
        "id": "GMf0-UAKHEqN"
      }
    },
    {
      "cell_type": "code",
      "metadata": {
        "cell_id": "00053-13985cae-dcd0-46c1-b795-6167e94b9757",
        "deepnote_cell_type": "code",
        "id": "wuQQgr6dHEqN",
        "outputId": "e44de3fb-12aa-4d9f-e45e-6ca2142c1ccc",
        "colab": {
          "base_uri": "https://localhost:8080/"
        }
      },
      "source": [
        "from math import ceil\n",
        "def pct_value(vals, pct):\n",
        "    sorted_vals = sorted(vals)\n",
        "    n = len(vals)\n",
        "    return sorted_vals[ceil(n*pct)]\n",
        "\n",
        "for pct in [.25, .5, .75]:\n",
        "    print(\"Element at percentile {}%: {}\".format(pct*100, pct_value(values, pct)))"
      ],
      "execution_count": 52,
      "outputs": [
        {
          "output_type": "stream",
          "name": "stdout",
          "text": [
            "Element at percentile 25.0%: 256\n",
            "Element at percentile 50.0%: 506\n",
            "Element at percentile 75.0%: 745\n"
          ]
        }
      ]
    },
    {
      "cell_type": "markdown",
      "source": [
        "Notice how the element at the 50th percentile is also our median! Now we have a second definition of the median.\n",
        "\n",
        "Let's take a look now at a highly skewed set. It will range from 0-100 but we'll cluster it around 10"
      ],
      "metadata": {
        "cell_id": "00054-37c6daa8-fe86-4aad-9f14-b695ecc05aa2",
        "deepnote_cell_type": "markdown",
        "id": "jQJvSiKhHEqO"
      }
    },
    {
      "cell_type": "code",
      "metadata": {
        "cell_id": "00055-09a25ce0-a35c-4930-8290-9ca3c6269367",
        "deepnote_cell_type": "code",
        "id": "0rkEScF7HEqP"
      },
      "source": [
        "skewed = []\n",
        "for i in range(1,100):\n",
        "    skewed += [i]*random.randint(0,int(4+i//abs(10.1-i)))"
      ],
      "execution_count": 53,
      "outputs": []
    },
    {
      "cell_type": "code",
      "metadata": {
        "cell_id": "00056-ffaf7dfe-ffdb-4686-946a-77a59f916f43",
        "deepnote_cell_type": "code",
        "id": "1UjCPM-UHEqS",
        "outputId": "6cc01804-2b63-45ed-dcb6-e1564c75afd1",
        "colab": {
          "base_uri": "https://localhost:8080/"
        }
      },
      "source": [
        "def print_statistics(vals, calc_mode=True):\n",
        "    print(\"Count: {}\".format(len(vals)))\n",
        "    print(\"Mean: {:.2f}\".format(arithmetic_mean(vals)))\n",
        "    print(\"Median: {}\".format(median(vals)))\n",
        "    if calc_mode: print(\"Mode: {}\".format(mode(Counter(vals))))\n",
        "    print(\"Max: {}\".format(max(vals)))\n",
        "    print(\"Min: {}\".format(min(vals)))\n",
        "    print(\"Range: {}\".format(max(vals)-min(vals)))\n",
        "    for pct in [.25, .5, .75]:\n",
        "        print(\"{:.0f}th Percentile: {}\".format(pct*100, pct_value(vals, pct)))\n",
        "    print(\"IQR: {}\".format(pct_value(vals, 0.75) - pct_value(vals, 0.25)))\n",
        "\n",
        "print_statistics(skewed)"
      ],
      "execution_count": 54,
      "outputs": [
        {
          "output_type": "stream",
          "name": "stdout",
          "text": [
            "Count: 251\n",
            "Mean: 45.63\n",
            "Median: 43\n",
            "Mode: [(10, 22)]\n",
            "Max: 99\n",
            "Min: 1\n",
            "Range: 98\n",
            "25th Percentile: 15\n",
            "50th Percentile: 43\n",
            "75th Percentile: 72\n",
            "IQR: 57\n"
          ]
        }
      ]
    },
    {
      "cell_type": "markdown",
      "source": [
        "A few clues that this distribution is skewed:\n",
        "* The mean is significantly different from the median\n",
        "* The percentiles cluster around 25. A uniform distribution we'd expect 25, 50, and 75 for our percentiles.\n",
        "* The max i smuch higher than the mean, median, or even 75th percentile.\n",
        "   \n",
        "---  \n",
        "Let's take a look at a simple plot to describe all of these statistics to us:  \n",
        "\n",
        "## The Boxplot\n",
        "Also sometimes the Box-and-Whisker plot, this is a great way to visualize a lot of the information our `print_statistics` function displayed. In particular, we can see in one graph\n",
        "* Median\n",
        "* 75th percentile (called the third quartile)\n",
        "* 25th percentile (called the first quartile)\n",
        "* The reach ($\\pm1.5*IQR$), which shows outliers\n",
        "\n",
        "It does not show the mean, but it can be intuited by looking at the plot. Let's take a look at plots for values and skewed:"
      ],
      "metadata": {
        "cell_id": "00057-be531bbd-4fef-4c71-bf33-75c6da5d2672",
        "deepnote_cell_type": "markdown",
        "id": "7mQkPKxxHEqV"
      }
    },
    {
      "cell_type": "code",
      "metadata": {
        "cell_id": "00058-7305f823-3324-4834-9485-1c100cb68546",
        "deepnote_cell_type": "code",
        "id": "g-5ZJ0OwHEqW",
        "outputId": "b9980fbd-489e-436e-c5f6-c547a6cf56fa",
        "colab": {
          "base_uri": "https://localhost:8080/",
          "height": 282
        }
      },
      "source": [
        "sns.boxplot(values)"
      ],
      "execution_count": 68,
      "outputs": [
        {
          "output_type": "execute_result",
          "data": {
            "text/plain": [
              "<Axes: >"
            ]
          },
          "metadata": {},
          "execution_count": 68
        },
        {
          "output_type": "display_data",
          "data": {
            "text/plain": [
              "<Figure size 432x288 with 1 Axes>"
            ],
            "image/png": "[encoded data removed]"
          },
          "metadata": {
            "needs_background": "light"
          }
        }
      ]
    },
    {
      "cell_type": "markdown",
      "source": [
        "A classic uniform distribution: centered about 500, the median goes right down the middle, and the whiskers are evenly spaced. Now let's take a look at the `skewed` list:"
      ],
      "metadata": {
        "cell_id": "00059-d0c2af11-6a11-4e39-aef9-37120bd1264a",
        "deepnote_cell_type": "markdown",
        "id": "yzdgI5IQHEqX"
      }
    },
    {
      "cell_type": "code",
      "metadata": {
        "cell_id": "00060-ade91442-81dc-4930-8f08-b2e43d552c72",
        "deepnote_cell_type": "code",
        "id": "k49vFIyQHEqX",
        "outputId": "a3217eee-508c-45a1-ccbc-15f47a8b0dd5",
        "colab": {
          "base_uri": "https://localhost:8080/",
          "height": 282
        }
      },
      "source": [
        "sns.boxplot(skewed)"
      ],
      "execution_count": 56,
      "outputs": [
        {
          "output_type": "execute_result",
          "data": {
            "text/plain": [
              "<Axes: >"
            ]
          },
          "metadata": {},
          "execution_count": 56
        },
        {
          "output_type": "display_data",
          "data": {
            "text/plain": [
              "<Figure size 432x288 with 1 Axes>"
            ],
            "image/png": "[encoded data removed]"
          },
          "metadata": {
            "needs_background": "light"
          }
        }
      ]
    },
    {
      "cell_type": "markdown",
      "source": [
        "Looks pretty different? Instead of being centered around 50, it looks like the box is centered around 40. The median is at 27 and much of the box is to the right of it. This shows us that the distribution is skewed to the right. \n",
        "\n",
        "There's another important way to visualize a distribution and that is\n",
        "\n",
        "## Histogram\n",
        "Ah, the moment we've all been waiting for. I keep teaching you ways to describe a dataset, but sometimes a picture is worth a thousand words. That picture is the Histogram.\n",
        "\n",
        "A histogram is a bar chart in which the values of the dataset are plotted horizontally on the X axis and the _frequencies_ (i.e. how many times that value was seen) are plotted on the Y axis. If you remember our functions to make a counter, a histogram is essentially a chart of those counts.\n",
        "\n",
        "Think for a minute on what the histogram for our uniform dataset of 10,000 randomly generated numbers would look like? Pretty boring right?"
      ],
      "metadata": {
        "cell_id": "00061-16682128-9b73-419c-88e7-2e9baae1656f",
        "deepnote_cell_type": "markdown",
        "id": "YG1_eHouHEqX"
      }
    },
    {
      "cell_type": "code",
      "metadata": {
        "cell_id": "00062-349e1f9f-8f94-4356-8222-317d6f414b66",
        "deepnote_cell_type": "code",
        "id": "hp8ubTPAHEqY",
        "outputId": "7c68bc6d-ce04-431f-dd38-993b920c4046",
        "colab": {
          "base_uri": "https://localhost:8080/",
          "height": 386
        }
      },
      "source": [
        "# Seaborn gives an easy way to plot histograms. Plotting from scratch is beyond the\n",
        "# scope of the programming we will do\n",
        "sns.displot(values, kde=False, bins=100)"
      ],
      "execution_count": 70,
      "outputs": [
        {
          "output_type": "execute_result",
          "data": {
            "text/plain": [
              "<seaborn.axisgrid.FacetGrid at 0x7f9c3e7d43d0>"
            ]
          },
          "metadata": {},
          "execution_count": 70
        },
        {
          "output_type": "display_data",
          "data": {
            "text/plain": [
              "<Figure size 360x360 with 1 Axes>"
            ],
            "image/png": "[encoded data removed]"
          },
          "metadata": {
            "needs_background": "light"
          }
        }
      ]
    },
    {
      "cell_type": "markdown",
      "source": [
        "Seaborn's helpful `sns.distplot()` method simply turns a dataset into a histogram for us. The `bins` parameter allows us to make bins where instead of the frequency count of each variable, we plot the frequency count of a range of variables. This is very useful when we have continuous distribution (i.e. one that can take an infinite number of values of the range), as plotting every individual value is unfeasible and would make for an ugly graph.\n",
        "\n",
        "Let's take a look at our skewed data:"
      ],
      "metadata": {
        "cell_id": "00063-08836d9a-8a41-47d6-a367-ce73bbc6d85f",
        "deepnote_cell_type": "markdown",
        "id": "KjWtfEcZHEqY"
      }
    },
    {
      "cell_type": "code",
      "metadata": {
        "cell_id": "00064-f5a4b430-6cb4-4eb3-8613-f63bb6afec31",
        "deepnote_cell_type": "code",
        "id": "ECeKdaQtHEqZ",
        "outputId": "5ceaae44-6b3d-4d15-ce0d-6a1b82d141e9",
        "colab": {
          "base_uri": "https://localhost:8080/",
          "height": 386
        }
      },
      "source": [
        "sns.displot(skewed, kde=False, bins=100)"
      ],
      "execution_count": 71,
      "outputs": [
        {
          "output_type": "execute_result",
          "data": {
            "text/plain": [
              "<seaborn.axisgrid.FacetGrid at 0x7f9c3e5f1e50>"
            ]
          },
          "metadata": {},
          "execution_count": 71
        },
        {
          "output_type": "display_data",
          "data": {
            "text/plain": [
              "<Figure size 360x360 with 1 Axes>"
            ],
            "image/png": "[encoded data removed]"
          },
          "metadata": {
            "needs_background": "light"
          }
        }
      ]
    },
    {
      "cell_type": "markdown",
      "source": [
        "The data has tons of values around 10, and everything else hovers around 4. This type of distribution is called \"unimodal\" in that it has one peak, or one \"contender\" for the mode. Practically, unimodal and bimodal are incredibly common.\n",
        "\n",
        "I'm going to jump ahead to the next notebooks where we generate and describe different types of these distributions, how they're used, and how to describe them. One of the most basic and fundamental distribution in statistics is the unimodal Normal (or Gaussian) distribution. It's the familiar bell-curve. Let's use a simple, albeit slow, function to generate numbers according to the normal distribution."
      ],
      "metadata": {
        "cell_id": "00065-b92da32b-d03f-4c5e-bf43-026500276626",
        "deepnote_cell_type": "markdown",
        "id": "7sExC-B6HEqZ"
      }
    },
    {
      "cell_type": "code",
      "metadata": {
        "cell_id": "00066-4da4d016-e1cb-4d0b-98db-1ce79f1f704d",
        "deepnote_cell_type": "code",
        "id": "n33cH8EDHEqZ"
      },
      "source": [
        "from math import sqrt, log, cos, sin, pi\n",
        "\n",
        "def generateGauss():\n",
        "    x1 = random.random() # generate a random float in [0,1.0)\n",
        "    x2 = random.random()\n",
        "    y1 = sqrt(-2 *log(x1)) * cos(2*pi*x2)\n",
        "    y2 = sqrt(-2*log(x1)) * sin(2*pi*x2)\n",
        "    return y1, y2\n",
        "\n",
        "gaussValues = []\n",
        "for _ in range(10000):\n",
        "    gaussValues += list(generateGauss())"
      ],
      "execution_count": 59,
      "outputs": []
    },
    {
      "cell_type": "code",
      "metadata": {
        "cell_id": "00067-9f797cae-1fe6-49b1-accd-68e62cd532d0",
        "deepnote_cell_type": "code",
        "id": "ep5cV_EwHEqa",
        "outputId": "91b51179-5a4a-4de2-ab62-66e6e1b2ef47",
        "colab": {
          "base_uri": "https://localhost:8080/"
        }
      },
      "source": [
        "#Let's take a peek:\n",
        "gaussValues"
      ],
      "execution_count": 60,
      "outputs": [
        {
          "output_type": "execute_result",
          "data": {
            "text/plain": [
              "[0.15093238971075243,\n",
              " -0.19457071182480287,\n",
              " 1.3777253212512144,\n",
              " -1.731383328486658,\n",
              " 1.195346007445833,\n",
              " -0.0325714004836114,\n",
              " 0.5325720422376287,\n",
              " -0.875374653997219,\n",
              " -0.20003739768075507,\n",
              " -1.5848809023013781,\n",
              " 0.016452302697553458,\n",
              " 0.7824919623065049,\n",
              " -1.3121176559382608,\n",
              " -0.7156313410765357,\n",
              " -0.40114397122766116,\n",
              " -0.26088223676311795,\n",
              " -1.7458984224716871,\n",
              " -0.8717014244308326,\n",
              " 3.2253515581772514,\n",
              " -0.40366800149183024,\n",
              " -2.493691004673111,\n",
              " 0.46510749535674795,\n",
              " 0.7093742782939338,\n",
              " 0.15212069306385903,\n",
              " -1.1154272585723637,\n",
              " 0.14611680059198293,\n",
              " 0.290939816954363,\n",
              " -0.6054779025999655,\n",
              " 0.07504100655495553,\n",
              " 1.2572044550560397,\n",
              " 1.0760873911977191,\n",
              " 0.08416603498643999,\n",
              " 0.7514940689239623,\n",
              " -0.24452035384124288,\n",
              " -0.5702840621141684,\n",
              " 1.9271543492744427,\n",
              " 0.7847138906183142,\n",
              " 0.5030547506210551,\n",
              " -0.40936531105680085,\n",
              " 1.1407291378737827,\n",
              " 0.5263169837440694,\n",
              " -0.6533920274763155,\n",
              " 0.7543282729028927,\n",
              " 0.11662588472489387,\n",
              " 0.17167028209238913,\n",
              " -1.243440769504224,\n",
              " -0.42954173212225694,\n",
              " 0.2904966338718603,\n",
              " -0.4715220032864834,\n",
              " 0.49946910674201206,\n",
              " -0.828477179497508,\n",
              " -0.9209193651464603,\n",
              " 0.49518860911602003,\n",
              " 0.23567845202563203,\n",
              " -0.23625855812973476,\n",
              " 0.41176028946907767,\n",
              " -2.3369598326905425,\n",
              " 1.1741006485877732,\n",
              " 1.5267527329261643,\n",
              " -0.5378229125434867,\n",
              " 0.305101255217283,\n",
              " -1.0631495023757767,\n",
              " 0.6033944692998419,\n",
              " 0.3364695634171449,\n",
              " -0.04500726734709089,\n",
              " -0.5017135155880872,\n",
              " 2.269093491831555,\n",
              " -0.8117381586236604,\n",
              " 0.6763549347536045,\n",
              " -0.5741582447479417,\n",
              " -1.392544711746613,\n",
              " 1.5677602775085473,\n",
              " -0.6502005504864882,\n",
              " 0.7321940471046892,\n",
              " -1.740365309768641,\n",
              " -0.6738052350020484,\n",
              " -0.5875957083410472,\n",
              " -2.2495955344246563,\n",
              " 1.7687505991738925,\n",
              " -0.2093271477855484,\n",
              " 1.2799003364559554,\n",
              " 1.107932553155614,\n",
              " 1.126503994985078,\n",
              " -0.45300573959108864,\n",
              " 1.0093088400208599,\n",
              " -0.2652138477973079,\n",
              " -0.055325918603563985,\n",
              " -1.7664081180532851,\n",
              " -1.0382212426753876,\n",
              " 1.378957475802927,\n",
              " -0.6894966995997965,\n",
              " -1.470689904528129,\n",
              " 1.4766913743624073,\n",
              " 0.621135301477091,\n",
              " -1.4530032638231798,\n",
              " 0.12605614927069536,\n",
              " 0.812163637287948,\n",
              " 0.7891163459812615,\n",
              " -0.3604594066314896,\n",
              " -0.7453467911076188,\n",
              " -0.2944776200063262,\n",
              " 1.0827248305730157,\n",
              " 0.30110769623592126,\n",
              " -0.9286223682961002,\n",
              " 0.12103855263499277,\n",
              " -0.3125977482450339,\n",
              " 0.3198616065863966,\n",
              " 0.1399165408688658,\n",
              " -0.46166786032315266,\n",
              " 0.12513233746215047,\n",
              " 1.8003415940195235,\n",
              " -1.3438645319815952,\n",
              " 1.5188240830549524,\n",
              " -0.42447210348709724,\n",
              " -0.34141518574997226,\n",
              " 2.0759493869588552,\n",
              " -0.8493057101351278,\n",
              " 0.019594612841111587,\n",
              " -0.512436620156169,\n",
              " -0.06698639183823378,\n",
              " -0.25876014461107444,\n",
              " 0.9304729154050541,\n",
              " -0.24021043155829963,\n",
              " -0.06398951396554525,\n",
              " -1.1488154967721305,\n",
              " 1.6521849265114557,\n",
              " -0.78317935148191,\n",
              " -1.005545638944592,\n",
              " 1.4489102251953032,\n",
              " 0.604958232133678,\n",
              " 0.058045317990472724,\n",
              " 0.5206108628891796,\n",
              " -0.20192370830344325,\n",
              " -0.25921373933717223,\n",
              " -0.733495329284955,\n",
              " 1.1121805068096922,\n",
              " -0.43118866051079274,\n",
              " 0.8293547491201747,\n",
              " -0.3348164430060438,\n",
              " -0.9653057364525457,\n",
              " -0.5522959573077288,\n",
              " 0.19783465869996206,\n",
              " 1.0423797112935103,\n",
              " 1.137698583479159,\n",
              " 0.32476112181801436,\n",
              " 0.6063213106661679,\n",
              " -1.6333307937434722,\n",
              " 0.16223578071650602,\n",
              " 0.030172729371758193,\n",
              " -0.2419001757290852,\n",
              " -1.490828829309553,\n",
              " 1.9695478748310251,\n",
              " 0.6287365480388215,\n",
              " 1.0842220821264263,\n",
              " -0.0944028647189893,\n",
              " -0.38586214891114,\n",
              " 1.561527150900261,\n",
              " -0.26539687485876334,\n",
              " -0.2079574178381738,\n",
              " -0.5541230599347472,\n",
              " 0.5135280375185243,\n",
              " 0.7403725347411225,\n",
              " 1.6382964552072756,\n",
              " 0.43330091995699954,\n",
              " 1.0624221848167237,\n",
              " 1.0822791463034311,\n",
              " 0.6562529136387788,\n",
              " 1.5034458995874107,\n",
              " 1.047361250173754,\n",
              " 0.23196564880649106,\n",
              " -0.8429770666169474,\n",
              " 1.2599410719572868,\n",
              " -1.3607327415037072,\n",
              " -0.34816129032636584,\n",
              " -0.6067328172883032,\n",
              " 1.8068837465063077,\n",
              " -0.33616481275026794,\n",
              " 0.22981129874152392,\n",
              " 0.7200020749942331,\n",
              " 0.9328585481086719,\n",
              " -0.5336176195795573,\n",
              " 1.129976347946251,\n",
              " -0.23846282056393997,\n",
              " -3.293032980084257,\n",
              " -0.10864224691636053,\n",
              " 0.19390709972611467,\n",
              " -0.8241666597767647,\n",
              " 0.13632400648687956,\n",
              " 1.4774399813474512,\n",
              " -0.5423209497059652,\n",
              " -0.17666676092168426,\n",
              " -0.08824428254489926,\n",
              " -1.7957710051080418,\n",
              " -0.7802028542981727,\n",
              " -0.4132094104625585,\n",
              " 0.15731029617369638,\n",
              " -0.09932041386723175,\n",
              " -0.8571679329141627,\n",
              " 0.29361467026652815,\n",
              " 0.3523120566841011,\n",
              " -0.389683276676151,\n",
              " 1.019967212504442,\n",
              " 0.730025415662297,\n",
              " -1.1364467896382788,\n",
              " 1.0622472509575525,\n",
              " 0.6975857629549561,\n",
              " -1.5197139491041798,\n",
              " -1.868178508973531,\n",
              " 0.18076795214456487,\n",
              " 1.0222424400566297,\n",
              " -0.06366402568597235,\n",
              " 0.3590853282058667,\n",
              " -2.6741148875368745,\n",
              " -0.6582325234305214,\n",
              " -0.6017249710111019,\n",
              " -1.1203710620128187,\n",
              " -2.20189811489261,\n",
              " -0.16337842357969012,\n",
              " -0.7474049874832522,\n",
              " 1.6481947144560378,\n",
              " 0.9396781109118006,\n",
              " -0.34900063612362997,\n",
              " -0.28158542754779214,\n",
              " 0.3357785254087785,\n",
              " 1.1865595761112724,\n",
              " -1.553670839879841,\n",
              " -0.9839365026444478,\n",
              " 1.0111254541770538,\n",
              " -0.9426660490715699,\n",
              " 1.2745069628470427,\n",
              " 0.15011111035681,\n",
              " -0.15143409523405185,\n",
              " -0.3060898293345518,\n",
              " -2.1854722227992074,\n",
              " 1.2725409699266137,\n",
              " -0.059232903212247785,\n",
              " -0.15891462920449212,\n",
              " 0.6417481128586877,\n",
              " 0.6460185074037875,\n",
              " -0.12171800826742024,\n",
              " 1.0424927049991162,\n",
              " -0.7937532872097848,\n",
              " -1.694182116208631,\n",
              " -1.0335173567322518,\n",
              " 0.5805959814971611,\n",
              " 2.137267352740705,\n",
              " 0.8218036816465508,\n",
              " -0.9028561617046453,\n",
              " 0.15007221128618295,\n",
              " 0.0661949919710128,\n",
              " 0.01096063521430096,\n",
              " -0.28517595517483096,\n",
              " -1.8555587124594926,\n",
              " 1.186413294001484,\n",
              " -0.3634574021986349,\n",
              " 0.2164488210309944,\n",
              " -0.26790299916443644,\n",
              " -1.0501769789202944,\n",
              " 0.4886703068203579,\n",
              " 0.5680059906276602,\n",
              " -1.3508828700472912,\n",
              " 1.2405900496112654,\n",
              " 1.0489949061861952,\n",
              " 0.2850812843419084,\n",
              " 0.3131164531908574,\n",
              " -0.5326142736654006,\n",
              " -1.4375492939892833,\n",
              " -0.5616676562019747,\n",
              " 1.2226101019655697,\n",
              " 0.20815900765151446,\n",
              " -0.27593027669025594,\n",
              " 3.456864642239736,\n",
              " 0.1514313485743156,\n",
              " -0.25885833743307934,\n",
              " -0.6957730134793978,\n",
              " -1.0075518468025735,\n",
              " -0.413381294396015,\n",
              " 0.2369715070281009,\n",
              " -0.45348750784131575,\n",
              " -1.1015278603531056,\n",
              " 1.2277151155041257,\n",
              " 1.1435687357041073,\n",
              " 1.6008301821578148,\n",
              " -0.057025022005837825,\n",
              " -0.06482380910989967,\n",
              " -2.3259738272369836,\n",
              " -0.9548082687658034,\n",
              " -0.4172814684306784,\n",
              " -0.36858050382545804,\n",
              " -0.3827252971711744,\n",
              " -0.41815179677798964,\n",
              " -1.1444006585955226,\n",
              " -2.0545614798001393,\n",
              " -0.16203352112551486,\n",
              " 0.5926140708822419,\n",
              " -0.8687128862776421,\n",
              " 1.7779208596259444,\n",
              " 0.6847502448441565,\n",
              " 1.0899346445534925,\n",
              " -1.0454210081344046,\n",
              " 1.036006956572914,\n",
              " 1.7100571131529865,\n",
              " -1.4103476345768808,\n",
              " 0.7809628467234844,\n",
              " -0.2649998581768248,\n",
              " 0.33730732825492815,\n",
              " -1.5466043936135832,\n",
              " -0.29112806144166825,\n",
              " -0.36139434519938474,\n",
              " -0.03156666526467591,\n",
              " 0.2970238252070739,\n",
              " 0.6661592973666373,\n",
              " 0.03587187071802347,\n",
              " -2.1718289497768666,\n",
              " 0.767958388597442,\n",
              " -0.7930383649970822,\n",
              " -0.2450420387502309,\n",
              " -0.5659382415837007,\n",
              " -0.6113956996643003,\n",
              " -1.4237292321351693,\n",
              " 0.7122495803339277,\n",
              " 0.48951607840490635,\n",
              " 0.4639535274098075,\n",
              " -0.9349014114395009,\n",
              " -2.930612331727422,\n",
              " -0.3360498842341845,\n",
              " -1.3980612028232218,\n",
              " 0.13305066748881925,\n",
              " 1.2435702496118293,\n",
              " -0.7805840704503895,\n",
              " 1.204870926556234,\n",
              " 1.7622923772502188,\n",
              " 0.6555735366988554,\n",
              " 1.6088448003641815,\n",
              " -0.3526722657451709,\n",
              " -0.3047861813867973,\n",
              " -0.5997828430436253,\n",
              " -0.09751983956031687,\n",
              " -1.06589441284226,\n",
              " -0.35458865190770805,\n",
              " 0.5638349385284521,\n",
              " 0.4906186310882136,\n",
              " 1.1046067883542747,\n",
              " 0.5751227873436021,\n",
              " 0.5604298259697114,\n",
              " -0.29264307914142346,\n",
              " -0.4574418734021683,\n",
              " 1.1228061570054224,\n",
              " 0.5824199781614223,\n",
              " -1.2999501222736085,\n",
              " -0.3952397546753303,\n",
              " -0.2783309678796474,\n",
              " -0.40148599749876046,\n",
              " 0.6150274379658148,\n",
              " 0.8143358486882242,\n",
              " 0.14877456032555164,\n",
              " 0.11067593728164882,\n",
              " 0.6308173858519139,\n",
              " 0.3479788912765814,\n",
              " 0.43356280849645334,\n",
              " 1.215837319408084,\n",
              " 1.2211073516916355,\n",
              " 1.777878999510517,\n",
              " 0.957200609263572,\n",
              " 0.18250248152049647,\n",
              " -0.8405059197965985,\n",
              " 0.3492699560124744,\n",
              " -2.2331372972181556,\n",
              " 0.7191416581564851,\n",
              " 0.1968171734724222,\n",
              " 0.5640285652324213,\n",
              " -2.033839856290738,\n",
              " 1.075466850047793,\n",
              " 0.42007451383157496,\n",
              " -0.039057892189552974,\n",
              " 2.063260948290561,\n",
              " -1.1533003179371115,\n",
              " -2.0245043021413522,\n",
              " 0.15159751233777338,\n",
              " -0.7350407761292863,\n",
              " 0.11286954460043756,\n",
              " 0.39218681482334306,\n",
              " 0.18174979081081863,\n",
              " 0.4184243438996869,\n",
              " 1.2170848936362413,\n",
              " 0.7807713797586342,\n",
              " 0.5404187782516942,\n",
              " -0.20675294374954073,\n",
              " -0.18700077926965575,\n",
              " 0.2648828155425101,\n",
              " -1.9126291345763269,\n",
              " -0.007624064941659737,\n",
              " 0.04087357733027054,\n",
              " 0.7948057419537807,\n",
              " 0.8609735171181,\n",
              " 0.6181721401400656,\n",
              " 1.042814097128372,\n",
              " 0.09186445849980476,\n",
              " 0.6276722508459864,\n",
              " 1.63149046302292,\n",
              " 1.2971980057611365,\n",
              " -0.9219488441817416,\n",
              " 1.0995919905253955,\n",
              " -0.1842302465982145,\n",
              " 0.48245532923294643,\n",
              " 2.0973475947606,\n",
              " -0.3069917759315417,\n",
              " -1.1293092283572943,\n",
              " -1.1993067767518923,\n",
              " -0.7545717664594357,\n",
              " 1.2370713580927293,\n",
              " -0.3363556071191048,\n",
              " -1.131863606993666,\n",
              " 1.4625578923329303,\n",
              " 0.30981152867502615,\n",
              " 1.3569126403355438,\n",
              " 1.3059851590699532,\n",
              " 1.120328660818656,\n",
              " 0.12560516667110977,\n",
              " 0.12343851100350053,\n",
              " 1.379515770623762,\n",
              " 1.5829548080957057,\n",
              " -0.2067613686031347,\n",
              " -0.7072121275919655,\n",
              " 1.0466044743561764,\n",
              " 0.27299230739523844,\n",
              " 1.115354146284839,\n",
              " 0.9923532083366964,\n",
              " -1.2820636196508302,\n",
              " -0.9362762147406752,\n",
              " 1.5091934540363623,\n",
              " -0.22758515146922312,\n",
              " -1.2019581187329575,\n",
              " -0.42350549799202236,\n",
              " 0.9664398288782429,\n",
              " -1.2400332990533391,\n",
              " 1.654122728205397,\n",
              " 0.773415222914066,\n",
              " -0.5815202293059825,\n",
              " 0.0895705332140045,\n",
              " 0.37807131348327383,\n",
              " 0.7943199868734959,\n",
              " -0.05047723209906288,\n",
              " 0.002651217415136867,\n",
              " -1.9636218756155333,\n",
              " 0.8052997406505369,\n",
              " 0.7867192676715101,\n",
              " 0.4653039107019161,\n",
              " -1.5990728886043142,\n",
              " 1.1522382858267546,\n",
              " 0.8237517160334248,\n",
              " 0.6122177413174138,\n",
              " 0.39026634072424304,\n",
              " -0.05465944970110386,\n",
              " 2.3116799957907546,\n",
              " -0.3630453817144489,\n",
              " -1.217357273973301,\n",
              " -0.8268772400976601,\n",
              " 0.09821596857939005,\n",
              " 0.09549211490965243,\n",
              " -0.09223225650925976,\n",
              " -0.5871176442205354,\n",
              " -0.3635448426125944,\n",
              " -1.5570414062749511,\n",
              " -0.14968163631237094,\n",
              " 1.0297789726096442,\n",
              " -0.42538452109465485,\n",
              " -0.5401641516978,\n",
              " -1.3377136001753818,\n",
              " 0.20475958987445012,\n",
              " -0.8296885232545317,\n",
              " 0.5681060606689547,\n",
              " -0.21732234491963326,\n",
              " 1.1840232499214884,\n",
              " 0.5655174155688687,\n",
              " 0.45620423245250685,\n",
              " -1.663209433607502,\n",
              " 0.02849245348077488,\n",
              " 0.6392658123940914,\n",
              " 0.7215179636862568,\n",
              " 2.0304727602389896,\n",
              " 0.700213198216834,\n",
              " -1.0115118796863272,\n",
              " -2.084855982227124,\n",
              " -0.1761747984944342,\n",
              " 0.16003785217352062,\n",
              " 0.504694312263619,\n",
              " 0.7203819087136744,\n",
              " 0.8014086469718101,\n",
              " 0.5545100828929511,\n",
              " 0.022931459980456623,\n",
              " -2.267146236706568,\n",
              " 0.19294936155441292,\n",
              " -0.7012961190556969,\n",
              " -0.9385178210930762,\n",
              " -1.522772233565572,\n",
              " -0.08743727857201025,\n",
              " 1.1908118577018787,\n",
              " 0.9293792126989049,\n",
              " -1.1281477590311262,\n",
              " 1.0506675492866417,\n",
              " -0.32264595118835854,\n",
              " -2.3812357783025,\n",
              " 1.11310644418437,\n",
              " -0.313878073853605,\n",
              " 0.2815598930236195,\n",
              " -1.0844389112991595,\n",
              " 1.066376215059885,\n",
              " 1.2203369912381061,\n",
              " 0.2555980816998858,\n",
              " 0.6918325584849468,\n",
              " -0.83243345255092,\n",
              " -0.42122183373986916,\n",
              " -1.4867154849847692,\n",
              " 0.7911006101149969,\n",
              " 0.8915320976826429,\n",
              " -0.81533803969564,\n",
              " 0.06440083768805543,\n",
              " -0.9547988270558103,\n",
              " -1.8746138809606356,\n",
              " -0.3600240882748102,\n",
              " -0.8373621729264564,\n",
              " -1.044564568790739,\n",
              " 0.15931883111866837,\n",
              " -0.5605979940902693,\n",
              " -0.023560879527022925,\n",
              " -1.3689562791092542,\n",
              " 0.045680685938218994,\n",
              " -0.18041923828600337,\n",
              " -0.16301147379288902,\n",
              " 1.4295343002335537,\n",
              " -0.20086061996590107,\n",
              " 1.4850625755172504,\n",
              " 0.26541023025942256,\n",
              " 1.2931340771605326,\n",
              " -2.127141795228012,\n",
              " -0.07239582255605125,\n",
              " -1.4494246342081514,\n",
              " 2.0863777166543316,\n",
              " -1.6965546576744681,\n",
              " 1.2005042585456316,\n",
              " 0.8420398754501688,\n",
              " -0.9110376438271288,\n",
              " 1.13912385721397,\n",
              " -0.7655422165454292,\n",
              " -1.22733433350832,\n",
              " -0.99831765548075,\n",
              " -1.3398249177839237,\n",
              " 0.865156186430708,\n",
              " -0.5460830484058173,\n",
              " -0.7896849498979424,\n",
              " 2.197225692622098,\n",
              " 1.4624211709439519,\n",
              " 0.18205870943820965,\n",
              " -1.4520693124506312,\n",
              " 0.3639970314804746,\n",
              " -0.493260838045554,\n",
              " -0.22476889363506652,\n",
              " -0.04748932357916863,\n",
              " 0.45313933557767294,\n",
              " -0.7245912374883848,\n",
              " -0.4470996537930544,\n",
              " -0.12178114543477284,\n",
              " 0.11766212181465438,\n",
              " -1.2317152607105808,\n",
              " -0.603781977185401,\n",
              " 0.5276366394687656,\n",
              " 0.38363764593246535,\n",
              " -0.4558584397229702,\n",
              " 0.760229256477405,\n",
              " 0.10965687028444776,\n",
              " -1.1675727762062709,\n",
              " -1.1035685172045753,\n",
              " -0.9708073717246097,\n",
              " -1.3094378157754645,\n",
              " 0.5569887260002575,\n",
              " 0.6789879062354695,\n",
              " -0.9682459700669962,\n",
              " 0.3721140120074053,\n",
              " -0.5832709999132246,\n",
              " -0.2597906134457914,\n",
              " 1.0864485649760807,\n",
              " 2.4676525102824973,\n",
              " -0.05849950585539706,\n",
              " 0.2037590344257607,\n",
              " 1.3345233458824661,\n",
              " 0.6458342419333819,\n",
              " 0.42109148019644654,\n",
              " 0.48193533103815367,\n",
              " 0.32634506493261917,\n",
              " 1.345406963145056,\n",
              " 0.6051331201520651,\n",
              " -0.6578039087000189,\n",
              " 0.10304919247341064,\n",
              " 0.5000412422104964,\n",
              " -1.695210901332959,\n",
              " -0.29624118213874523,\n",
              " 0.8769742974289173,\n",
              " -0.6024989141653572,\n",
              " 0.27017012983566974,\n",
              " 0.3425630041353403,\n",
              " 1.056038364712938,\n",
              " -0.9544465248383981,\n",
              " -0.9540133541607734,\n",
              " 0.10612944972446148,\n",
              " -1.2535764063040524,\n",
              " 1.8374921796018984,\n",
              " 0.21576455462871588,\n",
              " 0.5457012866526482,\n",
              " -0.6372311880878002,\n",
              " 0.24197770602068075,\n",
              " 1.0206939106572361,\n",
              " -0.013601003975720045,\n",
              " -0.27758473621495755,\n",
              " 1.1386276094416234,\n",
              " -0.4744627318652166,\n",
              " -0.844525991261076,\n",
              " -0.7391190627815372,\n",
              " -0.6626606835552893,\n",
              " 0.293086231480337,\n",
              " -0.7459114973346024,\n",
              " -0.7625791916988175,\n",
              " -0.7498586183523018,\n",
              " 0.8584024730729303,\n",
              " 1.144796396583883,\n",
              " 1.5855579106571966,\n",
              " -0.2700771308208887,\n",
              " 0.8263389954759446,\n",
              " -0.5391851515610346,\n",
              " 1.171456850654388,\n",
              " 0.5607302209031908,\n",
              " 0.24025874135662223,\n",
              " -1.5209765163179108,\n",
              " 0.9328658177520649,\n",
              " -0.3784825251292279,\n",
              " -0.49459354338251255,\n",
              " -1.3271265009381628,\n",
              " -0.9800023596098227,\n",
              " 1.0153495359040294,\n",
              " 0.8789368950883625,\n",
              " 0.05037850427563009,\n",
              " 1.8162755550959884,\n",
              " -0.60036131091111,\n",
              " 0.13752875044896343,\n",
              " -0.9915836845381129,\n",
              " 0.420742019664402,\n",
              " 0.9081930325494851,\n",
              " 0.21504500379027053,\n",
              " 1.2544693579863813,\n",
              " 1.448966724623894,\n",
              " 0.5430341077555585,\n",
              " -1.5529428104421763,\n",
              " 0.4098164357611984,\n",
              " 0.8167702139267231,\n",
              " 0.550342531199688,\n",
              " -0.12742813924619095,\n",
              " 1.1921703925983957,\n",
              " 0.14991170233080675,\n",
              " 0.47536957485328324,\n",
              " 0.2768342751731191,\n",
              " 0.6769448712297657,\n",
              " -0.7470418446330714,\n",
              " -0.38172722262440384,\n",
              " 0.25244453747396056,\n",
              " -0.7816592234654032,\n",
              " -1.18883247013206,\n",
              " 2.0546033607046303,\n",
              " -0.7666167911458365,\n",
              " 0.5098568779582953,\n",
              " 0.6207464710861484,\n",
              " -0.20374874157115658,\n",
              " -2.08283638776478,\n",
              " -0.36906994232696444,\n",
              " -0.05124368398659517,\n",
              " 0.5821015495135057,\n",
              " -0.19045331940409221,\n",
              " -0.004277787355715176,\n",
              " 0.37653744892478613,\n",
              " 0.03707062055876471,\n",
              " 0.49390752255933434,\n",
              " 0.7148581591537203,\n",
              " -1.9214351845976176,\n",
              " -1.2861560768757887,\n",
              " -0.7532996060922726,\n",
              " -0.014018804617326686,\n",
              " -1.372324141398165,\n",
              " -1.503818036426908,\n",
              " 0.7917721154733443,\n",
              " 0.8916386744654552,\n",
              " 1.754140333529101,\n",
              " -0.2294801276495596,\n",
              " 0.09173371121991042,\n",
              " -1.400096491760049,\n",
              " -0.8821363072141645,\n",
              " -0.84260102918721,\n",
              " 0.8457305860438648,\n",
              " -0.13165810838366085,\n",
              " 0.29659482664014664,\n",
              " -0.5374471137315558,\n",
              " -1.1950841139013246,\n",
              " 0.19863446533793264,\n",
              " -0.1878650555294507,\n",
              " -0.23520212503245944,\n",
              " 0.2736477627473804,\n",
              " 0.3546095579696657,\n",
              " -0.7371030123091875,\n",
              " 2.718170015936939,\n",
              " -0.5752931810074621,\n",
              " 0.5442595918162451,\n",
              " -0.8403235202573872,\n",
              " 0.8459247773090355,\n",
              " -0.32972079490753764,\n",
              " 0.20767817058309124,\n",
              " -0.8348772284581849,\n",
              " -1.5983325930281427,\n",
              " -0.5497898531864767,\n",
              " 1.480193192781184,\n",
              " -0.3951189641168245,\n",
              " 0.5428399710789225,\n",
              " -1.3163693138444683,\n",
              " 1.3751239246581863,\n",
              " -1.52171659636852,\n",
              " -0.4235963663710205,\n",
              " 0.35733900714953504,\n",
              " -0.34017243736086084,\n",
              " 0.27086461934512696,\n",
              " -0.00733357342190052,\n",
              " 0.21083654646653882,\n",
              " 0.9674654901164496,\n",
              " -1.9683360045331926,\n",
              " 0.41894861959739643,\n",
              " 1.6483041747331832,\n",
              " 0.4164139511067459,\n",
              " -0.2431310063625661,\n",
              " 0.6969174818830548,\n",
              " -0.6588529821924813,\n",
              " -0.6061098688135835,\n",
              " 0.4047758812043006,\n",
              " 1.738295511979329,\n",
              " -1.935998524890177,\n",
              " 0.5806999659664914,\n",
              " -0.22782697619279751,\n",
              " -1.0480008241171987,\n",
              " 0.6380447201426933,\n",
              " -0.11968491410061788,\n",
              " -0.575859404957359,\n",
              " 0.21907508267145423,\n",
              " -0.46373190228953415,\n",
              " -0.19766545029208402,\n",
              " -0.5891732592470057,\n",
              " -0.6967125665964033,\n",
              " 0.9357922132510902,\n",
              " 0.39088875840822596,\n",
              " -0.9283407206306035,\n",
              " -0.746487612630232,\n",
              " 0.22574428543444428,\n",
              " 2.540445448011115,\n",
              " 0.8626407716722267,\n",
              " -0.6442555426313715,\n",
              " -0.6874144195888313,\n",
              " 0.4492897058538448,\n",
              " 0.5167248196176885,\n",
              " -0.9363557119140502,\n",
              " -0.9759676887074387,\n",
              " 1.3238997980196496,\n",
              " 0.7521879113719427,\n",
              " -1.9114553565095342,\n",
              " -0.19725054583072002,\n",
              " 0.12042623376268846,\n",
              " -0.21704292274747308,\n",
              " 0.42072128186520474,\n",
              " -0.6029607456347109,\n",
              " 0.22995039351327182,\n",
              " -0.8376140291755564,\n",
              " -1.4968995843354833,\n",
              " 0.20474172342893346,\n",
              " -0.05259738562201693,\n",
              " 0.7826460286065839,\n",
              " 0.4015792311206184,\n",
              " -0.7669533203613214,\n",
              " 0.21204453363087147,\n",
              " 0.634431159218336,\n",
              " 0.5507874445252795,\n",
              " 1.2074829405409961,\n",
              " 0.48306478354161,\n",
              " -0.174747099194184,\n",
              " 0.07913885789852923,\n",
              " 0.48944985027151217,\n",
              " 0.2890929836784787,\n",
              " -0.15164563154349922,\n",
              " -0.6529502185136065,\n",
              " -0.6664414538220312,\n",
              " 0.4364002871633401,\n",
              " -0.07157336434152543,\n",
              " -0.5423372241683273,\n",
              " -1.7152724920342781,\n",
              " -1.53332853263713,\n",
              " 1.0988661960173611,\n",
              " -0.08298857907430617,\n",
              " 1.2985223004935298,\n",
              " -1.484436463778947,\n",
              " 1.622747633657563,\n",
              " 0.24372323437583174,\n",
              " 0.221352997112137,\n",
              " -0.7464437148829334,\n",
              " 0.3221315325348266,\n",
              " -0.3912418328857124,\n",
              " 0.11711896925096138,\n",
              " 0.6536662508032391,\n",
              " 0.6024352635663772,\n",
              " 0.29982430555720574,\n",
              " 0.7649003124268604,\n",
              " 0.10927347459086774,\n",
              " -0.5340469466049519,\n",
              " -1.576867819869629,\n",
              " 0.05780632501875567,\n",
              " 1.2509803921201454,\n",
              " -1.5850632256139081,\n",
              " 1.0101729791075555,\n",
              " -0.030428011079213793,\n",
              " -0.7018434110465658,\n",
              " -1.4255750019951268,\n",
              " -1.1080855762904709,\n",
              " 0.717712327914648,\n",
              " -0.49021006225532654,\n",
              " 1.8996774490417292,\n",
              " -1.2096594234062392,\n",
              " -1.1032121400343107,\n",
              " -0.30116903094460434,\n",
              " 0.3221788662048349,\n",
              " -0.8411770795041774,\n",
              " 0.2263515903085844,\n",
              " 2.025564455389571,\n",
              " 2.24597077571704,\n",
              " -0.526606765558951,\n",
              " -1.4076109944896968,\n",
              " -0.19791135644895316,\n",
              " -0.8438617573583539,\n",
              " -0.0723989110402239,\n",
              " -0.8271040115749424,\n",
              " 1.3632763551777718,\n",
              " 0.9299847159633627,\n",
              " -1.1843626833883414,\n",
              " 2.065462303044203,\n",
              " 1.4270130070523284,\n",
              " -0.928075057616915,\n",
              " 0.07501657503558982,\n",
              " -0.03007148884959195,\n",
              " -0.21058064609220647,\n",
              " -0.14945030831496706,\n",
              " 0.7306873265583345,\n",
              " 0.21483506536581207,\n",
              " -1.2098728203597477,\n",
              " -1.1312618259993594,\n",
              " -1.2200742932971442,\n",
              " 0.9501147773332776,\n",
              " 1.3801468001964052,\n",
              " -0.2807736768388873,\n",
              " -0.9427097117557343,\n",
              " -0.5220211174302528,\n",
              " -1.640248002672177,\n",
              " -0.03862078315394077,\n",
              " 0.2735827540247853,\n",
              " -0.26380084660098246,\n",
              " -0.8261664720639038,\n",
              " 1.8353678736474166,\n",
              " 0.7079835921259573,\n",
              " 0.8757380707491504,\n",
              " 1.9929019649640214,\n",
              " 0.5676320683610934,\n",
              " 1.403900102909815,\n",
              " -1.4637361218935037,\n",
              " -0.00821816927254052,\n",
              " -0.6008735270760172,\n",
              " -0.08041009845966984,\n",
              " 0.38312452214942355,\n",
              " -0.38879327317613227,\n",
              " -0.3338883678355589,\n",
              " -0.06372294256632927,\n",
              " 0.7353242349681938,\n",
              " 1.1905223399560125,\n",
              " -0.9516799987256563,\n",
              " 1.517969699023473,\n",
              " -0.051856847996804525,\n",
              " 0.4268875766048483,\n",
              " 0.5974879577019022,\n",
              " -0.3097979502285349,\n",
              " -0.47110271719302793,\n",
              " 0.6341827583907512,\n",
              " 0.22034933722257397,\n",
              " 0.24642517178393253,\n",
              " 1.9370051385537612,\n",
              " -0.16561957112509404,\n",
              " 2.5746282056440575,\n",
              " -0.7688100647455228,\n",
              " 0.3245248453695645,\n",
              " 0.0879984322099876,\n",
              " -0.04331150416181822,\n",
              " -1.5693896845609885,\n",
              " 1.9838268317936572,\n",
              " -0.8257040026372718,\n",
              " 0.07700779143350946,\n",
              " 0.6736826439404608,\n",
              " -0.9801481295862028,\n",
              " 0.3811447206364344,\n",
              " 0.3747529268714348,\n",
              " 1.4717265682840324,\n",
              " -1.603727982857145,\n",
              " 0.9085378906788858,\n",
              " 1.6114873832581311,\n",
              " -0.16592039460229713,\n",
              " 1.1507022248036622,\n",
              " -0.41270094977260496,\n",
              " -0.24644757198245876,\n",
              " 1.0214620081141803,\n",
              " -0.18405050972036371,\n",
              " -1.0232308253009053,\n",
              " -0.487696864120179,\n",
              " 1.172398195524653,\n",
              " 0.614499097348804,\n",
              " -0.32187619852464444,\n",
              " -0.6508970327562787,\n",
              " 0.48237782893640385,\n",
              " 0.07939340621618718,\n",
              " -0.36981762055547435,\n",
              " -0.7941686037732955,\n",
              " -1.1505546354274512,\n",
              " -0.7336013992418335,\n",
              " 0.1643585304212814,\n",
              " -0.2701969729756921,\n",
              " 1.6894554378623394,\n",
              " 0.943537914210888,\n",
              " -0.32784702970776924,\n",
              " -0.5133140460815874,\n",
              " 1.2071587267180452,\n",
              " -0.34905504614619837,\n",
              " 1.0196468816373625,\n",
              " 0.03720930399721528,\n",
              " -0.13775547379437839,\n",
              " -0.20594918744464816,\n",
              " -0.1439166839306189,\n",
              " 0.28282364887925815,\n",
              " -0.07777538573825518,\n",
              " -0.7868567094229129,\n",
              " -0.2676415900417377,\n",
              " -0.12421826652178636,\n",
              " 1.6812066817450253,\n",
              " 0.5309087001925984,\n",
              " -0.41653488848919357,\n",
              " 0.8412595297860941,\n",
              " 2.1709505353682736,\n",
              " 1.033661725083202,\n",
              " -0.23075911095166018,\n",
              " 0.21293289979329275,\n",
              " 0.5925754832322528,\n",
              " 1.2194881857120274,\n",
              " 0.1770478904353614,\n",
              " -0.19951492648161098,\n",
              " 1.3184032110220425,\n",
              " -1.7594952767373566,\n",
              " 0.35097934710372963,\n",
              " -1.8723118308460887,\n",
              " 0.02547297376643831,\n",
              " -1.5844031296999876,\n",
              " 0.669328991087307,\n",
              " 0.6333229301980254,\n",
              " -1.0868686210699208,\n",
              " 0.49190443119220195,\n",
              " -0.24191466969486353,\n",
              " 0.60987223320714,\n",
              " 0.5903642001808977,\n",
              " 0.6389476616402219,\n",
              " 0.44491071464673393,\n",
              " -0.7851284887355078,\n",
              " -1.153533066874052,\n",
              " 0.07531756198935362,\n",
              " -0.4879620871545565,\n",
              " 0.07276720785730845,\n",
              " -0.9490091551016424,\n",
              " 0.49812666613856504,\n",
              " 0.27935331384869294,\n",
              " -0.6928866819423984,\n",
              " -0.9044337780608039,\n",
              " 0.3974304492201719,\n",
              " 1.2644100368548985,\n",
              " 0.32835780724809027,\n",
              " -1.4270790943834797,\n",
              " 0.3329069233037673,\n",
              " -0.6744012036862187,\n",
              " -1.5922773185034278,\n",
              " -1.9299072258059822,\n",
              " 0.056738524521539074,\n",
              " -0.950472036387698,\n",
              " -0.14856806746931978,\n",
              " -1.451710289498843,\n",
              " 0.602862646098696,\n",
              " -0.4369655242210312,\n",
              " 0.06187748424912084,\n",
              " 1.3563304482807863,\n",
              " 1.4047327172706816,\n",
              " ...]"
            ]
          },
          "metadata": {},
          "execution_count": 60
        }
      ]
    },
    {
      "cell_type": "code",
      "metadata": {
        "cell_id": "00068-955e9a9e-45b5-439e-8737-478a9e1540e4",
        "deepnote_cell_type": "code",
        "id": "K-fFhKc5HEqa",
        "outputId": "59926f3d-e1a2-4ec5-fbab-e70033376c3c",
        "colab": {
          "base_uri": "https://localhost:8080/"
        }
      },
      "source": [
        "# and print our statistics\n",
        "print_statistics(gaussValues, calc_mode=False)"
      ],
      "execution_count": 61,
      "outputs": [
        {
          "output_type": "stream",
          "name": "stdout",
          "text": [
            "Count: 20000\n",
            "Mean: 0.01\n",
            "Median: 0.010062441328288894\n",
            "Max: 3.9866663658314954\n",
            "Min: -4.066776409332647\n",
            "Range: 8.053442775164143\n",
            "25th Percentile: -0.6546706901431494\n",
            "50th Percentile: 0.010073332619407219\n",
            "75th Percentile: 0.6875620288674947\n",
            "IQR: 1.342232719010644\n"
          ]
        }
      ]
    },
    {
      "cell_type": "markdown",
      "source": [
        "The nature of the function is such that the mean should fall around 0. It looks like we accompished that. Also note how the 25th and 50th percentile are roughly the same number. This is an indication that the distribution is not significantly skewed. Let's take a look at it's histogram:"
      ],
      "metadata": {
        "cell_id": "00069-e84730e4-235b-4aca-98ba-9e8ae98e3e86",
        "deepnote_cell_type": "markdown",
        "id": "vWE26GXaHEqa"
      }
    },
    {
      "cell_type": "code",
      "metadata": {
        "cell_id": "00070-461f732c-efbb-40f1-985d-d36710eb2234",
        "deepnote_cell_type": "code",
        "id": "4wRn4BpgHEqb",
        "outputId": "28fb6df9-b4dc-46a4-bc38-d0cf506b24d1",
        "colab": {
          "base_uri": "https://localhost:8080/",
          "height": 386
        }
      },
      "source": [
        "sns.displot(gaussValues, kde=False)"
      ],
      "execution_count": 72,
      "outputs": [
        {
          "output_type": "execute_result",
          "data": {
            "text/plain": [
              "<seaborn.axisgrid.FacetGrid at 0x7f9c3ef6e940>"
            ]
          },
          "metadata": {},
          "execution_count": 72
        },
        {
          "output_type": "display_data",
          "data": {
            "text/plain": [
              "<Figure size 360x360 with 1 Axes>"
            ],
            "image/png": "[encoded data removed]"
          },
          "metadata": {
            "needs_background": "light"
          }
        }
      ]
    },
    {
      "cell_type": "markdown",
      "source": [
        "Get used to this image because you will see it _everywhere_ in statistics, data science, and life. Even though there are many many distributions out there (and even more variations on each of those), most people will be happy to apply the \"bell curve\" to almost anything. Chance are, though, they're right.\n",
        "   \n",
        "--- \n",
        "\n",
        "## Variability\n",
        "Let's talk about one more descriptive statistic that describes to us how much the values vary. In other words, if we're looking at test scores, did everyone do about the same? Or were there some big winners and losers?\n",
        "\n",
        "Mathemeticians call this the _variability_. There are three major measures of variability: range, inter-quartile range (IQR), and variation/standard devaition.\n",
        "\n",
        "### 1. Range\n",
        "Range is a very simple measure: how far apart could my values possibly be? In our generated datasets above, the answer was pretty obvious. We generated a random number from 0 to 1000, so the range was $1000-0 = 1000$. The values of x could never go outside of this range.\n",
        "\n",
        "But what about our gaussian values? The tandard normal distribution has asymptotic end points instead of absolute end points, so it's not so clean. We can see from the graph above that it doesn't look like there are any values above and below 4, so we'd expect a range of something around 8:"
      ],
      "metadata": {
        "cell_id": "00071-c3ad3eb2-f1cd-4cd8-8bf0-6e1cc9d02723",
        "deepnote_cell_type": "markdown",
        "id": "C9dRXbIMHEqb"
      }
    },
    {
      "cell_type": "code",
      "metadata": {
        "cell_id": "00072-8adc85bd-4265-4ec5-b42c-24a0727b6005",
        "deepnote_cell_type": "code",
        "id": "wgsoW8IoHEqc",
        "outputId": "ffb68398-cfb9-4e24-80a2-373e31d1e269",
        "colab": {
          "base_uri": "https://localhost:8080/"
        }
      },
      "source": [
        "print(\"Max: {}\\nMin: {}\\nRange: {}\".format(\n",
        "    max(gaussValues),\n",
        "    min(gaussValues),\n",
        "    max(gaussValues) - min(gaussValues)))"
      ],
      "execution_count": 63,
      "outputs": [
        {
          "output_type": "stream",
          "name": "stdout",
          "text": [
            "Max: 3.9866663658314954\n",
            "Min: -4.066776409332647\n",
            "Range: 8.053442775164143\n"
          ]
        }
      ]
    },
    {
      "cell_type": "markdown",
      "source": [
        "Exactly what we expected. In practice, the range is a good descriptive statistic, but you can't do many other interesting things with it. It basically let's you say \"our results were between X and Y\", but nothing too much more profound. \n",
        "\n",
        "Another good way to describe the range is called\n",
        "\n",
        "### 2. Inter-Quartile Range\n",
        "or IQR for short. This is a similar technique where instead of taking the difference between the max and min values, we take the difference between the 75th and 25th percentile. It gives a good sense of the range because it excludes outliers and tells you where the middle 50% of the values are grouped. Of course, this is most useful when we're looking at a unimodal distribution like our normal distribution, because for a distribution that's bimodal (i.e. has many values at either end of the range), it will be misleading.\n",
        "\n",
        "Here's how we caluclated it:"
      ],
      "metadata": {
        "cell_id": "00073-00ee1224-27f9-40c4-a832-1d17c0a1af2f",
        "deepnote_cell_type": "markdown",
        "id": "yuKlZvkFHEqc"
      }
    },
    {
      "cell_type": "code",
      "metadata": {
        "cell_id": "00074-3060ea10-6be7-4df1-9edb-30de8afa558c",
        "deepnote_cell_type": "code",
        "id": "NYkEqKkXHEqc",
        "outputId": "d4c736dc-b539-4a64-85de-044b5f5f0f77",
        "colab": {
          "base_uri": "https://localhost:8080/"
        }
      },
      "source": [
        "print(\"75th: {}\\n25th: {}\\nIQR: {}\".format(\n",
        "    pct_value(gaussValues, .75),\n",
        "    pct_value(gaussValues, .25),\n",
        "    pct_value(gaussValues, .75) - pct_value(gaussValues, .25)\n",
        "))"
      ],
      "execution_count": 64,
      "outputs": [
        {
          "output_type": "stream",
          "name": "stdout",
          "text": [
            "75th: 0.6875620288674947\n",
            "25th: -0.6546706901431494\n",
            "IQR: 1.342232719010644\n"
          ]
        }
      ]
    },
    {
      "cell_type": "markdown",
      "source": [
        "So again, this tells us that 50% of our values are between -0.68 and 0.68 and all within the same 1.35 values. Comparing this to the range (which is not at all influenced by percentages of values), this gives you the sense that the're bunched around the mean.\n",
        "\n",
        "If we want a little more predictive power, though, it's time to talk about\n",
        "\n",
        "### 3. Variance\n",
        "\n",
        "Variance is a measure of how much values typically deviate (i.e. how far away they are) from the mean.\n",
        "\n",
        "If we want to calculate the variance, then we first see how far a value is from the mean ($\\mu$), square it (which gets rid of the negative), sum them up, and divide by $n$. Essentially, it's an average where the value is the deviation squared instead of the value itself. Here's the formula for variance, denoted by $\\sigma^2$:\n",
        "\n",
        "$$ \\sigma^2 = \\frac{(x_1 - \\mu)^2+(x_2 - \\mu)^2+ \\cdots + (x_n - \\mu)^2}{n} $$\n",
        "\n",
        "Let's code that up:"
      ],
      "metadata": {
        "cell_id": "00075-dd5afdfb-fc69-46dc-b7a3-de9de34f771c",
        "deepnote_cell_type": "markdown",
        "id": "NwcJVZqEHEqd"
      }
    },
    {
      "cell_type": "code",
      "metadata": {
        "cell_id": "00076-c54766fe-b6ac-4737-8c90-1a95c7017039",
        "deepnote_cell_type": "code",
        "id": "3yYESbnfHEqd",
        "outputId": "0ba918b1-153a-4c06-fe65-461f78a884c9",
        "colab": {
          "base_uri": "https://localhost:8080/"
        }
      },
      "source": [
        "def variance(vals):\n",
        "    n = len(vals)\n",
        "    m = arithmetic_mean(vals)\n",
        "    variance = 0\n",
        "    for x in vals:\n",
        "        variance += (x - m)**2\n",
        "    return variance/n\n",
        "\n",
        "variance(gaussValues)"
      ],
      "execution_count": 65,
      "outputs": [
        {
          "output_type": "execute_result",
          "data": {
            "text/plain": [
              "1.0019592612104706"
            ]
          },
          "metadata": {},
          "execution_count": 65
        }
      ]
    },
    {
      "cell_type": "markdown",
      "source": [
        "The variance four our generated Gaussian numbers is roughly 1, which is another condition of a standard normal distribution (mean is 0, variance is 1). So no surprise. But the variance is a bit of a tricky number to intuit because it is the average of the _squared_ differences between the mean. Take our skewed for example:"
      ],
      "metadata": {
        "cell_id": "00077-c769054c-9a6a-44b4-8cc7-55ead0df01a5",
        "deepnote_cell_type": "markdown",
        "id": "BeeptXI4HEqe"
      }
    },
    {
      "cell_type": "code",
      "metadata": {
        "cell_id": "00078-dd70ced5-9862-4acd-ad78-9606a2d7d44f",
        "deepnote_cell_type": "code",
        "id": "H0TfSa61HEqe",
        "outputId": "7a115495-13d8-4179-9d8a-c9ef1ed63a32",
        "colab": {
          "base_uri": "https://localhost:8080/"
        }
      },
      "source": [
        "variance(skewed)"
      ],
      "execution_count": 66,
      "outputs": [
        {
          "output_type": "execute_result",
          "data": {
            "text/plain": [
              "904.0270789352559"
            ]
          },
          "metadata": {},
          "execution_count": 66
        }
      ]
    },
    {
      "cell_type": "markdown",
      "source": [
        "How do you interpret this? The max value is 100, so is a variance of 934.8 a lot or a little? Also, let's say the skewed distribution was a measure of price in dollars. Therefore, the units of variance would be 934.8 dollars squared. Doesn't make a whole lot of sense.\n",
        "\n",
        "For this reason, most people will take the square root of the variance to give them a value called the **standard deviation**: $\\sigma = \\sqrt{\\sigma^2}$."
      ],
      "metadata": {
        "cell_id": "00079-a83ddfdf-15ad-4912-ae20-18197abf946c",
        "deepnote_cell_type": "markdown",
        "id": "0nyqqniKHEqf"
      }
    },
    {
      "cell_type": "code",
      "metadata": {
        "cell_id": "00080-cd76146a-b46d-4d06-a9e7-dcb1a8b48229",
        "deepnote_cell_type": "code",
        "id": "ijLKa_5nHEqg",
        "outputId": "ae909ea3-eb28-475d-9343-ea6f3028a76c",
        "colab": {
          "base_uri": "https://localhost:8080/"
        }
      },
      "source": [
        "def stddev(vals):\n",
        "    return sqrt(variance(vals))\n",
        "stddev(skewed)"
      ],
      "execution_count": 67,
      "outputs": [
        {
          "output_type": "execute_result",
          "data": {
            "text/plain": [
              "30.067043069368424"
            ]
          },
          "metadata": {},
          "execution_count": 67
        }
      ]
    },
    {
      "cell_type": "markdown",
      "source": [
        "This is much more approchable. It's saying the standard devaition from our mean is \\$30. That is an easy number to digest. This is a very important number to be able to grok. I'll repeat it to drive the point home:\n",
        "\n",
        "The _standard deviation_ is a measure of how \"spread out\" a distribution is. The higher the value, the further a typical observation from our population is from the mean of that population.\n",
        "\n",
        "The standard devation, range, and IQR all give measures of this dispersion of a distribution. However, for reasons we will see later, the standard devaition is the work horse of them all. By knowing the standard deviation of a population (or sample, as the case often is), we can begin to judge how likely a value is to get, or how sure we are of our own guesses. Statistics is a glorified guessing game, and stddev is one of the most important tools."
      ],
      "metadata": {
        "cell_id": "00081-b2864a74-64b1-4ab3-a5ff-f8ffb7f7f74b",
        "deepnote_cell_type": "markdown",
        "id": "0P-cfX-wHEqh"
      }
    },
    {
      "cell_type": "markdown",
      "source": [
        "---\n",
        "## Outlook\n",
        "Some of the topics in descriptive statistics to look forward to are\n",
        "\n",
        "* Paired data\n",
        "    * **Scatter plots**\n",
        "    * Explanatory vs response variables\n",
        "    * **Covariance and correlation**\n",
        "* Random Variables and Probability\n",
        "* **Distributions**\n",
        "    * Discrete vs Continuous\n",
        "    * Descriptive statistics of distributions\n",
        "    * Major types of distributions\n",
        "        * Normal\n",
        "        * Geometric\n",
        "        * Binomial\n",
        "        * Poisson\n",
        "        * Chi-squared\n",
        "        * Weibull\n",
        "* **Inferential statistics**\n",
        "    * Sampling distributions and statistics\n",
        "    * Central limit theorem\n",
        "    * Hypothesis testing\n"
      ],
      "metadata": {
        "cell_id": "00082-900b9756-2b32-4ebb-8001-f1f46384e827",
        "deepnote_cell_type": "markdown",
        "id": "89s08Jg_HEqh"
      }
    }
  ],
  "nbformat": 4,
  "nbformat_minor": 0,
  "metadata": {
    "kernelspec": {
      "display_name": "Python 3",
      "language": "python",
      "name": "python3"
    },
    "language_info": {
      "codemirror_mode": {
        "name": "ipython",
        "version": 3
      },
      "file_extension": ".py",
      "mimetype": "text/x-python",
      "name": "python",
      "nbconvert_exporter": "python",
      "pygments_lexer": "ipython3",
      "version": "3.6.7"
    },
    "toc": {
      "base_numbering": 1,
      "nav_menu": {
        "height": "30px",
        "width": "252px"
      },
      "number_sections": false,
      "sideBar": true,
      "skip_h1_title": false,
      "title_cell": "Table of Contents",
      "title_sidebar": "Contents",
      "toc_cell": true,
      "toc_position": {},
      "toc_section_display": false,
      "toc_window_display": true
    },
    "deepnote_notebook_id": "15bb16a8-3ab6-4efc-af4a-771c027e919a",
    "deepnote": {},
    "deepnote_execution_queue": [],
    "colab": {
      "provenance": []
    }
  }
}