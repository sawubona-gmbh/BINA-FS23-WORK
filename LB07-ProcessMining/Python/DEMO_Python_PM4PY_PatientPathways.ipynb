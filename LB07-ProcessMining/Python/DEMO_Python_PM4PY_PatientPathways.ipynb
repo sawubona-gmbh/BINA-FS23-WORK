{
  "cells": [
    {
      "cell_type": "markdown",
      "source": [
        "## Process Mining with Python: A Healthcare Application  \n",
        "   \n",
        "Within healthcare there are thousands of complex and variable processes that generate data including treatment of patients, lab results and internal logistic processes. Analysing this data is vital for improving these processes and ending bottlenecks.\n",
        "\n",
        "In recent years, digitisation of healthcare records and systemetisation of healthcare processes has resulted in the generation of more and more data from complex healthcare processes. There has also been growing interest in using process mining techniques to optimise and debug processes to improve the quality and efficiency of care. Such techniques have been used to:\n",
        "   \n",
        "+ **Discover processes and characterise them in process models**.  \n",
        "Different graphical languages such as petri nets, directly-follows graphs and business process models might be used to represent such models.\n",
        "+ Discover bottlenecks and **identifying opportunities for improving efficiency** by analysing throughput and the time spent on each event.\n",
        "+ **Determine to what extent real processes adhere to those in good practice** guidelines and treatment pathways.  \n",
        "\n",
        "<br>\n",
        "   \n",
        "Data:\n",
        "+ ArtificialPatientTreatment.csv\n",
        "\n",
        "--- \n",
        "Source:\n",
        "+ [TU Eindhoven - Online Course \"Process Mining in Healthcare\"](https://www.futurelearn.com/courses/process-mining-healthcare) \n",
        "+ [Medium - Process Mining with Python : A Healthcare Application](https://medium.com/@c3_62722/process-mining-with-python-tutorial-a-healthcare-application-part-1-ae02027a050)\n",
        "\n",
        "+ [Eventlog Data@Gitlab](https://gitlab.com/healthcare2/process-mining-tutorial)  \n",
        "\n",
        "---\n",
        "30.03.2023 v1 dbe --- initial version for BINA FS23   \n",
        " \n",
        "--- "
      ],
      "metadata": {
        "id": "AuCGZV45K4zc"
      }
    },
    {
      "cell_type": "markdown",
      "source": [
        "## Load Libraries and Data"
      ],
      "metadata": {
        "id": "dtQuuOyl6aCN"
      }
    },
    {
      "cell_type": "code",
      "execution_count": null,
      "metadata": {
        "id": "Vg1jLEU_Hbox"
      },
      "outputs": [],
      "source": [
        "import pandas as pd\n",
        "import numpy as np\n",
        "from datetime import date\n",
        "from IPython.display import Markdown, display\n",
        "import matplotlib.pyplot as plt\n",
        "import seaborn as sns\n"
      ]
    },
    {
      "cell_type": "code",
      "execution_count": null,
      "metadata": {
        "id": "jHAenrcJHbo6"
      },
      "outputs": [],
      "source": [
        "# a markdown formatted print output function printmd()\n",
        "def printmd(string):\n",
        "    display(Markdown(string))\n"
      ]
    },
    {
      "cell_type": "code",
      "source": [
        "%ls\n",
        "%cd sample_data\n"
      ],
      "metadata": {
        "colab": {
          "base_uri": "https://localhost:8080/"
        },
        "id": "wv1-3SamxGMp",
        "outputId": "128aee3a-a589-4754-9936-549cb8a025e6"
      },
      "execution_count": null,
      "outputs": [
        {
          "output_type": "stream",
          "name": "stdout",
          "text": [
            "alpha_miner_healthcare_petri_net.png  california_housing_train.csv\n",
            "\u001b[0m\u001b[01;32manscombe.json\u001b[0m*                        mnist_test.csv\n",
            "ArtificialPatientTreatment.csv        mnist_train_small.csv\n",
            "california_housing_test.csv           \u001b[01;32mREADME.md\u001b[0m*\n",
            "[Errno 2] No such file or directory: 'sample_data'\n",
            "/content/sample_data\n"
          ]
        }
      ]
    },
    {
      "cell_type": "code",
      "execution_count": null,
      "metadata": {
        "colab": {
          "base_uri": "https://localhost:8080/",
          "height": 206
        },
        "id": "ZtSdtcCCHbo7",
        "outputId": "f4948b3a-f276-483a-b2d2-351fac43ea11"
      },
      "outputs": [
        {
          "output_type": "execute_result",
          "data": {
            "text/plain": [
              "     patient           action      resource            datetime\n",
              "0  patient 0    First consult      Dr. Anna 2017-01-02 11:40:11\n",
              "1  patient 0       Blood test           Lab 2017-01-02 12:47:33\n",
              "2  patient 0    Physical test   Nurse Jesse 2017-01-02 12:53:50\n",
              "3  patient 0   Second consult      Dr. Anna 2017-01-02 16:21:06\n",
              "4  patient 0          Surgery   Dr. Charlie 2017-01-05 13:23:09"
            ],
            "text/html": [
              "\n",
              "  <div id=\"df-c8e68fdd-2479-4350-ae77-b4f9d7804331\">\n",
              "    <div class=\"colab-df-container\">\n",
              "      <div>\n",
              "<style scoped>\n",
              "    .dataframe tbody tr th:only-of-type {\n",
              "        vertical-align: middle;\n",
              "    }\n",
              "\n",
              "    .dataframe tbody tr th {\n",
              "        vertical-align: top;\n",
              "    }\n",
              "\n",
              "    .dataframe thead th {\n",
              "        text-align: right;\n",
              "    }\n",
              "</style>\n",
              "<table border=\"1\" class=\"dataframe\">\n",
              "  <thead>\n",
              "    <tr style=\"text-align: right;\">\n",
              "      <th></th>\n",
              "      <th>patient</th>\n",
              "      <th>action</th>\n",
              "      <th>resource</th>\n",
              "      <th>datetime</th>\n",
              "    </tr>\n",
              "  </thead>\n",
              "  <tbody>\n",
              "    <tr>\n",
              "      <th>0</th>\n",
              "      <td>patient 0</td>\n",
              "      <td>First consult</td>\n",
              "      <td>Dr. Anna</td>\n",
              "      <td>2017-01-02 11:40:11</td>\n",
              "    </tr>\n",
              "    <tr>\n",
              "      <th>1</th>\n",
              "      <td>patient 0</td>\n",
              "      <td>Blood test</td>\n",
              "      <td>Lab</td>\n",
              "      <td>2017-01-02 12:47:33</td>\n",
              "    </tr>\n",
              "    <tr>\n",
              "      <th>2</th>\n",
              "      <td>patient 0</td>\n",
              "      <td>Physical test</td>\n",
              "      <td>Nurse Jesse</td>\n",
              "      <td>2017-01-02 12:53:50</td>\n",
              "    </tr>\n",
              "    <tr>\n",
              "      <th>3</th>\n",
              "      <td>patient 0</td>\n",
              "      <td>Second consult</td>\n",
              "      <td>Dr. Anna</td>\n",
              "      <td>2017-01-02 16:21:06</td>\n",
              "    </tr>\n",
              "    <tr>\n",
              "      <th>4</th>\n",
              "      <td>patient 0</td>\n",
              "      <td>Surgery</td>\n",
              "      <td>Dr. Charlie</td>\n",
              "      <td>2017-01-05 13:23:09</td>\n",
              "    </tr>\n",
              "  </tbody>\n",
              "</table>\n",
              "</div>\n",
              "      <button class=\"colab-df-convert\" onclick=\"convertToInteractive('df-c8e68fdd-2479-4350-ae77-b4f9d7804331')\"\n",
              "              title=\"Convert this dataframe to an interactive table.\"\n",
              "              style=\"display:none;\">\n",
              "        \n",
              "  <svg xmlns=\"http://www.w3.org/2000/svg\" height=\"24px\"viewBox=\"0 0 24 24\"\n",
              "       width=\"24px\">\n",
              "    <path d=\"M0 0h24v24H0V0z\" fill=\"none\"/>\n",
              "    <path d=\"M18.56 5.44l.94 2.06.94-2.06 2.06-.94-2.06-.94-.94-2.06-.94 2.06-2.06.94zm-11 1L8.5 8.5l.94-2.06 2.06-.94-2.06-.94L8.5 2.5l-.94 2.06-2.06.94zm10 10l.94 2.06.94-2.06 2.06-.94-2.06-.94-.94-2.06-.94 2.06-2.06.94z\"/><path d=\"M17.41 7.96l-1.37-1.37c-.4-.4-.92-.59-1.43-.59-.52 0-1.04.2-1.43.59L10.3 9.45l-7.72 7.72c-.78.78-.78 2.05 0 2.83L4 21.41c.39.39.9.59 1.41.59.51 0 1.02-.2 1.41-.59l7.78-7.78 2.81-2.81c.8-.78.8-2.07 0-2.86zM5.41 20L4 18.59l7.72-7.72 1.47 1.35L5.41 20z\"/>\n",
              "  </svg>\n",
              "      </button>\n",
              "      \n",
              "  <style>\n",
              "    .colab-df-container {\n",
              "      display:flex;\n",
              "      flex-wrap:wrap;\n",
              "      gap: 12px;\n",
              "    }\n",
              "\n",
              "    .colab-df-convert {\n",
              "      background-color: #E8F0FE;\n",
              "      border: none;\n",
              "      border-radius: 50%;\n",
              "      cursor: pointer;\n",
              "      display: none;\n",
              "      fill: #1967D2;\n",
              "      height: 32px;\n",
              "      padding: 0 0 0 0;\n",
              "      width: 32px;\n",
              "    }\n",
              "\n",
              "    .colab-df-convert:hover {\n",
              "      background-color: #E2EBFA;\n",
              "      box-shadow: 0px 1px 2px rgba(60, 64, 67, 0.3), 0px 1px 3px 1px rgba(60, 64, 67, 0.15);\n",
              "      fill: #174EA6;\n",
              "    }\n",
              "\n",
              "    [theme=dark] .colab-df-convert {\n",
              "      background-color: #3B4455;\n",
              "      fill: #D2E3FC;\n",
              "    }\n",
              "\n",
              "    [theme=dark] .colab-df-convert:hover {\n",
              "      background-color: #434B5C;\n",
              "      box-shadow: 0px 1px 3px 1px rgba(0, 0, 0, 0.15);\n",
              "      filter: drop-shadow(0px 1px 2px rgba(0, 0, 0, 0.3));\n",
              "      fill: #FFFFFF;\n",
              "    }\n",
              "  </style>\n",
              "\n",
              "      <script>\n",
              "        const buttonEl =\n",
              "          document.querySelector('#df-c8e68fdd-2479-4350-ae77-b4f9d7804331 button.colab-df-convert');\n",
              "        buttonEl.style.display =\n",
              "          google.colab.kernel.accessAllowed ? 'block' : 'none';\n",
              "\n",
              "        async function convertToInteractive(key) {\n",
              "          const element = document.querySelector('#df-c8e68fdd-2479-4350-ae77-b4f9d7804331');\n",
              "          const dataTable =\n",
              "            await google.colab.kernel.invokeFunction('convertToInteractive',\n",
              "                                                     [key], {});\n",
              "          if (!dataTable) return;\n",
              "\n",
              "          const docLinkHtml = 'Like what you see? Visit the ' +\n",
              "            '<a target=\"_blank\" href=https://colab.research.google.com/notebooks/data_table.ipynb>data table notebook</a>'\n",
              "            + ' to learn more about interactive tables.';\n",
              "          element.innerHTML = '';\n",
              "          dataTable['output_type'] = 'display_data';\n",
              "          await google.colab.output.renderOutput(dataTable, element);\n",
              "          const docLink = document.createElement('div');\n",
              "          docLink.innerHTML = docLinkHtml;\n",
              "          element.appendChild(docLink);\n",
              "        }\n",
              "      </script>\n",
              "    </div>\n",
              "  </div>\n",
              "  "
            ]
          },
          "metadata": {},
          "execution_count": 60
        }
      ],
      "source": [
        "fn = 'ArtificialPatientTreatment.csv'\n",
        "events = pd.read_csv(fn)\n",
        "\n",
        "events.columns = ['patient', 'action', 'resource', 'datetime']\n",
        "events['datetime'] = pd.to_datetime(events['datetime'])\n",
        "events.head()\n"
      ]
    },
    {
      "cell_type": "code",
      "execution_count": null,
      "metadata": {
        "colab": {
          "base_uri": "https://localhost:8080/"
        },
        "id": "ijLm4MpGHbo8",
        "outputId": "7e203e48-4938-4111-d9a3-8f0205d5dbf4"
      },
      "outputs": [
        {
          "output_type": "stream",
          "name": "stdout",
          "text": [
            "ArtificialPatientTreatment.csv has 690 rows and 4 columns.\n"
          ]
        }
      ],
      "source": [
        "print('{} has {} rows and {} columns.'.format(fn, events.shape[0], events.shape[1]))\n"
      ]
    },
    {
      "cell_type": "markdown",
      "source": [
        "## Some Feature Engineering"
      ],
      "metadata": {
        "id": "qqsB6Nkn6ygn"
      }
    },
    {
      "cell_type": "code",
      "execution_count": null,
      "metadata": {
        "colab": {
          "base_uri": "https://localhost:8080/",
          "height": 206
        },
        "id": "XbSn3cd_Hbo9",
        "outputId": "b6c26717-6715-466a-a75e-706eb9adf892"
      },
      "outputs": [
        {
          "output_type": "execute_result",
          "data": {
            "text/plain": [
              "     patient           action      resource            datetime  \\\n",
              "0  patient 0    First consult      Dr. Anna 2017-01-02 11:40:11   \n",
              "1  patient 0       Blood test           Lab 2017-01-02 12:47:33   \n",
              "2  patient 0    Physical test   Nurse Jesse 2017-01-02 12:53:50   \n",
              "3  patient 0   Second consult      Dr. Anna 2017-01-02 16:21:06   \n",
              "4  patient 0          Surgery   Dr. Charlie 2017-01-05 13:23:09   \n",
              "\n",
              "              caseend           casestart    relativetime  \n",
              "0 2017-01-09 08:29:28 2017-01-02 11:40:11 0 days 00:00:00  \n",
              "1 2017-01-09 08:29:28 2017-01-02 11:40:11 0 days 01:07:22  \n",
              "2 2017-01-09 08:29:28 2017-01-02 11:40:11 0 days 01:13:39  \n",
              "3 2017-01-09 08:29:28 2017-01-02 11:40:11 0 days 04:40:55  \n",
              "4 2017-01-09 08:29:28 2017-01-02 11:40:11 3 days 01:42:58  "
            ],
            "text/html": [
              "\n",
              "  <div id=\"df-13430ce1-168a-4290-82cc-7a127046e646\">\n",
              "    <div class=\"colab-df-container\">\n",
              "      <div>\n",
              "<style scoped>\n",
              "    .dataframe tbody tr th:only-of-type {\n",
              "        vertical-align: middle;\n",
              "    }\n",
              "\n",
              "    .dataframe tbody tr th {\n",
              "        vertical-align: top;\n",
              "    }\n",
              "\n",
              "    .dataframe thead th {\n",
              "        text-align: right;\n",
              "    }\n",
              "</style>\n",
              "<table border=\"1\" class=\"dataframe\">\n",
              "  <thead>\n",
              "    <tr style=\"text-align: right;\">\n",
              "      <th></th>\n",
              "      <th>patient</th>\n",
              "      <th>action</th>\n",
              "      <th>resource</th>\n",
              "      <th>datetime</th>\n",
              "      <th>caseend</th>\n",
              "      <th>casestart</th>\n",
              "      <th>relativetime</th>\n",
              "    </tr>\n",
              "  </thead>\n",
              "  <tbody>\n",
              "    <tr>\n",
              "      <th>0</th>\n",
              "      <td>patient 0</td>\n",
              "      <td>First consult</td>\n",
              "      <td>Dr. Anna</td>\n",
              "      <td>2017-01-02 11:40:11</td>\n",
              "      <td>2017-01-09 08:29:28</td>\n",
              "      <td>2017-01-02 11:40:11</td>\n",
              "      <td>0 days 00:00:00</td>\n",
              "    </tr>\n",
              "    <tr>\n",
              "      <th>1</th>\n",
              "      <td>patient 0</td>\n",
              "      <td>Blood test</td>\n",
              "      <td>Lab</td>\n",
              "      <td>2017-01-02 12:47:33</td>\n",
              "      <td>2017-01-09 08:29:28</td>\n",
              "      <td>2017-01-02 11:40:11</td>\n",
              "      <td>0 days 01:07:22</td>\n",
              "    </tr>\n",
              "    <tr>\n",
              "      <th>2</th>\n",
              "      <td>patient 0</td>\n",
              "      <td>Physical test</td>\n",
              "      <td>Nurse Jesse</td>\n",
              "      <td>2017-01-02 12:53:50</td>\n",
              "      <td>2017-01-09 08:29:28</td>\n",
              "      <td>2017-01-02 11:40:11</td>\n",
              "      <td>0 days 01:13:39</td>\n",
              "    </tr>\n",
              "    <tr>\n",
              "      <th>3</th>\n",
              "      <td>patient 0</td>\n",
              "      <td>Second consult</td>\n",
              "      <td>Dr. Anna</td>\n",
              "      <td>2017-01-02 16:21:06</td>\n",
              "      <td>2017-01-09 08:29:28</td>\n",
              "      <td>2017-01-02 11:40:11</td>\n",
              "      <td>0 days 04:40:55</td>\n",
              "    </tr>\n",
              "    <tr>\n",
              "      <th>4</th>\n",
              "      <td>patient 0</td>\n",
              "      <td>Surgery</td>\n",
              "      <td>Dr. Charlie</td>\n",
              "      <td>2017-01-05 13:23:09</td>\n",
              "      <td>2017-01-09 08:29:28</td>\n",
              "      <td>2017-01-02 11:40:11</td>\n",
              "      <td>3 days 01:42:58</td>\n",
              "    </tr>\n",
              "  </tbody>\n",
              "</table>\n",
              "</div>\n",
              "      <button class=\"colab-df-convert\" onclick=\"convertToInteractive('df-13430ce1-168a-4290-82cc-7a127046e646')\"\n",
              "              title=\"Convert this dataframe to an interactive table.\"\n",
              "              style=\"display:none;\">\n",
              "        \n",
              "  <svg xmlns=\"http://www.w3.org/2000/svg\" height=\"24px\"viewBox=\"0 0 24 24\"\n",
              "       width=\"24px\">\n",
              "    <path d=\"M0 0h24v24H0V0z\" fill=\"none\"/>\n",
              "    <path d=\"M18.56 5.44l.94 2.06.94-2.06 2.06-.94-2.06-.94-.94-2.06-.94 2.06-2.06.94zm-11 1L8.5 8.5l.94-2.06 2.06-.94-2.06-.94L8.5 2.5l-.94 2.06-2.06.94zm10 10l.94 2.06.94-2.06 2.06-.94-2.06-.94-.94-2.06-.94 2.06-2.06.94z\"/><path d=\"M17.41 7.96l-1.37-1.37c-.4-.4-.92-.59-1.43-.59-.52 0-1.04.2-1.43.59L10.3 9.45l-7.72 7.72c-.78.78-.78 2.05 0 2.83L4 21.41c.39.39.9.59 1.41.59.51 0 1.02-.2 1.41-.59l7.78-7.78 2.81-2.81c.8-.78.8-2.07 0-2.86zM5.41 20L4 18.59l7.72-7.72 1.47 1.35L5.41 20z\"/>\n",
              "  </svg>\n",
              "      </button>\n",
              "      \n",
              "  <style>\n",
              "    .colab-df-container {\n",
              "      display:flex;\n",
              "      flex-wrap:wrap;\n",
              "      gap: 12px;\n",
              "    }\n",
              "\n",
              "    .colab-df-convert {\n",
              "      background-color: #E8F0FE;\n",
              "      border: none;\n",
              "      border-radius: 50%;\n",
              "      cursor: pointer;\n",
              "      display: none;\n",
              "      fill: #1967D2;\n",
              "      height: 32px;\n",
              "      padding: 0 0 0 0;\n",
              "      width: 32px;\n",
              "    }\n",
              "\n",
              "    .colab-df-convert:hover {\n",
              "      background-color: #E2EBFA;\n",
              "      box-shadow: 0px 1px 2px rgba(60, 64, 67, 0.3), 0px 1px 3px 1px rgba(60, 64, 67, 0.15);\n",
              "      fill: #174EA6;\n",
              "    }\n",
              "\n",
              "    [theme=dark] .colab-df-convert {\n",
              "      background-color: #3B4455;\n",
              "      fill: #D2E3FC;\n",
              "    }\n",
              "\n",
              "    [theme=dark] .colab-df-convert:hover {\n",
              "      background-color: #434B5C;\n",
              "      box-shadow: 0px 1px 3px 1px rgba(0, 0, 0, 0.15);\n",
              "      filter: drop-shadow(0px 1px 2px rgba(0, 0, 0, 0.3));\n",
              "      fill: #FFFFFF;\n",
              "    }\n",
              "  </style>\n",
              "\n",
              "      <script>\n",
              "        const buttonEl =\n",
              "          document.querySelector('#df-13430ce1-168a-4290-82cc-7a127046e646 button.colab-df-convert');\n",
              "        buttonEl.style.display =\n",
              "          google.colab.kernel.accessAllowed ? 'block' : 'none';\n",
              "\n",
              "        async function convertToInteractive(key) {\n",
              "          const element = document.querySelector('#df-13430ce1-168a-4290-82cc-7a127046e646');\n",
              "          const dataTable =\n",
              "            await google.colab.kernel.invokeFunction('convertToInteractive',\n",
              "                                                     [key], {});\n",
              "          if (!dataTable) return;\n",
              "\n",
              "          const docLinkHtml = 'Like what you see? Visit the ' +\n",
              "            '<a target=\"_blank\" href=https://colab.research.google.com/notebooks/data_table.ipynb>data table notebook</a>'\n",
              "            + ' to learn more about interactive tables.';\n",
              "          element.innerHTML = '';\n",
              "          dataTable['output_type'] = 'display_data';\n",
              "          await google.colab.output.renderOutput(dataTable, element);\n",
              "          const docLink = document.createElement('div');\n",
              "          docLink.innerHTML = docLinkHtml;\n",
              "          element.appendChild(docLink);\n",
              "        }\n",
              "      </script>\n",
              "    </div>\n",
              "  </div>\n",
              "  "
            ]
          },
          "metadata": {},
          "execution_count": 62
        }
      ],
      "source": [
        "## Get the case start times to get the time deltas for the 'age' of each activity with respect to start\n",
        "case_starts_ends = events.pivot_table(index='patient', aggfunc={'datetime': ['min', 'max']})\n",
        "case_starts_ends = case_starts_ends.reset_index()\n",
        "case_starts_ends.columns = ['patient', 'caseend', 'casestart']\n",
        "events = events.merge(case_starts_ends, on='patient')\n",
        "events['relativetime'] = events['datetime'] - events['casestart']\n",
        "events.head()"
      ]
    },
    {
      "cell_type": "code",
      "execution_count": null,
      "metadata": {
        "id": "oDnmBgtNHbo-"
      },
      "outputs": [],
      "source": [
        "events['action'] = events['action'].apply(lambda x: x.strip())"
      ]
    },
    {
      "cell_type": "code",
      "execution_count": null,
      "metadata": {
        "colab": {
          "base_uri": "https://localhost:8080/",
          "height": 424
        },
        "id": "wnMPxGavHbpA",
        "outputId": "f3f50e30-8d8a-4bb9-fc9f-ae754c2032cc"
      },
      "outputs": [
        {
          "output_type": "execute_result",
          "data": {
            "text/plain": [
              "     patient          action      resource            datetime  \\\n",
              "0  patient 0   First consult      Dr. Anna 2017-01-02 11:40:11   \n",
              "1  patient 0      Blood test           Lab 2017-01-02 12:47:33   \n",
              "2  patient 0   Physical test   Nurse Jesse 2017-01-02 12:53:50   \n",
              "3  patient 0  Second consult      Dr. Anna 2017-01-02 16:21:06   \n",
              "4  patient 0         Surgery   Dr. Charlie 2017-01-05 13:23:09   \n",
              "\n",
              "              caseend           casestart    relativetime  \\\n",
              "0 2017-01-09 08:29:28 2017-01-02 11:40:11 0 days 00:00:00   \n",
              "1 2017-01-09 08:29:28 2017-01-02 11:40:11 0 days 01:07:22   \n",
              "2 2017-01-09 08:29:28 2017-01-02 11:40:11 0 days 01:13:39   \n",
              "3 2017-01-09 08:29:28 2017-01-02 11:40:11 0 days 04:40:55   \n",
              "4 2017-01-09 08:29:28 2017-01-02 11:40:11 3 days 01:42:58   \n",
              "\n",
              "                                     action_sequence  numactions  \\\n",
              "0  First consult___Blood test___Physical test___S...           6   \n",
              "1  First consult___Blood test___Physical test___S...           6   \n",
              "2  First consult___Blood test___Physical test___S...           6   \n",
              "3  First consult___Blood test___Physical test___S...           6   \n",
              "4  First consult___Blood test___Physical test___S...           6   \n",
              "\n",
              "       caselength  \n",
              "0 6 days 20:49:17  \n",
              "1 6 days 20:49:17  \n",
              "2 6 days 20:49:17  \n",
              "3 6 days 20:49:17  \n",
              "4 6 days 20:49:17  "
            ],
            "text/html": [
              "\n",
              "  <div id=\"df-d0f384e8-ff44-42c5-ace2-cc8d1077f978\">\n",
              "    <div class=\"colab-df-container\">\n",
              "      <div>\n",
              "<style scoped>\n",
              "    .dataframe tbody tr th:only-of-type {\n",
              "        vertical-align: middle;\n",
              "    }\n",
              "\n",
              "    .dataframe tbody tr th {\n",
              "        vertical-align: top;\n",
              "    }\n",
              "\n",
              "    .dataframe thead th {\n",
              "        text-align: right;\n",
              "    }\n",
              "</style>\n",
              "<table border=\"1\" class=\"dataframe\">\n",
              "  <thead>\n",
              "    <tr style=\"text-align: right;\">\n",
              "      <th></th>\n",
              "      <th>patient</th>\n",
              "      <th>action</th>\n",
              "      <th>resource</th>\n",
              "      <th>datetime</th>\n",
              "      <th>caseend</th>\n",
              "      <th>casestart</th>\n",
              "      <th>relativetime</th>\n",
              "      <th>action_sequence</th>\n",
              "      <th>numactions</th>\n",
              "      <th>caselength</th>\n",
              "    </tr>\n",
              "  </thead>\n",
              "  <tbody>\n",
              "    <tr>\n",
              "      <th>0</th>\n",
              "      <td>patient 0</td>\n",
              "      <td>First consult</td>\n",
              "      <td>Dr. Anna</td>\n",
              "      <td>2017-01-02 11:40:11</td>\n",
              "      <td>2017-01-09 08:29:28</td>\n",
              "      <td>2017-01-02 11:40:11</td>\n",
              "      <td>0 days 00:00:00</td>\n",
              "      <td>First consult___Blood test___Physical test___S...</td>\n",
              "      <td>6</td>\n",
              "      <td>6 days 20:49:17</td>\n",
              "    </tr>\n",
              "    <tr>\n",
              "      <th>1</th>\n",
              "      <td>patient 0</td>\n",
              "      <td>Blood test</td>\n",
              "      <td>Lab</td>\n",
              "      <td>2017-01-02 12:47:33</td>\n",
              "      <td>2017-01-09 08:29:28</td>\n",
              "      <td>2017-01-02 11:40:11</td>\n",
              "      <td>0 days 01:07:22</td>\n",
              "      <td>First consult___Blood test___Physical test___S...</td>\n",
              "      <td>6</td>\n",
              "      <td>6 days 20:49:17</td>\n",
              "    </tr>\n",
              "    <tr>\n",
              "      <th>2</th>\n",
              "      <td>patient 0</td>\n",
              "      <td>Physical test</td>\n",
              "      <td>Nurse Jesse</td>\n",
              "      <td>2017-01-02 12:53:50</td>\n",
              "      <td>2017-01-09 08:29:28</td>\n",
              "      <td>2017-01-02 11:40:11</td>\n",
              "      <td>0 days 01:13:39</td>\n",
              "      <td>First consult___Blood test___Physical test___S...</td>\n",
              "      <td>6</td>\n",
              "      <td>6 days 20:49:17</td>\n",
              "    </tr>\n",
              "    <tr>\n",
              "      <th>3</th>\n",
              "      <td>patient 0</td>\n",
              "      <td>Second consult</td>\n",
              "      <td>Dr. Anna</td>\n",
              "      <td>2017-01-02 16:21:06</td>\n",
              "      <td>2017-01-09 08:29:28</td>\n",
              "      <td>2017-01-02 11:40:11</td>\n",
              "      <td>0 days 04:40:55</td>\n",
              "      <td>First consult___Blood test___Physical test___S...</td>\n",
              "      <td>6</td>\n",
              "      <td>6 days 20:49:17</td>\n",
              "    </tr>\n",
              "    <tr>\n",
              "      <th>4</th>\n",
              "      <td>patient 0</td>\n",
              "      <td>Surgery</td>\n",
              "      <td>Dr. Charlie</td>\n",
              "      <td>2017-01-05 13:23:09</td>\n",
              "      <td>2017-01-09 08:29:28</td>\n",
              "      <td>2017-01-02 11:40:11</td>\n",
              "      <td>3 days 01:42:58</td>\n",
              "      <td>First consult___Blood test___Physical test___S...</td>\n",
              "      <td>6</td>\n",
              "      <td>6 days 20:49:17</td>\n",
              "    </tr>\n",
              "  </tbody>\n",
              "</table>\n",
              "</div>\n",
              "      <button class=\"colab-df-convert\" onclick=\"convertToInteractive('df-d0f384e8-ff44-42c5-ace2-cc8d1077f978')\"\n",
              "              title=\"Convert this dataframe to an interactive table.\"\n",
              "              style=\"display:none;\">\n",
              "        \n",
              "  <svg xmlns=\"http://www.w3.org/2000/svg\" height=\"24px\"viewBox=\"0 0 24 24\"\n",
              "       width=\"24px\">\n",
              "    <path d=\"M0 0h24v24H0V0z\" fill=\"none\"/>\n",
              "    <path d=\"M18.56 5.44l.94 2.06.94-2.06 2.06-.94-2.06-.94-.94-2.06-.94 2.06-2.06.94zm-11 1L8.5 8.5l.94-2.06 2.06-.94-2.06-.94L8.5 2.5l-.94 2.06-2.06.94zm10 10l.94 2.06.94-2.06 2.06-.94-2.06-.94-.94-2.06-.94 2.06-2.06.94z\"/><path d=\"M17.41 7.96l-1.37-1.37c-.4-.4-.92-.59-1.43-.59-.52 0-1.04.2-1.43.59L10.3 9.45l-7.72 7.72c-.78.78-.78 2.05 0 2.83L4 21.41c.39.39.9.59 1.41.59.51 0 1.02-.2 1.41-.59l7.78-7.78 2.81-2.81c.8-.78.8-2.07 0-2.86zM5.41 20L4 18.59l7.72-7.72 1.47 1.35L5.41 20z\"/>\n",
              "  </svg>\n",
              "      </button>\n",
              "      \n",
              "  <style>\n",
              "    .colab-df-container {\n",
              "      display:flex;\n",
              "      flex-wrap:wrap;\n",
              "      gap: 12px;\n",
              "    }\n",
              "\n",
              "    .colab-df-convert {\n",
              "      background-color: #E8F0FE;\n",
              "      border: none;\n",
              "      border-radius: 50%;\n",
              "      cursor: pointer;\n",
              "      display: none;\n",
              "      fill: #1967D2;\n",
              "      height: 32px;\n",
              "      padding: 0 0 0 0;\n",
              "      width: 32px;\n",
              "    }\n",
              "\n",
              "    .colab-df-convert:hover {\n",
              "      background-color: #E2EBFA;\n",
              "      box-shadow: 0px 1px 2px rgba(60, 64, 67, 0.3), 0px 1px 3px 1px rgba(60, 64, 67, 0.15);\n",
              "      fill: #174EA6;\n",
              "    }\n",
              "\n",
              "    [theme=dark] .colab-df-convert {\n",
              "      background-color: #3B4455;\n",
              "      fill: #D2E3FC;\n",
              "    }\n",
              "\n",
              "    [theme=dark] .colab-df-convert:hover {\n",
              "      background-color: #434B5C;\n",
              "      box-shadow: 0px 1px 3px 1px rgba(0, 0, 0, 0.15);\n",
              "      filter: drop-shadow(0px 1px 2px rgba(0, 0, 0, 0.3));\n",
              "      fill: #FFFFFF;\n",
              "    }\n",
              "  </style>\n",
              "\n",
              "      <script>\n",
              "        const buttonEl =\n",
              "          document.querySelector('#df-d0f384e8-ff44-42c5-ace2-cc8d1077f978 button.colab-df-convert');\n",
              "        buttonEl.style.display =\n",
              "          google.colab.kernel.accessAllowed ? 'block' : 'none';\n",
              "\n",
              "        async function convertToInteractive(key) {\n",
              "          const element = document.querySelector('#df-d0f384e8-ff44-42c5-ace2-cc8d1077f978');\n",
              "          const dataTable =\n",
              "            await google.colab.kernel.invokeFunction('convertToInteractive',\n",
              "                                                     [key], {});\n",
              "          if (!dataTable) return;\n",
              "\n",
              "          const docLinkHtml = 'Like what you see? Visit the ' +\n",
              "            '<a target=\"_blank\" href=https://colab.research.google.com/notebooks/data_table.ipynb>data table notebook</a>'\n",
              "            + ' to learn more about interactive tables.';\n",
              "          element.innerHTML = '';\n",
              "          dataTable['output_type'] = 'display_data';\n",
              "          await google.colab.output.renderOutput(dataTable, element);\n",
              "          const docLink = document.createElement('div');\n",
              "          docLink.innerHTML = docLinkHtml;\n",
              "          element.appendChild(docLink);\n",
              "        }\n",
              "      </script>\n",
              "    </div>\n",
              "  </div>\n",
              "  "
            ]
          },
          "metadata": {},
          "execution_count": 64
        }
      ],
      "source": [
        "delimiter = '___'\n",
        "\n",
        "makeEventString = lambda x: delimiter.join(x)\n",
        "makeEventString.__name__ = 'makeEventString'\n",
        "\n",
        "numEvents = lambda x: len(x)\n",
        "numEvents.__name__ = 'numEvents'\n",
        "\n",
        "\n",
        "caselogs = events.pivot_table(index='patient', aggfunc={'action': [makeEventString, numEvents]})\n",
        "caselogs = caselogs.reset_index()\n",
        "caselogs.columns = ['patient', 'action_sequence', 'numactions']\n",
        "\n",
        "events = pd.merge(events, caselogs, on='patient')\n",
        "events['caselength'] = events['caseend'] - events['casestart']\n",
        "\n",
        "events.head()\n"
      ]
    },
    {
      "cell_type": "code",
      "execution_count": null,
      "metadata": {
        "id": "iLm5dFx5HbpC"
      },
      "outputs": [],
      "source": [
        "## Get day of week\n",
        "events['weekday'] = events['datetime'].apply(lambda x: x.weekday())\n",
        "events['date'] = events['datetime'].apply(lambda x: x.date())\n",
        "events['startdate'] = events['casestart'].apply(lambda x: x.date())\n",
        "events['hour'] = events['datetime'].apply(lambda x: x.time().hour)\n",
        "## Get relative times in more friendly terms\n",
        "events['relativetime_s'] = events['relativetime'].dt.seconds + 86400*events['relativetime'].dt.days\n",
        "events['relativedays'] = events['relativetime'].dt.days\n",
        "\n"
      ]
    },
    {
      "cell_type": "code",
      "execution_count": null,
      "metadata": {
        "colab": {
          "base_uri": "https://localhost:8080/",
          "height": 531
        },
        "id": "E_or7nbDHbpD",
        "outputId": "42bbbef2-20c8-4608-c972-83647d15fab7"
      },
      "outputs": [
        {
          "output_type": "execute_result",
          "data": {
            "text/plain": [
              "     patient          action      resource            datetime  \\\n",
              "0  patient 0   First consult      Dr. Anna 2017-01-02 11:40:11   \n",
              "1  patient 0      Blood test           Lab 2017-01-02 12:47:33   \n",
              "2  patient 0   Physical test   Nurse Jesse 2017-01-02 12:53:50   \n",
              "3  patient 0  Second consult      Dr. Anna 2017-01-02 16:21:06   \n",
              "4  patient 0         Surgery   Dr. Charlie 2017-01-05 13:23:09   \n",
              "\n",
              "              caseend           casestart    relativetime  \\\n",
              "0 2017-01-09 08:29:28 2017-01-02 11:40:11 0 days 00:00:00   \n",
              "1 2017-01-09 08:29:28 2017-01-02 11:40:11 0 days 01:07:22   \n",
              "2 2017-01-09 08:29:28 2017-01-02 11:40:11 0 days 01:13:39   \n",
              "3 2017-01-09 08:29:28 2017-01-02 11:40:11 0 days 04:40:55   \n",
              "4 2017-01-09 08:29:28 2017-01-02 11:40:11 3 days 01:42:58   \n",
              "\n",
              "                                     action_sequence  numactions  \\\n",
              "0  First consult___Blood test___Physical test___S...           6   \n",
              "1  First consult___Blood test___Physical test___S...           6   \n",
              "2  First consult___Blood test___Physical test___S...           6   \n",
              "3  First consult___Blood test___Physical test___S...           6   \n",
              "4  First consult___Blood test___Physical test___S...           6   \n",
              "\n",
              "       caselength  weekday        date   startdate  hour  relativetime_s  \\\n",
              "0 6 days 20:49:17        0  2017-01-02  2017-01-02    11               0   \n",
              "1 6 days 20:49:17        0  2017-01-02  2017-01-02    12            4042   \n",
              "2 6 days 20:49:17        0  2017-01-02  2017-01-02    12            4419   \n",
              "3 6 days 20:49:17        0  2017-01-02  2017-01-02    16           16855   \n",
              "4 6 days 20:49:17        3  2017-01-05  2017-01-02    13          265378   \n",
              "\n",
              "   relativedays  \n",
              "0             0  \n",
              "1             0  \n",
              "2             0  \n",
              "3             0  \n",
              "4             3  "
            ],
            "text/html": [
              "\n",
              "  <div id=\"df-51bf3ed0-b45f-41a0-829a-744b547d7847\">\n",
              "    <div class=\"colab-df-container\">\n",
              "      <div>\n",
              "<style scoped>\n",
              "    .dataframe tbody tr th:only-of-type {\n",
              "        vertical-align: middle;\n",
              "    }\n",
              "\n",
              "    .dataframe tbody tr th {\n",
              "        vertical-align: top;\n",
              "    }\n",
              "\n",
              "    .dataframe thead th {\n",
              "        text-align: right;\n",
              "    }\n",
              "</style>\n",
              "<table border=\"1\" class=\"dataframe\">\n",
              "  <thead>\n",
              "    <tr style=\"text-align: right;\">\n",
              "      <th></th>\n",
              "      <th>patient</th>\n",
              "      <th>action</th>\n",
              "      <th>resource</th>\n",
              "      <th>datetime</th>\n",
              "      <th>caseend</th>\n",
              "      <th>casestart</th>\n",
              "      <th>relativetime</th>\n",
              "      <th>action_sequence</th>\n",
              "      <th>numactions</th>\n",
              "      <th>caselength</th>\n",
              "      <th>weekday</th>\n",
              "      <th>date</th>\n",
              "      <th>startdate</th>\n",
              "      <th>hour</th>\n",
              "      <th>relativetime_s</th>\n",
              "      <th>relativedays</th>\n",
              "    </tr>\n",
              "  </thead>\n",
              "  <tbody>\n",
              "    <tr>\n",
              "      <th>0</th>\n",
              "      <td>patient 0</td>\n",
              "      <td>First consult</td>\n",
              "      <td>Dr. Anna</td>\n",
              "      <td>2017-01-02 11:40:11</td>\n",
              "      <td>2017-01-09 08:29:28</td>\n",
              "      <td>2017-01-02 11:40:11</td>\n",
              "      <td>0 days 00:00:00</td>\n",
              "      <td>First consult___Blood test___Physical test___S...</td>\n",
              "      <td>6</td>\n",
              "      <td>6 days 20:49:17</td>\n",
              "      <td>0</td>\n",
              "      <td>2017-01-02</td>\n",
              "      <td>2017-01-02</td>\n",
              "      <td>11</td>\n",
              "      <td>0</td>\n",
              "      <td>0</td>\n",
              "    </tr>\n",
              "    <tr>\n",
              "      <th>1</th>\n",
              "      <td>patient 0</td>\n",
              "      <td>Blood test</td>\n",
              "      <td>Lab</td>\n",
              "      <td>2017-01-02 12:47:33</td>\n",
              "      <td>2017-01-09 08:29:28</td>\n",
              "      <td>2017-01-02 11:40:11</td>\n",
              "      <td>0 days 01:07:22</td>\n",
              "      <td>First consult___Blood test___Physical test___S...</td>\n",
              "      <td>6</td>\n",
              "      <td>6 days 20:49:17</td>\n",
              "      <td>0</td>\n",
              "      <td>2017-01-02</td>\n",
              "      <td>2017-01-02</td>\n",
              "      <td>12</td>\n",
              "      <td>4042</td>\n",
              "      <td>0</td>\n",
              "    </tr>\n",
              "    <tr>\n",
              "      <th>2</th>\n",
              "      <td>patient 0</td>\n",
              "      <td>Physical test</td>\n",
              "      <td>Nurse Jesse</td>\n",
              "      <td>2017-01-02 12:53:50</td>\n",
              "      <td>2017-01-09 08:29:28</td>\n",
              "      <td>2017-01-02 11:40:11</td>\n",
              "      <td>0 days 01:13:39</td>\n",
              "      <td>First consult___Blood test___Physical test___S...</td>\n",
              "      <td>6</td>\n",
              "      <td>6 days 20:49:17</td>\n",
              "      <td>0</td>\n",
              "      <td>2017-01-02</td>\n",
              "      <td>2017-01-02</td>\n",
              "      <td>12</td>\n",
              "      <td>4419</td>\n",
              "      <td>0</td>\n",
              "    </tr>\n",
              "    <tr>\n",
              "      <th>3</th>\n",
              "      <td>patient 0</td>\n",
              "      <td>Second consult</td>\n",
              "      <td>Dr. Anna</td>\n",
              "      <td>2017-01-02 16:21:06</td>\n",
              "      <td>2017-01-09 08:29:28</td>\n",
              "      <td>2017-01-02 11:40:11</td>\n",
              "      <td>0 days 04:40:55</td>\n",
              "      <td>First consult___Blood test___Physical test___S...</td>\n",
              "      <td>6</td>\n",
              "      <td>6 days 20:49:17</td>\n",
              "      <td>0</td>\n",
              "      <td>2017-01-02</td>\n",
              "      <td>2017-01-02</td>\n",
              "      <td>16</td>\n",
              "      <td>16855</td>\n",
              "      <td>0</td>\n",
              "    </tr>\n",
              "    <tr>\n",
              "      <th>4</th>\n",
              "      <td>patient 0</td>\n",
              "      <td>Surgery</td>\n",
              "      <td>Dr. Charlie</td>\n",
              "      <td>2017-01-05 13:23:09</td>\n",
              "      <td>2017-01-09 08:29:28</td>\n",
              "      <td>2017-01-02 11:40:11</td>\n",
              "      <td>3 days 01:42:58</td>\n",
              "      <td>First consult___Blood test___Physical test___S...</td>\n",
              "      <td>6</td>\n",
              "      <td>6 days 20:49:17</td>\n",
              "      <td>3</td>\n",
              "      <td>2017-01-05</td>\n",
              "      <td>2017-01-02</td>\n",
              "      <td>13</td>\n",
              "      <td>265378</td>\n",
              "      <td>3</td>\n",
              "    </tr>\n",
              "  </tbody>\n",
              "</table>\n",
              "</div>\n",
              "      <button class=\"colab-df-convert\" onclick=\"convertToInteractive('df-51bf3ed0-b45f-41a0-829a-744b547d7847')\"\n",
              "              title=\"Convert this dataframe to an interactive table.\"\n",
              "              style=\"display:none;\">\n",
              "        \n",
              "  <svg xmlns=\"http://www.w3.org/2000/svg\" height=\"24px\"viewBox=\"0 0 24 24\"\n",
              "       width=\"24px\">\n",
              "    <path d=\"M0 0h24v24H0V0z\" fill=\"none\"/>\n",
              "    <path d=\"M18.56 5.44l.94 2.06.94-2.06 2.06-.94-2.06-.94-.94-2.06-.94 2.06-2.06.94zm-11 1L8.5 8.5l.94-2.06 2.06-.94-2.06-.94L8.5 2.5l-.94 2.06-2.06.94zm10 10l.94 2.06.94-2.06 2.06-.94-2.06-.94-.94-2.06-.94 2.06-2.06.94z\"/><path d=\"M17.41 7.96l-1.37-1.37c-.4-.4-.92-.59-1.43-.59-.52 0-1.04.2-1.43.59L10.3 9.45l-7.72 7.72c-.78.78-.78 2.05 0 2.83L4 21.41c.39.39.9.59 1.41.59.51 0 1.02-.2 1.41-.59l7.78-7.78 2.81-2.81c.8-.78.8-2.07 0-2.86zM5.41 20L4 18.59l7.72-7.72 1.47 1.35L5.41 20z\"/>\n",
              "  </svg>\n",
              "      </button>\n",
              "      \n",
              "  <style>\n",
              "    .colab-df-container {\n",
              "      display:flex;\n",
              "      flex-wrap:wrap;\n",
              "      gap: 12px;\n",
              "    }\n",
              "\n",
              "    .colab-df-convert {\n",
              "      background-color: #E8F0FE;\n",
              "      border: none;\n",
              "      border-radius: 50%;\n",
              "      cursor: pointer;\n",
              "      display: none;\n",
              "      fill: #1967D2;\n",
              "      height: 32px;\n",
              "      padding: 0 0 0 0;\n",
              "      width: 32px;\n",
              "    }\n",
              "\n",
              "    .colab-df-convert:hover {\n",
              "      background-color: #E2EBFA;\n",
              "      box-shadow: 0px 1px 2px rgba(60, 64, 67, 0.3), 0px 1px 3px 1px rgba(60, 64, 67, 0.15);\n",
              "      fill: #174EA6;\n",
              "    }\n",
              "\n",
              "    [theme=dark] .colab-df-convert {\n",
              "      background-color: #3B4455;\n",
              "      fill: #D2E3FC;\n",
              "    }\n",
              "\n",
              "    [theme=dark] .colab-df-convert:hover {\n",
              "      background-color: #434B5C;\n",
              "      box-shadow: 0px 1px 3px 1px rgba(0, 0, 0, 0.15);\n",
              "      filter: drop-shadow(0px 1px 2px rgba(0, 0, 0, 0.3));\n",
              "      fill: #FFFFFF;\n",
              "    }\n",
              "  </style>\n",
              "\n",
              "      <script>\n",
              "        const buttonEl =\n",
              "          document.querySelector('#df-51bf3ed0-b45f-41a0-829a-744b547d7847 button.colab-df-convert');\n",
              "        buttonEl.style.display =\n",
              "          google.colab.kernel.accessAllowed ? 'block' : 'none';\n",
              "\n",
              "        async function convertToInteractive(key) {\n",
              "          const element = document.querySelector('#df-51bf3ed0-b45f-41a0-829a-744b547d7847');\n",
              "          const dataTable =\n",
              "            await google.colab.kernel.invokeFunction('convertToInteractive',\n",
              "                                                     [key], {});\n",
              "          if (!dataTable) return;\n",
              "\n",
              "          const docLinkHtml = 'Like what you see? Visit the ' +\n",
              "            '<a target=\"_blank\" href=https://colab.research.google.com/notebooks/data_table.ipynb>data table notebook</a>'\n",
              "            + ' to learn more about interactive tables.';\n",
              "          element.innerHTML = '';\n",
              "          dataTable['output_type'] = 'display_data';\n",
              "          await google.colab.output.renderOutput(dataTable, element);\n",
              "          const docLink = document.createElement('div');\n",
              "          docLink.innerHTML = docLinkHtml;\n",
              "          element.appendChild(docLink);\n",
              "        }\n",
              "      </script>\n",
              "    </div>\n",
              "  </div>\n",
              "  "
            ]
          },
          "metadata": {},
          "execution_count": 66
        }
      ],
      "source": [
        "events.head()"
      ]
    },
    {
      "cell_type": "markdown",
      "metadata": {
        "id": "dVrS2M5yHbpE"
      },
      "source": [
        "## Typical Questions"
      ]
    },
    {
      "cell_type": "markdown",
      "metadata": {
        "id": "8tHtvJCHHbpI"
      },
      "source": [
        "### a) What is the minimum number of events per case?"
      ]
    },
    {
      "cell_type": "code",
      "execution_count": null,
      "metadata": {
        "colab": {
          "base_uri": "https://localhost:8080/",
          "height": 46
        },
        "id": "VCa5usH6HbpK",
        "outputId": "39e0f055-f684-452d-e8c8-04016c71dbee"
      },
      "outputs": [
        {
          "output_type": "display_data",
          "data": {
            "text/plain": [
              "<IPython.core.display.Markdown object>"
            ],
            "text/markdown": "**Minimum number of events per case**: 6"
          },
          "metadata": {}
        }
      ],
      "source": [
        "printmd('**Minimum number of events per case**: {}'.format(min(events['patient'].value_counts())))"
      ]
    },
    {
      "cell_type": "markdown",
      "metadata": {
        "id": "OoiPhahEHbpL"
      },
      "source": [
        "### b) Patient 26 consulations?\n",
        "Which doctor did s/he have his/her consultation with?\n"
      ]
    },
    {
      "cell_type": "code",
      "execution_count": null,
      "metadata": {
        "colab": {
          "base_uri": "https://localhost:8080/",
          "height": 70
        },
        "id": "uE6vGgHxHbpM",
        "outputId": "7d07740c-74db-46e6-d43e-5b5a5bcf078a"
      },
      "outputs": [
        {
          "output_type": "display_data",
          "data": {
            "text/plain": [
              "<IPython.core.display.Markdown object>"
            ],
            "text/markdown": "**First doctor**:  Dr. Bob"
          },
          "metadata": {}
        },
        {
          "output_type": "display_data",
          "data": {
            "text/plain": [
              "<IPython.core.display.Markdown object>"
            ],
            "text/markdown": "**Last doctor**:  Dr. Ben"
          },
          "metadata": {}
        }
      ],
      "source": [
        "first_doctor = events[events['datetime']==min(events[events['patient']=='patient 26']['datetime'])]['resource'].values[0]\n",
        "last_doctor = events[events['datetime']==max(events[events['patient']=='patient 26']['datetime'])]['resource'].values[0]\n",
        "printmd('**First doctor**: {}'.format(first_doctor))\n",
        "printmd('**Last doctor**: {}'.format(last_doctor))\n"
      ]
    },
    {
      "cell_type": "markdown",
      "metadata": {
        "id": "OYdyzC_jHbpN"
      },
      "source": [
        "### c) Which activity has the lowest occurrence overall in the event log?"
      ]
    },
    {
      "cell_type": "code",
      "execution_count": null,
      "metadata": {
        "colab": {
          "base_uri": "https://localhost:8080/",
          "height": 165
        },
        "id": "DAWLpHETHbpO",
        "outputId": "94339e7e-3329-4039-d235-f7be28618960"
      },
      "outputs": [
        {
          "output_type": "error",
          "ename": "NameError",
          "evalue": "ignored",
          "traceback": [
            "\u001b[0;31m---------------------------------------------------------------------------\u001b[0m",
            "\u001b[0;31mNameError\u001b[0m                                 Traceback (most recent call last)",
            "\u001b[0;32m<ipython-input-1-e1075717a390>\u001b[0m in \u001b[0;36m<cell line: 1>\u001b[0;34m()\u001b[0m\n\u001b[0;32m----> 1\u001b[0;31m \u001b[0mprintmd\u001b[0m\u001b[0;34m(\u001b[0m\u001b[0;34m'**Activity with lowest occurrence**: {}'\u001b[0m\u001b[0;34m.\u001b[0m\u001b[0mformat\u001b[0m\u001b[0;34m(\u001b[0m\u001b[0mevents\u001b[0m\u001b[0;34m[\u001b[0m\u001b[0;34m'action'\u001b[0m\u001b[0;34m]\u001b[0m\u001b[0;34m.\u001b[0m\u001b[0mvalue_counts\u001b[0m\u001b[0;34m(\u001b[0m\u001b[0;34m)\u001b[0m\u001b[0;34m.\u001b[0m\u001b[0msort_values\u001b[0m\u001b[0;34m(\u001b[0m\u001b[0;34m)\u001b[0m\u001b[0;34m.\u001b[0m\u001b[0midxmin\u001b[0m\u001b[0;34m(\u001b[0m\u001b[0;34m)\u001b[0m\u001b[0;34m)\u001b[0m\u001b[0;34m)\u001b[0m\u001b[0;34m\u001b[0m\u001b[0;34m\u001b[0m\u001b[0m\n\u001b[0m",
            "\u001b[0;31mNameError\u001b[0m: name 'printmd' is not defined"
          ]
        }
      ],
      "source": [
        "printmd('**Activity with lowest occurrence**: {}'.format(events['action'].value_counts().sort_values().idxmin()))"
      ]
    },
    {
      "cell_type": "markdown",
      "metadata": {
        "id": "n9mHqKzKHbpP"
      },
      "source": [
        "# Visualisations"
      ]
    },
    {
      "cell_type": "code",
      "execution_count": null,
      "metadata": {
        "id": "fnWaghPgHbpP"
      },
      "outputs": [],
      "source": [
        "activities = list(events['action'].unique())\n",
        "markers = ['*', '+', 'h', 'o', 'x', 'D', '^', 'v']\n",
        "assert(len(activities)==len(markers))\n"
      ]
    },
    {
      "cell_type": "code",
      "execution_count": null,
      "metadata": {
        "id": "K0Z3KmdEHbpQ"
      },
      "outputs": [],
      "source": [
        "patients = events['patient'].unique()\n",
        "selected_patients = patients[0:50]\n",
        "patientX = events[events['patient'].isin(selected_patients)]\n",
        "\n"
      ]
    },
    {
      "cell_type": "markdown",
      "metadata": {
        "id": "VVGUXVNUHbpe"
      },
      "source": [
        "### a) Discrete event plot\n",
        "* y-axis represents each patient case.\n",
        "* x-axis represents time since case was initiated.\n",
        "* Different marker shapes represent different types of cases."
      ]
    },
    {
      "cell_type": "code",
      "execution_count": null,
      "metadata": {
        "colab": {
          "base_uri": "https://localhost:8080/",
          "height": 643,
          "referenced_widgets": [
            "6d3c86dd5a914b228f3a94224af7075b",
            "3a249da51ea046ed9512c883a8356c54",
            "b766d0987ccf4982af9f9d03cf221b82",
            "567b0ccf83f248c590218852f6ebb80b",
            "05e945ec24674befa41849c6ab4ec130",
            "fa08eadf968b409f9a7560b343152e2b",
            "91ffd5fc89424df58406868f63d7ef71"
          ]
        },
        "id": "OZFLG-BlHbpf",
        "outputId": "0a1a8858-7c0d-4b31-c17c-d1cf4a7df33e"
      },
      "outputs": [
        {
          "output_type": "display_data",
          "data": {
            "text/plain": [
              "interactive(children=(Dropdown(description='x', options=('patient 0', 'patient 1', 'patient 2', 'patient 3', '…"
            ],
            "application/vnd.jupyter.widget-view+json": {
              "version_major": 2,
              "version_minor": 0,
              "model_id": "6d3c86dd5a914b228f3a94224af7075b"
            }
          },
          "metadata": {}
        }
      ],
      "source": [
        "## Widget libraries\n",
        "from ipywidgets import widgets\n",
        "from ipywidgets import interact, interact_manual\n",
        "\n",
        "patients = events['patient'].unique()\n",
        "\n",
        "@interact\n",
        "def getCaseData(x=patients):\n",
        "    return events[events['patient']==x]\n",
        "\n"
      ]
    },
    {
      "cell_type": "code",
      "execution_count": null,
      "metadata": {
        "id": "PBpW_gXHHbpf"
      },
      "outputs": [],
      "source": [
        "patientX = getCaseData(patients[10])"
      ]
    },
    {
      "cell_type": "markdown",
      "metadata": {
        "id": "mieIePIJHbpg"
      },
      "source": [
        "### b) Most frequent event sequence"
      ]
    },
    {
      "cell_type": "code",
      "execution_count": null,
      "metadata": {
        "colab": {
          "base_uri": "https://localhost:8080/",
          "height": 70
        },
        "id": "F2mjWTrxHbpg",
        "outputId": "e4f3ea2a-d5be-4d4f-eede-62374eb0796f"
      },
      "outputs": [
        {
          "output_type": "display_data",
          "data": {
            "text/plain": [
              "<IPython.core.display.Markdown object>"
            ],
            "text/markdown": "**The most frequent event (sequence) has** 7 **activities.**"
          },
          "metadata": {}
        },
        {
          "output_type": "display_data",
          "data": {
            "text/plain": [
              "<IPython.core.display.Markdown object>"
            ],
            "text/markdown": "**The activity sequence is**:  First consult, Blood test, X-ray scan, Physical test, Second consult, Medicine, Final consult."
          },
          "metadata": {}
        }
      ],
      "source": [
        "most_frequent_event = events['action_sequence'].value_counts().idxmax()\n",
        "\n",
        "\n",
        "printmd('**The most frequent event (sequence) has** {} **activities.**'.format(len(most_frequent_event.split(delimiter))))\n",
        "printmd('**The activity sequence is**:  {}.'.format(', '.join(most_frequent_event.split(delimiter))))"
      ]
    },
    {
      "cell_type": "markdown",
      "metadata": {
        "id": "x5LI_QdsHbpg"
      },
      "source": [
        "## Filtering events"
      ]
    },
    {
      "cell_type": "markdown",
      "metadata": {
        "id": "yzEE064ZHbpg"
      },
      "source": [
        "### Removing events that all patients share"
      ]
    },
    {
      "cell_type": "code",
      "execution_count": null,
      "metadata": {
        "colab": {
          "base_uri": "https://localhost:8080/",
          "height": 606
        },
        "id": "wDSQB9zgHbph",
        "outputId": "ac20f27e-5a83-4bd0-d0af-8c836a987825"
      },
      "outputs": [
        {
          "output_type": "display_data",
          "data": {
            "text/plain": [
              "<IPython.core.display.Markdown object>"
            ],
            "text/markdown": "**The following actions are common to all cases**: Blood test, Final consult, First consult, Physical test, Second consult"
          },
          "metadata": {}
        },
        {
          "output_type": "display_data",
          "data": {
            "text/plain": [
              "<IPython.core.display.Markdown object>"
            ],
            "text/markdown": "**The following actions are the ones that we wish to keep (not common to all cases)**: Medicine, Surgery, X-ray scan"
          },
          "metadata": {}
        },
        {
          "output_type": "display_data",
          "data": {
            "text/plain": [
              "<Figure size 1500x800 with 2 Axes>"
            ],
            "image/png": "[encoded data removed]"
          },
          "metadata": {}
        }
      ],
      "source": [
        "## Visualise which events are common to patients\n",
        "patient_events = pd.crosstab(events['patient'], events['action'])\n",
        "sns.heatmap(patient_events, cmap=\"YlGnBu\")\n",
        "\n",
        "nunique = patient_events.apply(pd.Series.nunique)\n",
        "shared_actions = nunique[nunique==1].index\n",
        "actions_to_keep = nunique[nunique>1].index\n",
        "printmd('**The following actions are common to all cases**: {}'.format(', '.join(shared_actions)))\n",
        "printmd('**The following actions are the ones that we wish to keep (not common to all cases)**: {}'.format(', '.join(actions_to_keep)))\n"
      ]
    },
    {
      "cell_type": "markdown",
      "metadata": {
        "id": "27ojOKzpHbph"
      },
      "source": [
        "## Process Mining\n",
        "* Check out this [introduction to process mining in Python](https://towardsdatascience.com/introduction-to-process-mining-5f4ce985b7e5).\n",
        "* [Documentation for pm4py](https://pm4py.fit.fraunhofer.de/)"
      ]
    },
    {
      "cell_type": "code",
      "source": [
        "!pip install pm4py\n",
        "import pm4py"
      ],
      "metadata": {
        "colab": {
          "base_uri": "https://localhost:8080/"
        },
        "id": "4qtiY1-nJwq2",
        "outputId": "19d43e65-4438-472c-b6ac-a767e17c46a6"
      },
      "execution_count": null,
      "outputs": [
        {
          "output_type": "stream",
          "name": "stdout",
          "text": [
            "Looking in indexes: https://pypi.org/simple, https://us-python.pkg.dev/colab-wheels/public/simple/\n",
            "Requirement already satisfied: pm4py in /usr/local/lib/python3.9/dist-packages (2.7.1)\n",
            "Requirement already satisfied: intervaltree in /usr/local/lib/python3.9/dist-packages (from pm4py) (3.1.0)\n",
            "Requirement already satisfied: pandas in /usr/local/lib/python3.9/dist-packages (from pm4py) (1.4.4)\n",
            "Requirement already satisfied: deprecation in /usr/local/lib/python3.9/dist-packages (from pm4py) (2.1.0)\n",
            "Requirement already satisfied: tqdm in /usr/local/lib/python3.9/dist-packages (from pm4py) (4.65.0)\n",
            "Requirement already satisfied: matplotlib in /usr/local/lib/python3.9/dist-packages (from pm4py) (3.7.1)\n",
            "Requirement already satisfied: cvxopt in /usr/local/lib/python3.9/dist-packages (from pm4py) (1.3.0)\n",
            "Requirement already satisfied: lxml in /usr/local/lib/python3.9/dist-packages (from pm4py) (4.9.2)\n",
            "Requirement already satisfied: numpy in /usr/local/lib/python3.9/dist-packages (from pm4py) (1.22.4)\n",
            "Requirement already satisfied: scipy in /usr/local/lib/python3.9/dist-packages (from pm4py) (1.10.1)\n",
            "Requirement already satisfied: graphviz in /usr/local/lib/python3.9/dist-packages (from pm4py) (0.20.1)\n",
            "Requirement already satisfied: stringdist in /usr/local/lib/python3.9/dist-packages (from pm4py) (1.0.9)\n",
            "Requirement already satisfied: pytz in /usr/local/lib/python3.9/dist-packages (from pm4py) (2022.7.1)\n",
            "Requirement already satisfied: networkx in /usr/local/lib/python3.9/dist-packages (from pm4py) (3.0)\n",
            "Requirement already satisfied: pydotplus in /usr/local/lib/python3.9/dist-packages (from pm4py) (2.0.2)\n",
            "Requirement already satisfied: packaging in /usr/local/lib/python3.9/dist-packages (from deprecation->pm4py) (23.0)\n",
            "Requirement already satisfied: sortedcontainers<3.0,>=2.0 in /usr/local/lib/python3.9/dist-packages (from intervaltree->pm4py) (2.4.0)\n",
            "Requirement already satisfied: cycler>=0.10 in /usr/local/lib/python3.9/dist-packages (from matplotlib->pm4py) (0.11.0)\n",
            "Requirement already satisfied: importlib-resources>=3.2.0 in /usr/local/lib/python3.9/dist-packages (from matplotlib->pm4py) (5.12.0)\n",
            "Requirement already satisfied: fonttools>=4.22.0 in /usr/local/lib/python3.9/dist-packages (from matplotlib->pm4py) (4.39.2)\n",
            "Requirement already satisfied: kiwisolver>=1.0.1 in /usr/local/lib/python3.9/dist-packages (from matplotlib->pm4py) (1.4.4)\n",
            "Requirement already satisfied: contourpy>=1.0.1 in /usr/local/lib/python3.9/dist-packages (from matplotlib->pm4py) (1.0.7)\n",
            "Requirement already satisfied: pyparsing>=2.3.1 in /usr/local/lib/python3.9/dist-packages (from matplotlib->pm4py) (3.0.9)\n",
            "Requirement already satisfied: python-dateutil>=2.7 in /usr/local/lib/python3.9/dist-packages (from matplotlib->pm4py) (2.8.2)\n",
            "Requirement already satisfied: pillow>=6.2.0 in /usr/local/lib/python3.9/dist-packages (from matplotlib->pm4py) (8.4.0)\n",
            "Requirement already satisfied: zipp>=3.1.0 in /usr/local/lib/python3.9/dist-packages (from importlib-resources>=3.2.0->matplotlib->pm4py) (3.15.0)\n",
            "Requirement already satisfied: six>=1.5 in /usr/local/lib/python3.9/dist-packages (from python-dateutil>=2.7->matplotlib->pm4py) (1.16.0)\n"
          ]
        }
      ]
    },
    {
      "cell_type": "code",
      "source": [
        "pip --version"
      ],
      "metadata": {
        "colab": {
          "base_uri": "https://localhost:8080/"
        },
        "id": "y51oVIbBKC41",
        "outputId": "5976b8ac-8bf2-4bef-ecba-3d870d1aebeb"
      },
      "execution_count": null,
      "outputs": [
        {
          "output_type": "stream",
          "name": "stdout",
          "text": [
            "pip 22.0.4 from /usr/local/lib/python3.9/dist-packages/pip (python 3.9)\n"
          ]
        }
      ]
    },
    {
      "cell_type": "code",
      "execution_count": null,
      "metadata": {
        "id": "wHO_5MtaHbpi"
      },
      "outputs": [],
      "source": [
        "from pm4py.objects.conversion.log import converter as log_converter\n",
        "from pm4py.objects.log.importer.xes import importer as xes_importer\n",
        "\n",
        "# process mining \n",
        "from pm4py.algo.discovery.alpha import algorithm as alpha_miner\n",
        "from pm4py.algo.discovery.inductive import algorithm as inductive_miner\n",
        "from pm4py.algo.discovery.heuristics import algorithm as heuristics_miner\n",
        "from pm4py.algo.discovery.dfg import algorithm as dfg_discovery\n",
        "\n",
        "# viz\n",
        "from pm4py.objects.conversion.log import converter as log_converter\n",
        "from pm4py.algo.discovery.alpha import algorithm as alpha_miner\n",
        "from pm4py.visualization.petri_net import visualizer as pn_visualizer\n",
        "from pm4py.visualization.petri_net.util import performance_map \n",
        "from pm4py.visualization.process_tree import visualizer as pt_visualizer\n",
        "from pm4py.visualization.dfg import visualizer as dfg_visualization\n",
        "from pm4py.visualization.heuristics_net import visualizer as hn_visualizer\n",
        "\n",
        "# misc \n",
        "from pm4py.objects.conversion.process_tree import converter as pt_converter\n"
      ]
    },
    {
      "cell_type": "code",
      "execution_count": null,
      "metadata": {
        "id": "56Sj61reHbpi"
      },
      "outputs": [],
      "source": [
        "eventlog = events.copy()\n",
        "### Specify which columns correspond to case (case:concept:name), \n",
        "###event (concept:name) and timestamp (time:timestamp) - rename columns in accordance\n",
        "###with pm4py\n",
        "\n",
        "eventlog.rename(columns={'datetime': 'time:timestamp', 'patient': 'case:concept:name', 'action': 'concept:name', 'resource': 'org:resource'}, inplace=True)\n",
        "\n",
        "## Convert to log format\n",
        "log = log_converter.apply(eventlog)\n"
      ]
    },
    {
      "cell_type": "markdown",
      "metadata": {
        "id": "D5ilmzj8Hbpi"
      },
      "source": [
        "### Alpha miner"
      ]
    },
    {
      "cell_type": "code",
      "execution_count": null,
      "metadata": {
        "id": "nCs_ChY2Hbpi",
        "colab": {
          "base_uri": "https://localhost:8080/",
          "height": 193
        },
        "outputId": "10a517f7-4970-440e-a923-e1531033aa6a"
      },
      "outputs": [
        {
          "output_type": "display_data",
          "data": {
            "image/png": "[encoded data removed]",
            "text/plain": [
              "<IPython.core.display.Image object>"
            ]
          },
          "metadata": {}
        }
      ],
      "source": [
        "# alpha miner\n",
        "net, initial_marking, final_marking = alpha_miner.apply(log)\n",
        "\n",
        "# Visualise\n",
        "gviz = pn_visualizer.apply(net, initial_marking, final_marking)\n",
        "pn_visualizer.view(gviz)"
      ]
    },
    {
      "cell_type": "code",
      "execution_count": null,
      "metadata": {
        "id": "Sc2-UGxAHbpj",
        "colab": {
          "base_uri": "https://localhost:8080/",
          "height": 49,
          "referenced_widgets": [
            "f1e039076c924ec588622d41418794f2",
            "0d8e2ebb1e194535af043d47245343a7",
            "ae9a93774c724d58ba8b5dbc9da1d4ea",
            "22993f19e03047408741e032f681f38a",
            "69ef6db8e729490698341f6bbf4cc964",
            "c3fc57d707ca48dc81917fc9c52d8a0b",
            "226e63e63f0c4dd9812f89b532cb9bec",
            "b1ba9cab737e48d6890395266a7b2deb",
            "eac959f626774d12a1d2aaff2621f8ba",
            "8b978367df664aab9f029eaccfc0daac",
            "a503b9cec67f4961b0251c2fceb3ce08"
          ]
        },
        "outputId": "d224be2f-2b4d-4e00-b3ba-a80b2b525a97"
      },
      "outputs": [
        {
          "output_type": "display_data",
          "data": {
            "text/plain": [
              "replaying log with TBR, completed variants ::   0%|          | 0/15 [00:00<?, ?it/s]"
            ],
            "application/vnd.jupyter.widget-view+json": {
              "version_major": 2,
              "version_minor": 0,
              "model_id": "f1e039076c924ec588622d41418794f2"
            }
          },
          "metadata": {}
        }
      ],
      "source": [
        "# add information about frequency to the viz \n",
        "parameters = {pn_visualizer.Variants.FREQUENCY.value.Parameters.FORMAT: \"png\"}\n",
        "gviz = pn_visualizer.apply(net, initial_marking, final_marking, \n",
        "                           parameters=parameters, \n",
        "                           variant=pn_visualizer.Variants.FREQUENCY, \n",
        "                           log=log)\n",
        "\n",
        "# save the Petri net\n",
        "pn_visualizer.save(gviz, \"alpha_miner_healthcare_petri_net.png\")"
      ]
    },
    {
      "cell_type": "markdown",
      "metadata": {
        "id": "bUNBWr3KHbpj"
      },
      "source": [
        "### Directly-follows graph"
      ]
    },
    {
      "cell_type": "code",
      "execution_count": null,
      "metadata": {
        "id": "E7ZJq9OBHbpj",
        "colab": {
          "base_uri": "https://localhost:8080/",
          "height": 756
        },
        "outputId": "c7ef3a1d-cdbb-4950-9ecc-6b8d1e087e3a"
      },
      "outputs": [
        {
          "output_type": "display_data",
          "data": {
            "image/png": "[encoded data removed]",
            "text/plain": [
              "<IPython.core.display.Image object>"
            ]
          },
          "metadata": {}
        }
      ],
      "source": [
        "#Create graph from log\n",
        "dfg = dfg_discovery.apply(log)\n",
        "\n",
        "# viz\n",
        "gviz = dfg_visualization.apply(dfg, log=log, variant=dfg_visualization.Variants.FREQUENCY)\n",
        "dfg_visualization.view(gviz)"
      ]
    },
    {
      "cell_type": "markdown",
      "metadata": {
        "id": "M7dIapk5Hbpj"
      },
      "source": [
        "With average times between nodes (performance)"
      ]
    },
    {
      "cell_type": "code",
      "execution_count": null,
      "metadata": {
        "id": "Ktgr-QsYHbpk",
        "colab": {
          "base_uri": "https://localhost:8080/",
          "height": 756
        },
        "outputId": "67c16d51-3eb8-4bbe-c3f3-286ecae81622"
      },
      "outputs": [
        {
          "output_type": "display_data",
          "data": {
            "image/png": "[encoded data removed]",
            "text/plain": [
              "<IPython.core.display.Image object>"
            ]
          },
          "metadata": {}
        }
      ],
      "source": [
        "# creatig the graph from log\n",
        "dfg = dfg_discovery.apply(log, variant=dfg_discovery.Variants.PERFORMANCE)\n",
        "\n",
        "# viz\n",
        "gviz = dfg_visualization.apply(dfg, log=log, variant=dfg_visualization.Variants.PERFORMANCE)\n",
        "dfg_visualization.view(gviz)"
      ]
    },
    {
      "cell_type": "markdown",
      "metadata": {
        "id": "jRJVd7hIHbpk"
      },
      "source": [
        "### Heuristic miner"
      ]
    },
    {
      "cell_type": "code",
      "execution_count": null,
      "metadata": {
        "id": "LQuzyC2THbpk",
        "colab": {
          "base_uri": "https://localhost:8080/",
          "height": 772
        },
        "outputId": "2079bbff-8578-4541-baa3-fe45acbcba23"
      },
      "outputs": [
        {
          "output_type": "display_data",
          "data": {
            "image/png": "[encoded data removed]",
            "text/plain": [
              "<IPython.core.display.Image object>"
            ]
          },
          "metadata": {}
        }
      ],
      "source": [
        "# heuristics miner\n",
        "heu_net = heuristics_miner.apply_heu(log)\n",
        "\n",
        "# viz\n",
        "gviz = hn_visualizer.apply(heu_net)\n",
        "hn_visualizer.view(gviz)"
      ]
    },
    {
      "cell_type": "markdown",
      "metadata": {
        "id": "xVIuuQAwHbpk"
      },
      "source": [
        "Petri-net of heuristic miner output"
      ]
    },
    {
      "cell_type": "code",
      "execution_count": null,
      "metadata": {
        "id": "Q9hSW9EbHbpk",
        "colab": {
          "base_uri": "https://localhost:8080/",
          "height": 186,
          "referenced_widgets": [
            "40408a1f010544ed9f98bb43530603c8",
            "9b0c55e63d72457dacf83c9b3135960b",
            "5b4f005af6414c25b650d849b61c7faf",
            "821675cf6cc84dfe86280e33eecb1e58",
            "f246a0f9ac3a4196bc978a7954707ce9",
            "ee290e7b1f3f4fabb015014e9e22235f",
            "cdc2a28d1f7245ecbca7a118628776d3",
            "3c99a1737759492a938100d02847c495",
            "cc9dea9056e24c68b4adaf4dc010ff1c",
            "40443e2084344b32815baabfcd4586c9",
            "b8853f7121a14c8b82c63bcf96b5bea7"
          ]
        },
        "outputId": "9b5e33e2-3428-4d2c-dc8f-59c2340a9423"
      },
      "outputs": [
        {
          "output_type": "display_data",
          "data": {
            "text/plain": [
              "replaying log with TBR, completed variants ::   0%|          | 0/15 [00:00<?, ?it/s]"
            ],
            "application/vnd.jupyter.widget-view+json": {
              "version_major": 2,
              "version_minor": 0,
              "model_id": "40408a1f010544ed9f98bb43530603c8"
            }
          },
          "metadata": {}
        },
        {
          "output_type": "display_data",
          "data": {
            "image/png": "[encoded data removed]",
            "text/plain": [
              "<IPython.core.display.Image object>"
            ]
          },
          "metadata": {}
        }
      ],
      "source": [
        "# heuristics miner\n",
        "net, im, fm = heuristics_miner.apply(log)\n",
        "\n",
        "# viz\n",
        "gviz = pn_visualizer.apply(net, im, fm)\n",
        "gviz = pn_visualizer.apply(net, im, fm, \n",
        "                           parameters=parameters, \n",
        "                           variant=pn_visualizer.Variants.FREQUENCY, \n",
        "                           log=log)\n",
        "#pn_visualizer.view(gviz)\n",
        "pn_visualizer.view(gviz)"
      ]
    }
  ],
  "metadata": {
    "kernelspec": {
      "display_name": "Python 3",
      "language": "python",
      "name": "python3"
    },
    "language_info": {
      "codemirror_mode": {
        "name": "ipython",
        "version": 3
      },
      "file_extension": ".py",
      "mimetype": "text/x-python",
      "name": "python",
      "nbconvert_exporter": "python",
      "pygments_lexer": "ipython3",
      "version": "3.8.3"
    },
    "colab": {
      "provenance": []
    },
    "widgets": {
      "application/vnd.jupyter.widget-state+json": {
        "6d3c86dd5a914b228f3a94224af7075b": {
          "model_module": "@jupyter-widgets/controls",
          "model_name": "VBoxModel",
          "model_module_version": "1.5.0",
          "state": {
            "_dom_classes": [
              "widget-interact"
            ],
            "_model_module": "@jupyter-widgets/controls",
            "_model_module_version": "1.5.0",
            "_model_name": "VBoxModel",
            "_view_count": null,
            "_view_module": "@jupyter-widgets/controls",
            "_view_module_version": "1.5.0",
            "_view_name": "VBoxView",
            "box_style": "",
            "children": [
              "IPY_MODEL_3a249da51ea046ed9512c883a8356c54",
              "IPY_MODEL_b766d0987ccf4982af9f9d03cf221b82"
            ],
            "layout": "IPY_MODEL_567b0ccf83f248c590218852f6ebb80b"
          }
        },
        "3a249da51ea046ed9512c883a8356c54": {
          "model_module": "@jupyter-widgets/controls",
          "model_name": "DropdownModel",
          "model_module_version": "1.5.0",
          "state": {
            "_dom_classes": [],
            "_model_module": "@jupyter-widgets/controls",
            "_model_module_version": "1.5.0",
            "_model_name": "DropdownModel",
            "_options_labels": [
              "patient 0",
              "patient 1",
              "patient 2",
              "patient 3",
              "patient 4",
              "patient 5",
              "patient 6",
              "patient 7",
              "patient 8",
              "patient 9",
              "patient 10",
              "patient 11",
              "patient 12",
              "patient 13",
              "patient 14",
              "patient 15",
              "patient 16",
              "patient 17",
              "patient 18",
              "patient 19",
              "patient 20",
              "patient 21",
              "patient 22",
              "patient 23",
              "patient 24",
              "patient 25",
              "patient 26",
              "patient 27",
              "patient 28",
              "patient 29",
              "patient 30",
              "patient 31",
              "patient 32",
              "patient 33",
              "patient 34",
              "patient 35",
              "patient 36",
              "patient 37",
              "patient 38",
              "patient 39",
              "patient 40",
              "patient 41",
              "patient 42",
              "patient 43",
              "patient 44",
              "patient 45",
              "patient 46",
              "patient 47",
              "patient 48",
              "patient 49",
              "patient 50",
              "patient 51",
              "patient 52",
              "patient 53",
              "patient 54",
              "patient 55",
              "patient 56",
              "patient 57",
              "patient 58",
              "patient 59",
              "patient 60",
              "patient 61",
              "patient 62",
              "patient 63",
              "patient 64",
              "patient 65",
              "patient 66",
              "patient 67",
              "patient 68",
              "patient 69",
              "patient 70",
              "patient 71",
              "patient 72",
              "patient 73",
              "patient 74",
              "patient 75",
              "patient 76",
              "patient 77",
              "patient 78",
              "patient 79",
              "patient 80",
              "patient 81",
              "patient 82",
              "patient 83",
              "patient 84",
              "patient 85",
              "patient 86",
              "patient 87",
              "patient 88",
              "patient 89",
              "patient 90",
              "patient 91",
              "patient 92",
              "patient 93",
              "patient 94",
              "patient 95",
              "patient 96",
              "patient 97",
              "patient 98",
              "patient 99"
            ],
            "_view_count": null,
            "_view_module": "@jupyter-widgets/controls",
            "_view_module_version": "1.5.0",
            "_view_name": "DropdownView",
            "description": "x",
            "description_tooltip": null,
            "disabled": false,
            "index": 0,
            "layout": "IPY_MODEL_05e945ec24674befa41849c6ab4ec130",
            "style": "IPY_MODEL_fa08eadf968b409f9a7560b343152e2b"
          }
        },
        "b766d0987ccf4982af9f9d03cf221b82": {
          "model_module": "@jupyter-widgets/output",
          "model_name": "OutputModel",
          "model_module_version": "1.0.0",
          "state": {
            "_dom_classes": [],
            "_model_module": "@jupyter-widgets/output",
            "_model_module_version": "1.0.0",
            "_model_name": "OutputModel",
            "_view_count": null,
            "_view_module": "@jupyter-widgets/output",
            "_view_module_version": "1.0.0",
            "_view_name": "OutputView",
            "layout": "IPY_MODEL_91ffd5fc89424df58406868f63d7ef71",
            "msg_id": "",
            "outputs": [
              {
                "output_type": "display_data",
                "data": {
                  "text/plain": "     patient          action      resource            datetime  \\\n0  patient 0   First consult      Dr. Anna 2017-01-02 11:40:11   \n1  patient 0      Blood test           Lab 2017-01-02 12:47:33   \n2  patient 0   Physical test   Nurse Jesse 2017-01-02 12:53:50   \n3  patient 0  Second consult      Dr. Anna 2017-01-02 16:21:06   \n4  patient 0         Surgery   Dr. Charlie 2017-01-05 13:23:09   \n5  patient 0   Final consult       Dr. Ben 2017-01-09 08:29:28   \n\n              caseend           casestart    relativetime  \\\n0 2017-01-09 08:29:28 2017-01-02 11:40:11 0 days 00:00:00   \n1 2017-01-09 08:29:28 2017-01-02 11:40:11 0 days 01:07:22   \n2 2017-01-09 08:29:28 2017-01-02 11:40:11 0 days 01:13:39   \n3 2017-01-09 08:29:28 2017-01-02 11:40:11 0 days 04:40:55   \n4 2017-01-09 08:29:28 2017-01-02 11:40:11 3 days 01:42:58   \n5 2017-01-09 08:29:28 2017-01-02 11:40:11 6 days 20:49:17   \n\n                                     action_sequence  numactions  \\\n0  First consult___Blood test___Physical test___S...           6   \n1  First consult___Blood test___Physical test___S...           6   \n2  First consult___Blood test___Physical test___S...           6   \n3  First consult___Blood test___Physical test___S...           6   \n4  First consult___Blood test___Physical test___S...           6   \n5  First consult___Blood test___Physical test___S...           6   \n\n       caselength  weekday        date   startdate  hour  relativetime_s  \\\n0 6 days 20:49:17        0  2017-01-02  2017-01-02    11               0   \n1 6 days 20:49:17        0  2017-01-02  2017-01-02    12            4042   \n2 6 days 20:49:17        0  2017-01-02  2017-01-02    12            4419   \n3 6 days 20:49:17        0  2017-01-02  2017-01-02    16           16855   \n4 6 days 20:49:17        3  2017-01-05  2017-01-02    13          265378   \n5 6 days 20:49:17        0  2017-01-09  2017-01-02     8          593357   \n\n   relativedays  \n0             0  \n1             0  \n2             0  \n3             0  \n4             3  \n5             6  ",
                  "text/html": "\n  <div id=\"df-e1bc16dd-c778-441d-8b02-30cb29ce0408\">\n    <div class=\"colab-df-container\">\n      <div>\n<style scoped>\n    .dataframe tbody tr th:only-of-type {\n        vertical-align: middle;\n    }\n\n    .dataframe tbody tr th {\n        vertical-align: top;\n    }\n\n    .dataframe thead th {\n        text-align: right;\n    }\n</style>\n<table border=\"1\" class=\"dataframe\">\n  <thead>\n    <tr style=\"text-align: right;\">\n      <th></th>\n      <th>patient</th>\n      <th>action</th>\n      <th>resource</th>\n      <th>datetime</th>\n      <th>caseend</th>\n      <th>casestart</th>\n      <th>relativetime</th>\n      <th>action_sequence</th>\n      <th>numactions</th>\n      <th>caselength</th>\n      <th>weekday</th>\n      <th>date</th>\n      <th>startdate</th>\n      <th>hour</th>\n      <th>relativetime_s</th>\n      <th>relativedays</th>\n    </tr>\n  </thead>\n  <tbody>\n    <tr>\n      <th>0</th>\n      <td>patient 0</td>\n      <td>First consult</td>\n      <td>Dr. Anna</td>\n      <td>2017-01-02 11:40:11</td>\n      <td>2017-01-09 08:29:28</td>\n      <td>2017-01-02 11:40:11</td>\n      <td>0 days 00:00:00</td>\n      <td>First consult___Blood test___Physical test___S...</td>\n      <td>6</td>\n      <td>6 days 20:49:17</td>\n      <td>0</td>\n      <td>2017-01-02</td>\n      <td>2017-01-02</td>\n      <td>11</td>\n      <td>0</td>\n      <td>0</td>\n    </tr>\n    <tr>\n      <th>1</th>\n      <td>patient 0</td>\n      <td>Blood test</td>\n      <td>Lab</td>\n      <td>2017-01-02 12:47:33</td>\n      <td>2017-01-09 08:29:28</td>\n      <td>2017-01-02 11:40:11</td>\n      <td>0 days 01:07:22</td>\n      <td>First consult___Blood test___Physical test___S...</td>\n      <td>6</td>\n      <td>6 days 20:49:17</td>\n      <td>0</td>\n      <td>2017-01-02</td>\n      <td>2017-01-02</td>\n      <td>12</td>\n      <td>4042</td>\n      <td>0</td>\n    </tr>\n    <tr>\n      <th>2</th>\n      <td>patient 0</td>\n      <td>Physical test</td>\n      <td>Nurse Jesse</td>\n      <td>2017-01-02 12:53:50</td>\n      <td>2017-01-09 08:29:28</td>\n      <td>2017-01-02 11:40:11</td>\n      <td>0 days 01:13:39</td>\n      <td>First consult___Blood test___Physical test___S...</td>\n      <td>6</td>\n      <td>6 days 20:49:17</td>\n      <td>0</td>\n      <td>2017-01-02</td>\n      <td>2017-01-02</td>\n      <td>12</td>\n      <td>4419</td>\n      <td>0</td>\n    </tr>\n    <tr>\n      <th>3</th>\n      <td>patient 0</td>\n      <td>Second consult</td>\n      <td>Dr. Anna</td>\n      <td>2017-01-02 16:21:06</td>\n      <td>2017-01-09 08:29:28</td>\n      <td>2017-01-02 11:40:11</td>\n      <td>0 days 04:40:55</td>\n      <td>First consult___Blood test___Physical test___S...</td>\n      <td>6</td>\n      <td>6 days 20:49:17</td>\n      <td>0</td>\n      <td>2017-01-02</td>\n      <td>2017-01-02</td>\n      <td>16</td>\n      <td>16855</td>\n      <td>0</td>\n    </tr>\n    <tr>\n      <th>4</th>\n      <td>patient 0</td>\n      <td>Surgery</td>\n      <td>Dr. Charlie</td>\n      <td>2017-01-05 13:23:09</td>\n      <td>2017-01-09 08:29:28</td>\n      <td>2017-01-02 11:40:11</td>\n      <td>3 days 01:42:58</td>\n      <td>First consult___Blood test___Physical test___S...</td>\n      <td>6</td>\n      <td>6 days 20:49:17</td>\n      <td>3</td>\n      <td>2017-01-05</td>\n      <td>2017-01-02</td>\n      <td>13</td>\n      <td>265378</td>\n      <td>3</td>\n    </tr>\n    <tr>\n      <th>5</th>\n      <td>patient 0</td>\n      <td>Final consult</td>\n      <td>Dr. Ben</td>\n      <td>2017-01-09 08:29:28</td>\n      <td>2017-01-09 08:29:28</td>\n      <td>2017-01-02 11:40:11</td>\n      <td>6 days 20:49:17</td>\n      <td>First consult___Blood test___Physical test___S...</td>\n      <td>6</td>\n      <td>6 days 20:49:17</td>\n      <td>0</td>\n      <td>2017-01-09</td>\n      <td>2017-01-02</td>\n      <td>8</td>\n      <td>593357</td>\n      <td>6</td>\n    </tr>\n  </tbody>\n</table>\n</div>\n      <button class=\"colab-df-convert\" onclick=\"convertToInteractive('df-e1bc16dd-c778-441d-8b02-30cb29ce0408')\"\n              title=\"Convert this dataframe to an interactive table.\"\n              style=\"display:none;\">\n        \n  <svg xmlns=\"http://www.w3.org/2000/svg\" height=\"24px\"viewBox=\"0 0 24 24\"\n       width=\"24px\">\n    <path d=\"M0 0h24v24H0V0z\" fill=\"none\"/>\n    <path d=\"M18.56 5.44l.94 2.06.94-2.06 2.06-.94-2.06-.94-.94-2.06-.94 2.06-2.06.94zm-11 1L8.5 8.5l.94-2.06 2.06-.94-2.06-.94L8.5 2.5l-.94 2.06-2.06.94zm10 10l.94 2.06.94-2.06 2.06-.94-2.06-.94-.94-2.06-.94 2.06-2.06.94z\"/><path d=\"M17.41 7.96l-1.37-1.37c-.4-.4-.92-.59-1.43-.59-.52 0-1.04.2-1.43.59L10.3 9.45l-7.72 7.72c-.78.78-.78 2.05 0 2.83L4 21.41c.39.39.9.59 1.41.59.51 0 1.02-.2 1.41-.59l7.78-7.78 2.81-2.81c.8-.78.8-2.07 0-2.86zM5.41 20L4 18.59l7.72-7.72 1.47 1.35L5.41 20z\"/>\n  </svg>\n      </button>\n      \n  <style>\n    .colab-df-container {\n      display:flex;\n      flex-wrap:wrap;\n      gap: 12px;\n    }\n\n    .colab-df-convert {\n      background-color: #E8F0FE;\n      border: none;\n      border-radius: 50%;\n      cursor: pointer;\n      display: none;\n      fill: #1967D2;\n      height: 32px;\n      padding: 0 0 0 0;\n      width: 32px;\n    }\n\n    .colab-df-convert:hover {\n      background-color: #E2EBFA;\n      box-shadow: 0px 1px 2px rgba(60, 64, 67, 0.3), 0px 1px 3px 1px rgba(60, 64, 67, 0.15);\n      fill: #174EA6;\n    }\n\n    [theme=dark] .colab-df-convert {\n      background-color: #3B4455;\n      fill: #D2E3FC;\n    }\n\n    [theme=dark] .colab-df-convert:hover {\n      background-color: #434B5C;\n      box-shadow: 0px 1px 3px 1px rgba(0, 0, 0, 0.15);\n      filter: drop-shadow(0px 1px 2px rgba(0, 0, 0, 0.3));\n      fill: #FFFFFF;\n    }\n  </style>\n\n      <script>\n        const buttonEl =\n          document.querySelector('#df-e1bc16dd-c778-441d-8b02-30cb29ce0408 button.colab-df-convert');\n        buttonEl.style.display =\n          google.colab.kernel.accessAllowed ? 'block' : 'none';\n\n        async function convertToInteractive(key) {\n          const element = document.querySelector('#df-e1bc16dd-c778-441d-8b02-30cb29ce0408');\n          const dataTable =\n            await google.colab.kernel.invokeFunction('convertToInteractive',\n                                                     [key], {});\n          if (!dataTable) return;\n\n          const docLinkHtml = 'Like what you see? Visit the ' +\n            '<a target=\"_blank\" href=https://colab.research.google.com/notebooks/data_table.ipynb>data table notebook</a>'\n            + ' to learn more about interactive tables.';\n          element.innerHTML = '';\n          dataTable['output_type'] = 'display_data';\n          await google.colab.output.renderOutput(dataTable, element);\n          const docLink = document.createElement('div');\n          docLink.innerHTML = docLinkHtml;\n          element.appendChild(docLink);\n        }\n      </script>\n    </div>\n  </div>\n  "
                },
                "metadata": {}
              }
            ]
          }
        },
        "567b0ccf83f248c590218852f6ebb80b": {
          "model_module": "@jupyter-widgets/base",
          "model_name": "LayoutModel",
          "model_module_version": "1.2.0",
          "state": {
            "_model_module": "@jupyter-widgets/base",
            "_model_module_version": "1.2.0",
            "_model_name": "LayoutModel",
            "_view_count": null,
            "_view_module": "@jupyter-widgets/base",
            "_view_module_version": "1.2.0",
            "_view_name": "LayoutView",
            "align_content": null,
            "align_items": null,
            "align_self": null,
            "border": null,
            "bottom": null,
            "display": null,
            "flex": null,
            "flex_flow": null,
            "grid_area": null,
            "grid_auto_columns": null,
            "grid_auto_flow": null,
            "grid_auto_rows": null,
            "grid_column": null,
            "grid_gap": null,
            "grid_row": null,
            "grid_template_areas": null,
            "grid_template_columns": null,
            "grid_template_rows": null,
            "height": null,
            "justify_content": null,
            "justify_items": null,
            "left": null,
            "margin": null,
            "max_height": null,
            "max_width": null,
            "min_height": null,
            "min_width": null,
            "object_fit": null,
            "object_position": null,
            "order": null,
            "overflow": null,
            "overflow_x": null,
            "overflow_y": null,
            "padding": null,
            "right": null,
            "top": null,
            "visibility": null,
            "width": null
          }
        },
        "05e945ec24674befa41849c6ab4ec130": {
          "model_module": "@jupyter-widgets/base",
          "model_name": "LayoutModel",
          "model_module_version": "1.2.0",
          "state": {
            "_model_module": "@jupyter-widgets/base",
            "_model_module_version": "1.2.0",
            "_model_name": "LayoutModel",
            "_view_count": null,
            "_view_module": "@jupyter-widgets/base",
            "_view_module_version": "1.2.0",
            "_view_name": "LayoutView",
            "align_content": null,
            "align_items": null,
            "align_self": null,
            "border": null,
            "bottom": null,
            "display": null,
            "flex": null,
            "flex_flow": null,
            "grid_area": null,
            "grid_auto_columns": null,
            "grid_auto_flow": null,
            "grid_auto_rows": null,
            "grid_column": null,
            "grid_gap": null,
            "grid_row": null,
            "grid_template_areas": null,
            "grid_template_columns": null,
            "grid_template_rows": null,
            "height": null,
            "justify_content": null,
            "justify_items": null,
            "left": null,
            "margin": null,
            "max_height": null,
            "max_width": null,
            "min_height": null,
            "min_width": null,
            "object_fit": null,
            "object_position": null,
            "order": null,
            "overflow": null,
            "overflow_x": null,
            "overflow_y": null,
            "padding": null,
            "right": null,
            "top": null,
            "visibility": null,
            "width": null
          }
        },
        "fa08eadf968b409f9a7560b343152e2b": {
          "model_module": "@jupyter-widgets/controls",
          "model_name": "DescriptionStyleModel",
          "model_module_version": "1.5.0",
          "state": {
            "_model_module": "@jupyter-widgets/controls",
            "_model_module_version": "1.5.0",
            "_model_name": "DescriptionStyleModel",
            "_view_count": null,
            "_view_module": "@jupyter-widgets/base",
            "_view_module_version": "1.2.0",
            "_view_name": "StyleView",
            "description_width": ""
          }
        },
        "91ffd5fc89424df58406868f63d7ef71": {
          "model_module": "@jupyter-widgets/base",
          "model_name": "LayoutModel",
          "model_module_version": "1.2.0",
          "state": {
            "_model_module": "@jupyter-widgets/base",
            "_model_module_version": "1.2.0",
            "_model_name": "LayoutModel",
            "_view_count": null,
            "_view_module": "@jupyter-widgets/base",
            "_view_module_version": "1.2.0",
            "_view_name": "LayoutView",
            "align_content": null,
            "align_items": null,
            "align_self": null,
            "border": null,
            "bottom": null,
            "display": null,
            "flex": null,
            "flex_flow": null,
            "grid_area": null,
            "grid_auto_columns": null,
            "grid_auto_flow": null,
            "grid_auto_rows": null,
            "grid_column": null,
            "grid_gap": null,
            "grid_row": null,
            "grid_template_areas": null,
            "grid_template_columns": null,
            "grid_template_rows": null,
            "height": null,
            "justify_content": null,
            "justify_items": null,
            "left": null,
            "margin": null,
            "max_height": null,
            "max_width": null,
            "min_height": null,
            "min_width": null,
            "object_fit": null,
            "object_position": null,
            "order": null,
            "overflow": null,
            "overflow_x": null,
            "overflow_y": null,
            "padding": null,
            "right": null,
            "top": null,
            "visibility": null,
            "width": null
          }
        },
        "f1e039076c924ec588622d41418794f2": {
          "model_module": "@jupyter-widgets/controls",
          "model_name": "HBoxModel",
          "model_module_version": "1.5.0",
          "state": {
            "_dom_classes": [],
            "_model_module": "@jupyter-widgets/controls",
            "_model_module_version": "1.5.0",
            "_model_name": "HBoxModel",
            "_view_count": null,
            "_view_module": "@jupyter-widgets/controls",
            "_view_module_version": "1.5.0",
            "_view_name": "HBoxView",
            "box_style": "",
            "children": [
              "IPY_MODEL_0d8e2ebb1e194535af043d47245343a7",
              "IPY_MODEL_ae9a93774c724d58ba8b5dbc9da1d4ea",
              "IPY_MODEL_22993f19e03047408741e032f681f38a"
            ],
            "layout": "IPY_MODEL_69ef6db8e729490698341f6bbf4cc964"
          }
        },
        "0d8e2ebb1e194535af043d47245343a7": {
          "model_module": "@jupyter-widgets/controls",
          "model_name": "HTMLModel",
          "model_module_version": "1.5.0",
          "state": {
            "_dom_classes": [],
            "_model_module": "@jupyter-widgets/controls",
            "_model_module_version": "1.5.0",
            "_model_name": "HTMLModel",
            "_view_count": null,
            "_view_module": "@jupyter-widgets/controls",
            "_view_module_version": "1.5.0",
            "_view_name": "HTMLView",
            "description": "",
            "description_tooltip": null,
            "layout": "IPY_MODEL_c3fc57d707ca48dc81917fc9c52d8a0b",
            "placeholder": "​",
            "style": "IPY_MODEL_226e63e63f0c4dd9812f89b532cb9bec",
            "value": "replaying log with TBR, completed variants :: 100%"
          }
        },
        "ae9a93774c724d58ba8b5dbc9da1d4ea": {
          "model_module": "@jupyter-widgets/controls",
          "model_name": "FloatProgressModel",
          "model_module_version": "1.5.0",
          "state": {
            "_dom_classes": [],
            "_model_module": "@jupyter-widgets/controls",
            "_model_module_version": "1.5.0",
            "_model_name": "FloatProgressModel",
            "_view_count": null,
            "_view_module": "@jupyter-widgets/controls",
            "_view_module_version": "1.5.0",
            "_view_name": "ProgressView",
            "bar_style": "success",
            "description": "",
            "description_tooltip": null,
            "layout": "IPY_MODEL_b1ba9cab737e48d6890395266a7b2deb",
            "max": 15,
            "min": 0,
            "orientation": "horizontal",
            "style": "IPY_MODEL_eac959f626774d12a1d2aaff2621f8ba",
            "value": 15
          }
        },
        "22993f19e03047408741e032f681f38a": {
          "model_module": "@jupyter-widgets/controls",
          "model_name": "HTMLModel",
          "model_module_version": "1.5.0",
          "state": {
            "_dom_classes": [],
            "_model_module": "@jupyter-widgets/controls",
            "_model_module_version": "1.5.0",
            "_model_name": "HTMLModel",
            "_view_count": null,
            "_view_module": "@jupyter-widgets/controls",
            "_view_module_version": "1.5.0",
            "_view_name": "HTMLView",
            "description": "",
            "description_tooltip": null,
            "layout": "IPY_MODEL_8b978367df664aab9f029eaccfc0daac",
            "placeholder": "​",
            "style": "IPY_MODEL_a503b9cec67f4961b0251c2fceb3ce08",
            "value": " 15/15 [00:00&lt;00:00, 348.13it/s]"
          }
        },
        "69ef6db8e729490698341f6bbf4cc964": {
          "model_module": "@jupyter-widgets/base",
          "model_name": "LayoutModel",
          "model_module_version": "1.2.0",
          "state": {
            "_model_module": "@jupyter-widgets/base",
            "_model_module_version": "1.2.0",
            "_model_name": "LayoutModel",
            "_view_count": null,
            "_view_module": "@jupyter-widgets/base",
            "_view_module_version": "1.2.0",
            "_view_name": "LayoutView",
            "align_content": null,
            "align_items": null,
            "align_self": null,
            "border": null,
            "bottom": null,
            "display": null,
            "flex": null,
            "flex_flow": null,
            "grid_area": null,
            "grid_auto_columns": null,
            "grid_auto_flow": null,
            "grid_auto_rows": null,
            "grid_column": null,
            "grid_gap": null,
            "grid_row": null,
            "grid_template_areas": null,
            "grid_template_columns": null,
            "grid_template_rows": null,
            "height": null,
            "justify_content": null,
            "justify_items": null,
            "left": null,
            "margin": null,
            "max_height": null,
            "max_width": null,
            "min_height": null,
            "min_width": null,
            "object_fit": null,
            "object_position": null,
            "order": null,
            "overflow": null,
            "overflow_x": null,
            "overflow_y": null,
            "padding": null,
            "right": null,
            "top": null,
            "visibility": null,
            "width": null
          }
        },
        "c3fc57d707ca48dc81917fc9c52d8a0b": {
          "model_module": "@jupyter-widgets/base",
          "model_name": "LayoutModel",
          "model_module_version": "1.2.0",
          "state": {
            "_model_module": "@jupyter-widgets/base",
            "_model_module_version": "1.2.0",
            "_model_name": "LayoutModel",
            "_view_count": null,
            "_view_module": "@jupyter-widgets/base",
            "_view_module_version": "1.2.0",
            "_view_name": "LayoutView",
            "align_content": null,
            "align_items": null,
            "align_self": null,
            "border": null,
            "bottom": null,
            "display": null,
            "flex": null,
            "flex_flow": null,
            "grid_area": null,
            "grid_auto_columns": null,
            "grid_auto_flow": null,
            "grid_auto_rows": null,
            "grid_column": null,
            "grid_gap": null,
            "grid_row": null,
            "grid_template_areas": null,
            "grid_template_columns": null,
            "grid_template_rows": null,
            "height": null,
            "justify_content": null,
            "justify_items": null,
            "left": null,
            "margin": null,
            "max_height": null,
            "max_width": null,
            "min_height": null,
            "min_width": null,
            "object_fit": null,
            "object_position": null,
            "order": null,
            "overflow": null,
            "overflow_x": null,
            "overflow_y": null,
            "padding": null,
            "right": null,
            "top": null,
            "visibility": null,
            "width": null
          }
        },
        "226e63e63f0c4dd9812f89b532cb9bec": {
          "model_module": "@jupyter-widgets/controls",
          "model_name": "DescriptionStyleModel",
          "model_module_version": "1.5.0",
          "state": {
            "_model_module": "@jupyter-widgets/controls",
            "_model_module_version": "1.5.0",
            "_model_name": "DescriptionStyleModel",
            "_view_count": null,
            "_view_module": "@jupyter-widgets/base",
            "_view_module_version": "1.2.0",
            "_view_name": "StyleView",
            "description_width": ""
          }
        },
        "b1ba9cab737e48d6890395266a7b2deb": {
          "model_module": "@jupyter-widgets/base",
          "model_name": "LayoutModel",
          "model_module_version": "1.2.0",
          "state": {
            "_model_module": "@jupyter-widgets/base",
            "_model_module_version": "1.2.0",
            "_model_name": "LayoutModel",
            "_view_count": null,
            "_view_module": "@jupyter-widgets/base",
            "_view_module_version": "1.2.0",
            "_view_name": "LayoutView",
            "align_content": null,
            "align_items": null,
            "align_self": null,
            "border": null,
            "bottom": null,
            "display": null,
            "flex": null,
            "flex_flow": null,
            "grid_area": null,
            "grid_auto_columns": null,
            "grid_auto_flow": null,
            "grid_auto_rows": null,
            "grid_column": null,
            "grid_gap": null,
            "grid_row": null,
            "grid_template_areas": null,
            "grid_template_columns": null,
            "grid_template_rows": null,
            "height": null,
            "justify_content": null,
            "justify_items": null,
            "left": null,
            "margin": null,
            "max_height": null,
            "max_width": null,
            "min_height": null,
            "min_width": null,
            "object_fit": null,
            "object_position": null,
            "order": null,
            "overflow": null,
            "overflow_x": null,
            "overflow_y": null,
            "padding": null,
            "right": null,
            "top": null,
            "visibility": null,
            "width": null
          }
        },
        "eac959f626774d12a1d2aaff2621f8ba": {
          "model_module": "@jupyter-widgets/controls",
          "model_name": "ProgressStyleModel",
          "model_module_version": "1.5.0",
          "state": {
            "_model_module": "@jupyter-widgets/controls",
            "_model_module_version": "1.5.0",
            "_model_name": "ProgressStyleModel",
            "_view_count": null,
            "_view_module": "@jupyter-widgets/base",
            "_view_module_version": "1.2.0",
            "_view_name": "StyleView",
            "bar_color": null,
            "description_width": ""
          }
        },
        "8b978367df664aab9f029eaccfc0daac": {
          "model_module": "@jupyter-widgets/base",
          "model_name": "LayoutModel",
          "model_module_version": "1.2.0",
          "state": {
            "_model_module": "@jupyter-widgets/base",
            "_model_module_version": "1.2.0",
            "_model_name": "LayoutModel",
            "_view_count": null,
            "_view_module": "@jupyter-widgets/base",
            "_view_module_version": "1.2.0",
            "_view_name": "LayoutView",
            "align_content": null,
            "align_items": null,
            "align_self": null,
            "border": null,
            "bottom": null,
            "display": null,
            "flex": null,
            "flex_flow": null,
            "grid_area": null,
            "grid_auto_columns": null,
            "grid_auto_flow": null,
            "grid_auto_rows": null,
            "grid_column": null,
            "grid_gap": null,
            "grid_row": null,
            "grid_template_areas": null,
            "grid_template_columns": null,
            "grid_template_rows": null,
            "height": null,
            "justify_content": null,
            "justify_items": null,
            "left": null,
            "margin": null,
            "max_height": null,
            "max_width": null,
            "min_height": null,
            "min_width": null,
            "object_fit": null,
            "object_position": null,
            "order": null,
            "overflow": null,
            "overflow_x": null,
            "overflow_y": null,
            "padding": null,
            "right": null,
            "top": null,
            "visibility": null,
            "width": null
          }
        },
        "a503b9cec67f4961b0251c2fceb3ce08": {
          "model_module": "@jupyter-widgets/controls",
          "model_name": "DescriptionStyleModel",
          "model_module_version": "1.5.0",
          "state": {
            "_model_module": "@jupyter-widgets/controls",
            "_model_module_version": "1.5.0",
            "_model_name": "DescriptionStyleModel",
            "_view_count": null,
            "_view_module": "@jupyter-widgets/base",
            "_view_module_version": "1.2.0",
            "_view_name": "StyleView",
            "description_width": ""
          }
        },
        "40408a1f010544ed9f98bb43530603c8": {
          "model_module": "@jupyter-widgets/controls",
          "model_name": "HBoxModel",
          "model_module_version": "1.5.0",
          "state": {
            "_dom_classes": [],
            "_model_module": "@jupyter-widgets/controls",
            "_model_module_version": "1.5.0",
            "_model_name": "HBoxModel",
            "_view_count": null,
            "_view_module": "@jupyter-widgets/controls",
            "_view_module_version": "1.5.0",
            "_view_name": "HBoxView",
            "box_style": "",
            "children": [
              "IPY_MODEL_9b0c55e63d72457dacf83c9b3135960b",
              "IPY_MODEL_5b4f005af6414c25b650d849b61c7faf",
              "IPY_MODEL_821675cf6cc84dfe86280e33eecb1e58"
            ],
            "layout": "IPY_MODEL_f246a0f9ac3a4196bc978a7954707ce9"
          }
        },
        "9b0c55e63d72457dacf83c9b3135960b": {
          "model_module": "@jupyter-widgets/controls",
          "model_name": "HTMLModel",
          "model_module_version": "1.5.0",
          "state": {
            "_dom_classes": [],
            "_model_module": "@jupyter-widgets/controls",
            "_model_module_version": "1.5.0",
            "_model_name": "HTMLModel",
            "_view_count": null,
            "_view_module": "@jupyter-widgets/controls",
            "_view_module_version": "1.5.0",
            "_view_name": "HTMLView",
            "description": "",
            "description_tooltip": null,
            "layout": "IPY_MODEL_ee290e7b1f3f4fabb015014e9e22235f",
            "placeholder": "​",
            "style": "IPY_MODEL_cdc2a28d1f7245ecbca7a118628776d3",
            "value": "replaying log with TBR, completed variants :: 100%"
          }
        },
        "5b4f005af6414c25b650d849b61c7faf": {
          "model_module": "@jupyter-widgets/controls",
          "model_name": "FloatProgressModel",
          "model_module_version": "1.5.0",
          "state": {
            "_dom_classes": [],
            "_model_module": "@jupyter-widgets/controls",
            "_model_module_version": "1.5.0",
            "_model_name": "FloatProgressModel",
            "_view_count": null,
            "_view_module": "@jupyter-widgets/controls",
            "_view_module_version": "1.5.0",
            "_view_name": "ProgressView",
            "bar_style": "success",
            "description": "",
            "description_tooltip": null,
            "layout": "IPY_MODEL_3c99a1737759492a938100d02847c495",
            "max": 15,
            "min": 0,
            "orientation": "horizontal",
            "style": "IPY_MODEL_cc9dea9056e24c68b4adaf4dc010ff1c",
            "value": 15
          }
        },
        "821675cf6cc84dfe86280e33eecb1e58": {
          "model_module": "@jupyter-widgets/controls",
          "model_name": "HTMLModel",
          "model_module_version": "1.5.0",
          "state": {
            "_dom_classes": [],
            "_model_module": "@jupyter-widgets/controls",
            "_model_module_version": "1.5.0",
            "_model_name": "HTMLModel",
            "_view_count": null,
            "_view_module": "@jupyter-widgets/controls",
            "_view_module_version": "1.5.0",
            "_view_name": "HTMLView",
            "description": "",
            "description_tooltip": null,
            "layout": "IPY_MODEL_40443e2084344b32815baabfcd4586c9",
            "placeholder": "​",
            "style": "IPY_MODEL_b8853f7121a14c8b82c63bcf96b5bea7",
            "value": " 15/15 [00:00&lt;00:00, 243.30it/s]"
          }
        },
        "f246a0f9ac3a4196bc978a7954707ce9": {
          "model_module": "@jupyter-widgets/base",
          "model_name": "LayoutModel",
          "model_module_version": "1.2.0",
          "state": {
            "_model_module": "@jupyter-widgets/base",
            "_model_module_version": "1.2.0",
            "_model_name": "LayoutModel",
            "_view_count": null,
            "_view_module": "@jupyter-widgets/base",
            "_view_module_version": "1.2.0",
            "_view_name": "LayoutView",
            "align_content": null,
            "align_items": null,
            "align_self": null,
            "border": null,
            "bottom": null,
            "display": null,
            "flex": null,
            "flex_flow": null,
            "grid_area": null,
            "grid_auto_columns": null,
            "grid_auto_flow": null,
            "grid_auto_rows": null,
            "grid_column": null,
            "grid_gap": null,
            "grid_row": null,
            "grid_template_areas": null,
            "grid_template_columns": null,
            "grid_template_rows": null,
            "height": null,
            "justify_content": null,
            "justify_items": null,
            "left": null,
            "margin": null,
            "max_height": null,
            "max_width": null,
            "min_height": null,
            "min_width": null,
            "object_fit": null,
            "object_position": null,
            "order": null,
            "overflow": null,
            "overflow_x": null,
            "overflow_y": null,
            "padding": null,
            "right": null,
            "top": null,
            "visibility": null,
            "width": null
          }
        },
        "ee290e7b1f3f4fabb015014e9e22235f": {
          "model_module": "@jupyter-widgets/base",
          "model_name": "LayoutModel",
          "model_module_version": "1.2.0",
          "state": {
            "_model_module": "@jupyter-widgets/base",
            "_model_module_version": "1.2.0",
            "_model_name": "LayoutModel",
            "_view_count": null,
            "_view_module": "@jupyter-widgets/base",
            "_view_module_version": "1.2.0",
            "_view_name": "LayoutView",
            "align_content": null,
            "align_items": null,
            "align_self": null,
            "border": null,
            "bottom": null,
            "display": null,
            "flex": null,
            "flex_flow": null,
            "grid_area": null,
            "grid_auto_columns": null,
            "grid_auto_flow": null,
            "grid_auto_rows": null,
            "grid_column": null,
            "grid_gap": null,
            "grid_row": null,
            "grid_template_areas": null,
            "grid_template_columns": null,
            "grid_template_rows": null,
            "height": null,
            "justify_content": null,
            "justify_items": null,
            "left": null,
            "margin": null,
            "max_height": null,
            "max_width": null,
            "min_height": null,
            "min_width": null,
            "object_fit": null,
            "object_position": null,
            "order": null,
            "overflow": null,
            "overflow_x": null,
            "overflow_y": null,
            "padding": null,
            "right": null,
            "top": null,
            "visibility": null,
            "width": null
          }
        },
        "cdc2a28d1f7245ecbca7a118628776d3": {
          "model_module": "@jupyter-widgets/controls",
          "model_name": "DescriptionStyleModel",
          "model_module_version": "1.5.0",
          "state": {
            "_model_module": "@jupyter-widgets/controls",
            "_model_module_version": "1.5.0",
            "_model_name": "DescriptionStyleModel",
            "_view_count": null,
            "_view_module": "@jupyter-widgets/base",
            "_view_module_version": "1.2.0",
            "_view_name": "StyleView",
            "description_width": ""
          }
        },
        "3c99a1737759492a938100d02847c495": {
          "model_module": "@jupyter-widgets/base",
          "model_name": "LayoutModel",
          "model_module_version": "1.2.0",
          "state": {
            "_model_module": "@jupyter-widgets/base",
            "_model_module_version": "1.2.0",
            "_model_name": "LayoutModel",
            "_view_count": null,
            "_view_module": "@jupyter-widgets/base",
            "_view_module_version": "1.2.0",
            "_view_name": "LayoutView",
            "align_content": null,
            "align_items": null,
            "align_self": null,
            "border": null,
            "bottom": null,
            "display": null,
            "flex": null,
            "flex_flow": null,
            "grid_area": null,
            "grid_auto_columns": null,
            "grid_auto_flow": null,
            "grid_auto_rows": null,
            "grid_column": null,
            "grid_gap": null,
            "grid_row": null,
            "grid_template_areas": null,
            "grid_template_columns": null,
            "grid_template_rows": null,
            "height": null,
            "justify_content": null,
            "justify_items": null,
            "left": null,
            "margin": null,
            "max_height": null,
            "max_width": null,
            "min_height": null,
            "min_width": null,
            "object_fit": null,
            "object_position": null,
            "order": null,
            "overflow": null,
            "overflow_x": null,
            "overflow_y": null,
            "padding": null,
            "right": null,
            "top": null,
            "visibility": null,
            "width": null
          }
        },
        "cc9dea9056e24c68b4adaf4dc010ff1c": {
          "model_module": "@jupyter-widgets/controls",
          "model_name": "ProgressStyleModel",
          "model_module_version": "1.5.0",
          "state": {
            "_model_module": "@jupyter-widgets/controls",
            "_model_module_version": "1.5.0",
            "_model_name": "ProgressStyleModel",
            "_view_count": null,
            "_view_module": "@jupyter-widgets/base",
            "_view_module_version": "1.2.0",
            "_view_name": "StyleView",
            "bar_color": null,
            "description_width": ""
          }
        },
        "40443e2084344b32815baabfcd4586c9": {
          "model_module": "@jupyter-widgets/base",
          "model_name": "LayoutModel",
          "model_module_version": "1.2.0",
          "state": {
            "_model_module": "@jupyter-widgets/base",
            "_model_module_version": "1.2.0",
            "_model_name": "LayoutModel",
            "_view_count": null,
            "_view_module": "@jupyter-widgets/base",
            "_view_module_version": "1.2.0",
            "_view_name": "LayoutView",
            "align_content": null,
            "align_items": null,
            "align_self": null,
            "border": null,
            "bottom": null,
            "display": null,
            "flex": null,
            "flex_flow": null,
            "grid_area": null,
            "grid_auto_columns": null,
            "grid_auto_flow": null,
            "grid_auto_rows": null,
            "grid_column": null,
            "grid_gap": null,
            "grid_row": null,
            "grid_template_areas": null,
            "grid_template_columns": null,
            "grid_template_rows": null,
            "height": null,
            "justify_content": null,
            "justify_items": null,
            "left": null,
            "margin": null,
            "max_height": null,
            "max_width": null,
            "min_height": null,
            "min_width": null,
            "object_fit": null,
            "object_position": null,
            "order": null,
            "overflow": null,
            "overflow_x": null,
            "overflow_y": null,
            "padding": null,
            "right": null,
            "top": null,
            "visibility": null,
            "width": null
          }
        },
        "b8853f7121a14c8b82c63bcf96b5bea7": {
          "model_module": "@jupyter-widgets/controls",
          "model_name": "DescriptionStyleModel",
          "model_module_version": "1.5.0",
          "state": {
            "_model_module": "@jupyter-widgets/controls",
            "_model_module_version": "1.5.0",
            "_model_name": "DescriptionStyleModel",
            "_view_count": null,
            "_view_module": "@jupyter-widgets/base",
            "_view_module_version": "1.2.0",
            "_view_name": "StyleView",
            "description_width": ""
          }
        }
      }
    }
  },
  "nbformat": 4,
  "nbformat_minor": 0
}